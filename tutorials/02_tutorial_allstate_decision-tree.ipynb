{
 "cells": [
  {
   "cell_type": "code",
   "execution_count": 1,
   "id": "lucky-character",
   "metadata": {},
   "outputs": [
    {
     "name": "stderr",
     "output_type": "stream",
     "text": [
      "WARNING:root:No module named 'tensorflow': AdversarialDebiasing will be unavailable. To install, run:\n",
      "pip install 'aif360[AdversarialDebiasing]'\n",
      "WARNING:root:No module named 'numba.decorators': LFR will be unavailable. To install, run:\n",
      "pip install 'aif360[LFR]'\n"
     ]
    }
   ],
   "source": [
    "import pandas as pd\n",
    "import numpy as np\n",
    "\n",
    "import matplotlib.pylab as plt\n",
    "import seaborn as sns\n",
    "\n",
    "from sklearn.utils import resample\n",
    "\n",
    "from aif360.datasets import BinaryLabelDataset\n",
    "from aif360.metrics import BinaryLabelDatasetMetric, ClassificationMetric\n",
    "from aif360.explainers import MetricTextExplainer, MetricJSONExplainer\n",
    "from aif360.algorithms.preprocessing.reweighing import Reweighing\n",
    "\n",
    "import json\n",
    "\n",
    "from sklearn.preprocessing import StandardScaler, scale\n",
    "from sklearn.tree import DecisionTreeClassifier, plot_tree\n",
    "from sklearn.ensemble import RandomForestClassifier\n",
    "from sklearn.metrics import accuracy_score, balanced_accuracy_score, precision_score, recall_score\n",
    "\n",
    "from IPython.display import Markdown, display\n",
    "from tqdm import tqdm\n",
    "\n",
    "import warnings\n",
    "warnings.filterwarnings('ignore')"
   ]
  },
  {
   "cell_type": "markdown",
   "id": "hungry-public",
   "metadata": {},
   "source": [
    "<a id='main'></a>"
   ]
  },
  {
   "cell_type": "markdown",
   "id": "abroad-checklist",
   "metadata": {},
   "source": [
    "### Steps in the Data Science Pipeline\n",
    "\n",
    "1. Data Preparation  \n",
    "    a. [Allstate datasets](#allstate_datasets)  \n",
    "    b. [American Community Survey (ACS) dataset](#acs_dataset)\n",
    "2. [Exploratory Data Analysis](#data_expo)  \n",
    "    a. [Relationships with Change in Premium](#change_in_prem)  \n",
    "    b. [Distribution of Change in Premium by Risk Group](#risk_grp)\n",
    "3. [Features Engineering](#features)  \n",
    "    a. [Upsample for modelling dataset](#upsample)\n",
    "4. Bias Detection and Mitigation  \n",
    "    a. [Bias Detection](#find_bias)  \n",
    "    b. [Bias Mitigation](#fix_bias)  \n",
    "5. [Modelling](#data_model)  \n",
    "    a. [Optimize features](#optimize_features)\n",
    "6. [Tradeoffs](#tradeoffs)"
   ]
  },
  {
   "cell_type": "markdown",
   "id": "advanced-eleven",
   "metadata": {},
   "source": [
    "<a id='allstate_datasets'></a>"
   ]
  },
  {
   "cell_type": "markdown",
   "id": "presidential-wings",
   "metadata": {},
   "source": [
    "### 1. Data Preparation"
   ]
  },
  {
   "cell_type": "markdown",
   "id": "verbal-maker",
   "metadata": {},
   "source": [
    "Source: https://github.com/the-markup/investigation-allstates-algorithm/tree/master/data/csv"
   ]
  },
  {
   "cell_type": "markdown",
   "id": "second-performance",
   "metadata": {},
   "source": [
    "### 1a. Allstate datasets"
   ]
  },
  {
   "cell_type": "code",
   "execution_count": 2,
   "id": "sapphire-appointment",
   "metadata": {},
   "outputs": [],
   "source": [
    "df1 = pd.read_csv('../data/allstate/cgr-premiums-table.csv')"
   ]
  },
  {
   "cell_type": "code",
   "execution_count": 3,
   "id": "romantic-eclipse",
   "metadata": {},
   "outputs": [],
   "source": [
    "df2 = pd.read_csv('../data/allstate/territory-definitions-table.csv')"
   ]
  },
  {
   "cell_type": "code",
   "execution_count": 4,
   "id": "coordinate-attachment",
   "metadata": {},
   "outputs": [],
   "source": [
    "# remove dupe territories\n",
    "df2 = df2[~df2['territory'].duplicated()].copy()"
   ]
  },
  {
   "cell_type": "code",
   "execution_count": 5,
   "id": "heard-poster",
   "metadata": {},
   "outputs": [],
   "source": [
    "df2.reset_index(drop=True, inplace=True)"
   ]
  },
  {
   "cell_type": "code",
   "execution_count": 6,
   "id": "increased-influence",
   "metadata": {
    "scrolled": true
   },
   "outputs": [],
   "source": [
    "df = df1.merge(df2, on='territory', suffixes=('', ''))"
   ]
  },
  {
   "cell_type": "code",
   "execution_count": 7,
   "id": "guided-genome",
   "metadata": {},
   "outputs": [
    {
     "data": {
      "text/plain": [
       "(92792, 17)"
      ]
     },
     "execution_count": 7,
     "metadata": {},
     "output_type": "execute_result"
    }
   ],
   "source": [
    "df.shape"
   ]
  },
  {
   "cell_type": "markdown",
   "id": "floppy-climb",
   "metadata": {},
   "source": [
    "<a id='acs_dataset'></a>"
   ]
  },
  {
   "cell_type": "markdown",
   "id": "filled-packing",
   "metadata": {},
   "source": [
    "[Go to top](#main)"
   ]
  },
  {
   "cell_type": "markdown",
   "id": "collectible-ancient",
   "metadata": {},
   "source": [
    "### 1b. ACS dataset"
   ]
  },
  {
   "cell_type": "code",
   "execution_count": 8,
   "id": "continent-flash",
   "metadata": {},
   "outputs": [],
   "source": [
    "# get demographics\n",
    "df3 = pd.read_csv('../data/allstate/ACS_MD_15_5YR_DP05.csv')"
   ]
  },
  {
   "cell_type": "code",
   "execution_count": 9,
   "id": "present-citizen",
   "metadata": {},
   "outputs": [],
   "source": [
    "df3['population'] = df3['HC01_VC88'] + df3['HC01_VC94'] + df3['HC01_VC95'] + df3['HC01_VC96'] + df3['HC01_VC97'] + df3['HC01_VC98'] + df3['HC01_VC99']"
   ]
  },
  {
   "cell_type": "code",
   "execution_count": 10,
   "id": "cooked-spouse",
   "metadata": {},
   "outputs": [],
   "source": [
    "df3['perc_nonwhite'] = 100 * (df3['population'] - df3['HC01_VC94']) / df3['population']"
   ]
  },
  {
   "cell_type": "code",
   "execution_count": 11,
   "id": "emotional-bonus",
   "metadata": {},
   "outputs": [],
   "source": [
    "# remove missing data\n",
    "df3 = df3[~df3['perc_nonwhite'].isna()].copy()"
   ]
  },
  {
   "cell_type": "code",
   "execution_count": 12,
   "id": "offshore-latest",
   "metadata": {
    "scrolled": true
   },
   "outputs": [],
   "source": [
    "df3['majority_minority'] = df3['perc_nonwhite'] > 0.75"
   ]
  },
  {
   "cell_type": "code",
   "execution_count": 13,
   "id": "confirmed-while",
   "metadata": {},
   "outputs": [],
   "source": [
    "df3 = df3[['GEO.id2', 'population', 'perc_nonwhite', 'majority_minority']].copy()"
   ]
  },
  {
   "cell_type": "code",
   "execution_count": 14,
   "id": "unauthorized-mistress",
   "metadata": {
    "scrolled": true
   },
   "outputs": [],
   "source": [
    "df = df.merge(df3, left_on='zipcode', right_on='GEO.id2')"
   ]
  },
  {
   "cell_type": "code",
   "execution_count": 15,
   "id": "headed-literature",
   "metadata": {},
   "outputs": [
    {
     "data": {
      "text/plain": [
       "(92786, 21)"
      ]
     },
     "execution_count": 15,
     "metadata": {},
     "output_type": "execute_result"
    }
   ],
   "source": [
    "# NOTE: lost 5 policyholders w/ a match\n",
    "df.shape"
   ]
  },
  {
   "cell_type": "code",
   "execution_count": 16,
   "id": "nonprofit-plant",
   "metadata": {},
   "outputs": [
    {
     "data": {
      "text/html": [
       "<div>\n",
       "<style scoped>\n",
       "    .dataframe tbody tr th:only-of-type {\n",
       "        vertical-align: middle;\n",
       "    }\n",
       "\n",
       "    .dataframe tbody tr th {\n",
       "        vertical-align: top;\n",
       "    }\n",
       "\n",
       "    .dataframe thead th {\n",
       "        text-align: right;\n",
       "    }\n",
       "</style>\n",
       "<table border=\"1\" class=\"dataframe\">\n",
       "  <thead>\n",
       "    <tr style=\"text-align: right;\">\n",
       "      <th></th>\n",
       "      <th>territory</th>\n",
       "      <th>gender</th>\n",
       "      <th>birthdate</th>\n",
       "      <th>ypc</th>\n",
       "      <th>current_premium</th>\n",
       "      <th>indicated_premium</th>\n",
       "      <th>selected_premium</th>\n",
       "      <th>underlying_premium</th>\n",
       "      <th>fixed_expenses</th>\n",
       "      <th>underlying_total_premium</th>\n",
       "      <th>...</th>\n",
       "      <th>cgr</th>\n",
       "      <th>county</th>\n",
       "      <th>county_code</th>\n",
       "      <th>zipcode</th>\n",
       "      <th>town</th>\n",
       "      <th>area</th>\n",
       "      <th>GEO.id2</th>\n",
       "      <th>population</th>\n",
       "      <th>perc_nonwhite</th>\n",
       "      <th>majority_minority</th>\n",
       "    </tr>\n",
       "  </thead>\n",
       "  <tbody>\n",
       "    <tr>\n",
       "      <th>0</th>\n",
       "      <td>601</td>\n",
       "      <td>M</td>\n",
       "      <td>10/5/1947</td>\n",
       "      <td>0</td>\n",
       "      <td>863.97</td>\n",
       "      <td>830.58</td>\n",
       "      <td>862.57</td>\n",
       "      <td>673.06</td>\n",
       "      <td>175.98</td>\n",
       "      <td>849.04</td>\n",
       "      <td>...</td>\n",
       "      <td>ZHK</td>\n",
       "      <td>CHARLES</td>\n",
       "      <td>8</td>\n",
       "      <td>20601</td>\n",
       "      <td>WALDORF</td>\n",
       "      <td>210</td>\n",
       "      <td>20601</td>\n",
       "      <td>24233</td>\n",
       "      <td>58.758717</td>\n",
       "      <td>True</td>\n",
       "    </tr>\n",
       "    <tr>\n",
       "      <th>1</th>\n",
       "      <td>601</td>\n",
       "      <td>F</td>\n",
       "      <td>7/6/1953</td>\n",
       "      <td>0</td>\n",
       "      <td>828.63</td>\n",
       "      <td>611.14</td>\n",
       "      <td>826.43</td>\n",
       "      <td>612.75</td>\n",
       "      <td>175.98</td>\n",
       "      <td>788.73</td>\n",
       "      <td>...</td>\n",
       "      <td>6NS</td>\n",
       "      <td>CHARLES</td>\n",
       "      <td>8</td>\n",
       "      <td>20601</td>\n",
       "      <td>WALDORF</td>\n",
       "      <td>210</td>\n",
       "      <td>20601</td>\n",
       "      <td>24233</td>\n",
       "      <td>58.758717</td>\n",
       "      <td>True</td>\n",
       "    </tr>\n",
       "    <tr>\n",
       "      <th>2</th>\n",
       "      <td>601</td>\n",
       "      <td>M</td>\n",
       "      <td>4/18/1956</td>\n",
       "      <td>0</td>\n",
       "      <td>1000.59</td>\n",
       "      <td>593.99</td>\n",
       "      <td>996.60</td>\n",
       "      <td>858.20</td>\n",
       "      <td>175.98</td>\n",
       "      <td>1034.18</td>\n",
       "      <td>...</td>\n",
       "      <td>Z2D</td>\n",
       "      <td>CHARLES</td>\n",
       "      <td>8</td>\n",
       "      <td>20601</td>\n",
       "      <td>WALDORF</td>\n",
       "      <td>210</td>\n",
       "      <td>20601</td>\n",
       "      <td>24233</td>\n",
       "      <td>58.758717</td>\n",
       "      <td>True</td>\n",
       "    </tr>\n",
       "    <tr>\n",
       "      <th>3</th>\n",
       "      <td>601</td>\n",
       "      <td>F</td>\n",
       "      <td>8/16/1956</td>\n",
       "      <td>0</td>\n",
       "      <td>700.42</td>\n",
       "      <td>547.95</td>\n",
       "      <td>697.84</td>\n",
       "      <td>571.49</td>\n",
       "      <td>180.48</td>\n",
       "      <td>751.97</td>\n",
       "      <td>...</td>\n",
       "      <td>D7G</td>\n",
       "      <td>CHARLES</td>\n",
       "      <td>8</td>\n",
       "      <td>20601</td>\n",
       "      <td>WALDORF</td>\n",
       "      <td>210</td>\n",
       "      <td>20601</td>\n",
       "      <td>24233</td>\n",
       "      <td>58.758717</td>\n",
       "      <td>True</td>\n",
       "    </tr>\n",
       "    <tr>\n",
       "      <th>4</th>\n",
       "      <td>601</td>\n",
       "      <td>F</td>\n",
       "      <td>1/23/1957</td>\n",
       "      <td>0</td>\n",
       "      <td>505.92</td>\n",
       "      <td>448.33</td>\n",
       "      <td>504.56</td>\n",
       "      <td>333.71</td>\n",
       "      <td>152.08</td>\n",
       "      <td>485.79</td>\n",
       "      <td>...</td>\n",
       "      <td>3YN</td>\n",
       "      <td>CHARLES</td>\n",
       "      <td>8</td>\n",
       "      <td>20601</td>\n",
       "      <td>WALDORF</td>\n",
       "      <td>210</td>\n",
       "      <td>20601</td>\n",
       "      <td>24233</td>\n",
       "      <td>58.758717</td>\n",
       "      <td>True</td>\n",
       "    </tr>\n",
       "  </tbody>\n",
       "</table>\n",
       "<p>5 rows × 21 columns</p>\n",
       "</div>"
      ],
      "text/plain": [
       "   territory gender  birthdate  ypc  current_premium  indicated_premium  \\\n",
       "0        601      M  10/5/1947    0           863.97             830.58   \n",
       "1        601      F   7/6/1953    0           828.63             611.14   \n",
       "2        601      M  4/18/1956    0          1000.59             593.99   \n",
       "3        601      F  8/16/1956    0           700.42             547.95   \n",
       "4        601      F  1/23/1957    0           505.92             448.33   \n",
       "\n",
       "   selected_premium  underlying_premium  fixed_expenses  \\\n",
       "0            862.57              673.06          175.98   \n",
       "1            826.43              612.75          175.98   \n",
       "2            996.60              858.20          175.98   \n",
       "3            697.84              571.49          180.48   \n",
       "4            504.56              333.71          152.08   \n",
       "\n",
       "   underlying_total_premium  ...  cgr   county county_code  zipcode     town  \\\n",
       "0                    849.04  ...  ZHK  CHARLES           8    20601  WALDORF   \n",
       "1                    788.73  ...  6NS  CHARLES           8    20601  WALDORF   \n",
       "2                   1034.18  ...  Z2D  CHARLES           8    20601  WALDORF   \n",
       "3                    751.97  ...  D7G  CHARLES           8    20601  WALDORF   \n",
       "4                    485.79  ...  3YN  CHARLES           8    20601  WALDORF   \n",
       "\n",
       "  area  GEO.id2  population  perc_nonwhite  majority_minority  \n",
       "0  210    20601       24233      58.758717               True  \n",
       "1  210    20601       24233      58.758717               True  \n",
       "2  210    20601       24233      58.758717               True  \n",
       "3  210    20601       24233      58.758717               True  \n",
       "4  210    20601       24233      58.758717               True  \n",
       "\n",
       "[5 rows x 21 columns]"
      ]
     },
     "execution_count": 16,
     "metadata": {},
     "output_type": "execute_result"
    }
   ],
   "source": [
    "df.head()"
   ]
  },
  {
   "cell_type": "markdown",
   "id": "anonymous-notebook",
   "metadata": {},
   "source": [
    "<a id='data_expo'></a>"
   ]
  },
  {
   "cell_type": "markdown",
   "id": "competitive-couple",
   "metadata": {},
   "source": [
    "[Go to top](#main)"
   ]
  },
  {
   "cell_type": "markdown",
   "id": "fitted-albuquerque",
   "metadata": {},
   "source": [
    "### 2. Exploratory Data Analysis"
   ]
  },
  {
   "cell_type": "code",
   "execution_count": 17,
   "id": "sapphire-government",
   "metadata": {},
   "outputs": [],
   "source": [
    "# definitions\n",
    "# current premium ~ paying now\n",
    "# indicated premium (ideal price) ~ should be paying\n",
    "# selected premium (transition price) ~ retention-based (final premium)"
   ]
  },
  {
   "cell_type": "code",
   "execution_count": 18,
   "id": "colored-yesterday",
   "metadata": {},
   "outputs": [
    {
     "name": "stdout",
     "output_type": "stream",
     "text": [
      "<class 'pandas.core.frame.DataFrame'>\n",
      "Int64Index: 92786 entries, 0 to 92785\n",
      "Data columns (total 21 columns):\n",
      " #   Column                    Non-Null Count  Dtype  \n",
      "---  ------                    --------------  -----  \n",
      " 0   territory                 92786 non-null  int64  \n",
      " 1   gender                    92786 non-null  object \n",
      " 2   birthdate                 92786 non-null  object \n",
      " 3   ypc                       92786 non-null  int64  \n",
      " 4   current_premium           92786 non-null  float64\n",
      " 5   indicated_premium         92786 non-null  float64\n",
      " 6   selected_premium          92786 non-null  float64\n",
      " 7   underlying_premium        92786 non-null  float64\n",
      " 8   fixed_expenses            92786 non-null  float64\n",
      " 9   underlying_total_premium  92786 non-null  float64\n",
      " 10  cgr_factor                92786 non-null  float64\n",
      " 11  cgr                       92786 non-null  object \n",
      " 12  county                    92786 non-null  object \n",
      " 13  county_code               92786 non-null  int64  \n",
      " 14  zipcode                   92786 non-null  int64  \n",
      " 15  town                      92786 non-null  object \n",
      " 16  area                      92786 non-null  int64  \n",
      " 17  GEO.id2                   92786 non-null  int64  \n",
      " 18  population                92786 non-null  int64  \n",
      " 19  perc_nonwhite             92786 non-null  float64\n",
      " 20  majority_minority         92786 non-null  bool   \n",
      "dtypes: bool(1), float64(8), int64(7), object(5)\n",
      "memory usage: 15.0+ MB\n"
     ]
    }
   ],
   "source": [
    "df.info()"
   ]
  },
  {
   "cell_type": "code",
   "execution_count": 19,
   "id": "enclosed-massage",
   "metadata": {},
   "outputs": [],
   "source": [
    "today = pd.to_datetime('today').strftime('%m-%d-%Y')"
   ]
  },
  {
   "cell_type": "markdown",
   "id": "published-hybrid",
   "metadata": {},
   "source": [
    "#### Add Age"
   ]
  },
  {
   "cell_type": "code",
   "execution_count": 20,
   "id": "molecular-locator",
   "metadata": {
    "scrolled": true
   },
   "outputs": [],
   "source": [
    "df['age'] = pd.to_datetime(today) - pd.to_datetime(df['birthdate'])"
   ]
  },
  {
   "cell_type": "code",
   "execution_count": 21,
   "id": "acting-liabilities",
   "metadata": {},
   "outputs": [],
   "source": [
    "df['age'] = df['age'].dt.days / 365.2425"
   ]
  },
  {
   "cell_type": "code",
   "execution_count": 22,
   "id": "accurate-charlotte",
   "metadata": {},
   "outputs": [],
   "source": [
    "df['age_'] = df['age'].round().astype(int)"
   ]
  },
  {
   "cell_type": "markdown",
   "id": "ready-biology",
   "metadata": {},
   "source": [
    "#### Add Change in Premium"
   ]
  },
  {
   "cell_type": "code",
   "execution_count": 23,
   "id": "amazing-receipt",
   "metadata": {},
   "outputs": [],
   "source": [
    "df['change_in_premium'] = df['selected_premium'] - df['current_premium']"
   ]
  },
  {
   "cell_type": "code",
   "execution_count": 24,
   "id": "exotic-banks",
   "metadata": {},
   "outputs": [
    {
     "data": {
      "text/plain": [
       "<AxesSubplot:xlabel='current_premium', ylabel='change_in_premium'>"
      ]
     },
     "execution_count": 24,
     "metadata": {},
     "output_type": "execute_result"
    },
    {
     "data": {
      "image/png": "[encoded data removed]",
      "text/plain": [
       "<Figure size 432x288 with 1 Axes>"
      ]
     },
     "metadata": {
      "needs_background": "light"
     },
     "output_type": "display_data"
    }
   ],
   "source": [
    "# clearly a bifurcation around change in premium of $400\n",
    "sns.scatterplot(x='current_premium', y='change_in_premium', data=df)"
   ]
  },
  {
   "cell_type": "markdown",
   "id": "drawn-seller",
   "metadata": {},
   "source": [
    "#### Add Risk Group"
   ]
  },
  {
   "cell_type": "code",
   "execution_count": 25,
   "id": "opening-sociology",
   "metadata": {},
   "outputs": [],
   "source": [
    "# NOTE: two policies at 260.05\n",
    "df['risk_group'] = np.where(df['change_in_premium'] <= 260.05, 0, 1)"
   ]
  },
  {
   "cell_type": "code",
   "execution_count": 26,
   "id": "critical-night",
   "metadata": {
    "scrolled": true
   },
   "outputs": [],
   "source": [
    "df = df.join(pd.get_dummies(df['risk_group'], prefix='risk_group'))"
   ]
  },
  {
   "cell_type": "code",
   "execution_count": 27,
   "id": "subtle-composite",
   "metadata": {},
   "outputs": [
    {
     "data": {
      "text/plain": [
       "0    0.980223\n",
       "1    0.019777\n",
       "Name: risk_group, dtype: float64"
      ]
     },
     "execution_count": 27,
     "metadata": {},
     "output_type": "execute_result"
    }
   ],
   "source": [
    "df['risk_group'].value_counts(normalize=True)"
   ]
  },
  {
   "cell_type": "code",
   "execution_count": 28,
   "id": "patient-bulletin",
   "metadata": {
    "scrolled": false
   },
   "outputs": [
    {
     "data": {
      "image/png": "[encoded data removed]",
      "text/plain": [
       "<Figure size 576x432 with 1 Axes>"
      ]
     },
     "metadata": {
      "needs_background": "light"
     },
     "output_type": "display_data"
    }
   ],
   "source": [
    "# clearly a bifurcation around change in premium of $260.05\n",
    "plt.figure(figsize=(8,6))\n",
    "plt.xlim([0,8000])\n",
    "\n",
    "g = sns.scatterplot(x='current_premium', y='change_in_premium', hue='risk_group', data=df, legend='brief')\n",
    "\n",
    "plt.xlabel('Current Premium ($)')\n",
    "plt.ylabel('Change in Premium ($)')\n",
    "plt.title('Customers paying higher premiums will get greater increases \\n', fontsize=14)\n",
    "\n",
    "plt.show()"
   ]
  },
  {
   "cell_type": "markdown",
   "id": "general-charter",
   "metadata": {},
   "source": [
    "<a id='change_in_prem'></a>"
   ]
  },
  {
   "cell_type": "markdown",
   "id": "narrow-feeding",
   "metadata": {},
   "source": [
    "[Go to top](#main)"
   ]
  },
  {
   "cell_type": "markdown",
   "id": "developing-attribute",
   "metadata": {},
   "source": [
    "### 2a. Relationships with Change in Premium"
   ]
  },
  {
   "cell_type": "markdown",
   "id": "comic-infrared",
   "metadata": {},
   "source": [
    "#### Age"
   ]
  },
  {
   "cell_type": "code",
   "execution_count": 29,
   "id": "capital-lodging",
   "metadata": {},
   "outputs": [],
   "source": [
    "sns.reset_orig()"
   ]
  },
  {
   "cell_type": "code",
   "execution_count": 30,
   "id": "above-traffic",
   "metadata": {
    "scrolled": false
   },
   "outputs": [
    {
     "data": {
      "text/plain": [
       "<AxesSubplot:>"
      ]
     },
     "execution_count": 30,
     "metadata": {},
     "output_type": "execute_result"
    },
    {
     "data": {
      "image/png": "[encoded data removed]",
      "text/plain": [
       "<Figure size 432x288 with 1 Axes>"
      ]
     },
     "metadata": {
      "needs_background": "light"
     },
     "output_type": "display_data"
    }
   ],
   "source": [
    "# majority of the values are between -10 and 10\n",
    "# bimodal distribution – get the riskgroup 1 part\n",
    "df['change_in_premium'].hist(range=[5,100])"
   ]
  },
  {
   "cell_type": "code",
   "execution_count": 31,
   "id": "honest-civilization",
   "metadata": {},
   "outputs": [],
   "source": [
    "df['age_group'] = pd.cut(df['age'], bins=[20, 40, 60, 80, 125], labels=['20-40', '40-60', '60-80', '80+'])"
   ]
  },
  {
   "cell_type": "code",
   "execution_count": 32,
   "id": "bizarre-remains",
   "metadata": {},
   "outputs": [
    {
     "data": {
      "text/plain": [
       "<AxesSubplot:xlabel='age_group'>"
      ]
     },
     "execution_count": 32,
     "metadata": {},
     "output_type": "execute_result"
    },
    {
     "data": {
      "image/png": "[encoded data removed]",
      "text/plain": [
       "<Figure size 432x288 with 1 Axes>"
      ]
     },
     "metadata": {
      "needs_background": "light"
     },
     "output_type": "display_data"
    }
   ],
   "source": [
    "df.groupby('age_group')['change_in_premium'].mean().plot(kind='bar')"
   ]
  },
  {
   "cell_type": "code",
   "execution_count": 33,
   "id": "recorded-quality",
   "metadata": {},
   "outputs": [
    {
     "data": {
      "text/plain": [
       "<AxesSubplot:xlabel='gender'>"
      ]
     },
     "execution_count": 33,
     "metadata": {},
     "output_type": "execute_result"
    },
    {
     "data": {
      "image/png": "[encoded data removed]",
      "text/plain": [
       "<Figure size 432x288 with 1 Axes>"
      ]
     },
     "metadata": {
      "needs_background": "light"
     },
     "output_type": "display_data"
    }
   ],
   "source": [
    "df.groupby('gender')['change_in_premium'].mean().plot(kind='bar')"
   ]
  },
  {
   "cell_type": "code",
   "execution_count": 34,
   "id": "acoustic-basket",
   "metadata": {},
   "outputs": [
    {
     "data": {
      "text/plain": [
       "<AxesSubplot:xlabel='ypc'>"
      ]
     },
     "execution_count": 34,
     "metadata": {},
     "output_type": "execute_result"
    },
    {
     "data": {
      "image/png": "[encoded data removed]",
      "text/plain": [
       "<Figure size 432x288 with 1 Axes>"
      ]
     },
     "metadata": {
      "needs_background": "light"
     },
     "output_type": "display_data"
    }
   ],
   "source": [
    "df.groupby('ypc')['change_in_premium'].mean().plot(kind='bar')"
   ]
  },
  {
   "cell_type": "markdown",
   "id": "abandoned-spanish",
   "metadata": {},
   "source": [
    "<a id='risk_grp'></a>"
   ]
  },
  {
   "cell_type": "markdown",
   "id": "contemporary-leone",
   "metadata": {},
   "source": [
    "[Go to top](#main)"
   ]
  },
  {
   "cell_type": "markdown",
   "id": "italian-annotation",
   "metadata": {},
   "source": [
    "### 2b. Distribution of Change in Premium by Risk Group"
   ]
  },
  {
   "cell_type": "code",
   "execution_count": 35,
   "id": "derived-grain",
   "metadata": {},
   "outputs": [],
   "source": [
    "df['current_premium_bucket'] = pd.cut(df['current_premium'], bins=[0,1000,2000,3000,4000,5000,10000], \n",
    "                                     labels=['Up to \\$1000', '\\$1000 to \\$2000', '\\$2000 to \\$3000', \n",
    "                                             '\\$3000 to \\$4000', '\\$4000 to \\$5000', '\\$5000+'])\n",
    "\n"
   ]
  },
  {
   "cell_type": "code",
   "execution_count": 36,
   "id": "aging-truth",
   "metadata": {},
   "outputs": [],
   "source": [
    "cur_prem_counts = df.groupby('current_premium_bucket')['risk_group_0', 'risk_group_1'].agg({'count', 'sum'})"
   ]
  },
  {
   "cell_type": "code",
   "execution_count": 37,
   "id": "recreational-queensland",
   "metadata": {},
   "outputs": [],
   "source": [
    "cur_prem_counts = cur_prem_counts.reset_index()"
   ]
  },
  {
   "cell_type": "code",
   "execution_count": 38,
   "id": "incorporate-syracuse",
   "metadata": {},
   "outputs": [],
   "source": [
    "cur_prem_counts.columns = ['Current Premium Range', 'Total', 'Risk Group 0', 'Total', 'Risk Group 1']"
   ]
  },
  {
   "cell_type": "code",
   "execution_count": 39,
   "id": "republican-particular",
   "metadata": {},
   "outputs": [],
   "source": [
    "cur_prem_counts['Total_'] = cur_prem_counts[['Total']].iloc[:,0]"
   ]
  },
  {
   "cell_type": "code",
   "execution_count": 40,
   "id": "chief-mystery",
   "metadata": {},
   "outputs": [],
   "source": [
    "cur_prem_counts.drop(columns={'Total'}, inplace=True)"
   ]
  },
  {
   "cell_type": "code",
   "execution_count": 41,
   "id": "electric-grill",
   "metadata": {},
   "outputs": [],
   "source": [
    "cur_prem_counts.rename(columns={'Total_':'Total'}, inplace=True)"
   ]
  },
  {
   "cell_type": "code",
   "execution_count": 42,
   "id": "exterior-export",
   "metadata": {},
   "outputs": [],
   "source": [
    "tot_riskgrp0 = cur_prem_counts['Risk Group 0'].sum()\n",
    "tot_riskgrp1 = cur_prem_counts['Risk Group 1'].sum()"
   ]
  },
  {
   "cell_type": "code",
   "execution_count": 43,
   "id": "verified-valentine",
   "metadata": {},
   "outputs": [],
   "source": [
    "cur_prem_counts['% Risk Group 0'] = cur_prem_counts['Risk Group 0']/tot_riskgrp0 * 100\n",
    "cur_prem_counts['% Risk Group 1'] = cur_prem_counts['Risk Group 1']/tot_riskgrp1 * 100"
   ]
  },
  {
   "cell_type": "code",
   "execution_count": 44,
   "id": "dynamic-weekend",
   "metadata": {},
   "outputs": [
    {
     "data": {
      "text/html": [
       "<div>\n",
       "<style scoped>\n",
       "    .dataframe tbody tr th:only-of-type {\n",
       "        vertical-align: middle;\n",
       "    }\n",
       "\n",
       "    .dataframe tbody tr th {\n",
       "        vertical-align: top;\n",
       "    }\n",
       "\n",
       "    .dataframe thead th {\n",
       "        text-align: right;\n",
       "    }\n",
       "</style>\n",
       "<table border=\"1\" class=\"dataframe\">\n",
       "  <thead>\n",
       "    <tr style=\"text-align: right;\">\n",
       "      <th></th>\n",
       "      <th>Current Premium Range</th>\n",
       "      <th>Risk Group 0</th>\n",
       "      <th>Risk Group 1</th>\n",
       "      <th>Total</th>\n",
       "      <th>% Risk Group 0</th>\n",
       "      <th>% Risk Group 1</th>\n",
       "    </tr>\n",
       "  </thead>\n",
       "  <tbody>\n",
       "    <tr>\n",
       "      <th>0</th>\n",
       "      <td>Up to \\$1000</td>\n",
       "      <td>57606</td>\n",
       "      <td>57606</td>\n",
       "      <td>57606.0</td>\n",
       "      <td>62.084797</td>\n",
       "      <td>62.084797</td>\n",
       "    </tr>\n",
       "    <tr>\n",
       "      <th>1</th>\n",
       "      <td>\\$1000 to \\$2000</td>\n",
       "      <td>28753</td>\n",
       "      <td>28753</td>\n",
       "      <td>28575.0</td>\n",
       "      <td>30.988511</td>\n",
       "      <td>30.988511</td>\n",
       "    </tr>\n",
       "    <tr>\n",
       "      <th>2</th>\n",
       "      <td>\\$2000 to \\$3000</td>\n",
       "      <td>5049</td>\n",
       "      <td>5049</td>\n",
       "      <td>3776.0</td>\n",
       "      <td>5.441554</td>\n",
       "      <td>5.441554</td>\n",
       "    </tr>\n",
       "    <tr>\n",
       "      <th>3</th>\n",
       "      <td>\\$3000 to \\$4000</td>\n",
       "      <td>1062</td>\n",
       "      <td>1062</td>\n",
       "      <td>774.0</td>\n",
       "      <td>1.144569</td>\n",
       "      <td>1.144569</td>\n",
       "    </tr>\n",
       "    <tr>\n",
       "      <th>4</th>\n",
       "      <td>\\$4000 to \\$5000</td>\n",
       "      <td>246</td>\n",
       "      <td>246</td>\n",
       "      <td>173.0</td>\n",
       "      <td>0.265126</td>\n",
       "      <td>0.265126</td>\n",
       "    </tr>\n",
       "    <tr>\n",
       "      <th>5</th>\n",
       "      <td>\\$5000+</td>\n",
       "      <td>70</td>\n",
       "      <td>70</td>\n",
       "      <td>47.0</td>\n",
       "      <td>0.075442</td>\n",
       "      <td>0.075442</td>\n",
       "    </tr>\n",
       "  </tbody>\n",
       "</table>\n",
       "</div>"
      ],
      "text/plain": [
       "  Current Premium Range  Risk Group 0  Risk Group 1    Total  % Risk Group 0  \\\n",
       "0          Up to \\$1000         57606         57606  57606.0       62.084797   \n",
       "1      \\$1000 to \\$2000         28753         28753  28575.0       30.988511   \n",
       "2      \\$2000 to \\$3000          5049          5049   3776.0        5.441554   \n",
       "3      \\$3000 to \\$4000          1062          1062    774.0        1.144569   \n",
       "4      \\$4000 to \\$5000           246           246    173.0        0.265126   \n",
       "5               \\$5000+            70            70     47.0        0.075442   \n",
       "\n",
       "   % Risk Group 1  \n",
       "0       62.084797  \n",
       "1       30.988511  \n",
       "2        5.441554  \n",
       "3        1.144569  \n",
       "4        0.265126  \n",
       "5        0.075442  "
      ]
     },
     "execution_count": 44,
     "metadata": {},
     "output_type": "execute_result"
    }
   ],
   "source": [
    "cur_prem_counts"
   ]
  },
  {
   "cell_type": "code",
   "execution_count": 45,
   "id": "surprising-thinking",
   "metadata": {},
   "outputs": [
    {
     "data": {
      "image/png": "[encoded data removed]",
      "text/plain": [
       "<Figure size 360x360 with 1 Axes>"
      ]
     },
     "metadata": {
      "needs_background": "light"
     },
     "output_type": "display_data"
    }
   ],
   "source": [
    "sns.displot(x='current_premium', data=df[df['risk_group_0'] == 1], bins=20, color='tab:blue')\n",
    "plt.xlim([0,8000])\n",
    "plt.xlabel('Current Premium')\n",
    "plt.title('Distribution of Current Premium \\nfor Risk Group 0')\n",
    "plt.show()"
   ]
  },
  {
   "cell_type": "code",
   "execution_count": 46,
   "id": "seven-coverage",
   "metadata": {},
   "outputs": [
    {
     "data": {
      "image/png": "[encoded data removed]",
      "text/plain": [
       "<Figure size 360x360 with 1 Axes>"
      ]
     },
     "metadata": {
      "needs_background": "light"
     },
     "output_type": "display_data"
    }
   ],
   "source": [
    "sns.displot(x='current_premium', data=df[df['risk_group_1'] == 1], bins=20, color='tab:orange')\n",
    "plt.xlim([0,8000])\n",
    "plt.xlabel('Current Premium')\n",
    "plt.title('Distribution of Current Premium \\nfor Risk Group 1')\n",
    "plt.show()"
   ]
  },
  {
   "cell_type": "markdown",
   "id": "positive-excess",
   "metadata": {},
   "source": [
    "<a id='features'></a>"
   ]
  },
  {
   "cell_type": "markdown",
   "id": "direct-burke",
   "metadata": {},
   "source": [
    "[Go to top](#main)"
   ]
  },
  {
   "cell_type": "markdown",
   "id": "prescription-synthesis",
   "metadata": {},
   "source": [
    "### 3. Features engineering"
   ]
  },
  {
   "cell_type": "markdown",
   "id": "still-working",
   "metadata": {},
   "source": [
    "#### Assumption: All policyholders are unique in effect ignoring policyholders with the same birthdate and gender"
   ]
  },
  {
   "cell_type": "code",
   "execution_count": 47,
   "id": "innovative-ethiopia",
   "metadata": {},
   "outputs": [],
   "source": [
    "pd.set_option('min_rows', 100)\n",
    "pd.set_option('display.max_columns', 50)"
   ]
  },
  {
   "cell_type": "markdown",
   "id": "allied-curve",
   "metadata": {},
   "source": [
    "#### Convert Current Premium to integer"
   ]
  },
  {
   "cell_type": "code",
   "execution_count": 48,
   "id": "defined-fetish",
   "metadata": {},
   "outputs": [],
   "source": [
    "df['current_premium_int'] = df['current_premium'].round().astype(int)"
   ]
  },
  {
   "cell_type": "markdown",
   "id": "played-broadway",
   "metadata": {},
   "source": [
    "#### Convert Age into categorical variables"
   ]
  },
  {
   "cell_type": "code",
   "execution_count": 49,
   "id": "actual-praise",
   "metadata": {
    "scrolled": true
   },
   "outputs": [],
   "source": [
    "df['age_group'] = pd.cut(df['age_'], bins=[20,40,60,80,100,150], labels=['young', 'middle-aged', 'senior',\n",
    "                                                                        'retired', 'old'])"
   ]
  },
  {
   "cell_type": "code",
   "execution_count": 50,
   "id": "practical-prophet",
   "metadata": {},
   "outputs": [],
   "source": [
    "df = pd.concat([df, pd.get_dummies(df['age_group'], drop_first=False)], axis=1)"
   ]
  },
  {
   "cell_type": "markdown",
   "id": "civil-oregon",
   "metadata": {},
   "source": [
    "#### Add Male, Female"
   ]
  },
  {
   "cell_type": "code",
   "execution_count": 51,
   "id": "mounted-truck",
   "metadata": {},
   "outputs": [],
   "source": [
    "df = pd.concat([df, pd.get_dummies(df['gender'], drop_first=False)], axis=1)\n",
    "df.rename(columns={'F':'female', 'M':'male'}, inplace=True)"
   ]
  },
  {
   "cell_type": "markdown",
   "id": "dirty-necklace",
   "metadata": {},
   "source": [
    "#### Add Years with Prior Carrier (ypc) dummies"
   ]
  },
  {
   "cell_type": "code",
   "execution_count": 52,
   "id": "verified-advantage",
   "metadata": {},
   "outputs": [],
   "source": [
    "df = pd.concat([df, pd.get_dummies(df['ypc'], prefix='ypc')], axis=1)"
   ]
  },
  {
   "cell_type": "markdown",
   "id": "reported-improvement",
   "metadata": {},
   "source": [
    "#### Add Minority"
   ]
  },
  {
   "cell_type": "code",
   "execution_count": 53,
   "id": "fleet-clear",
   "metadata": {
    "scrolled": true
   },
   "outputs": [],
   "source": [
    "df['majority_minority'] = df['majority_minority'] * 1"
   ]
  },
  {
   "cell_type": "code",
   "execution_count": 54,
   "id": "coupled-antenna",
   "metadata": {},
   "outputs": [],
   "source": [
    "df.rename(columns={'majority_minority':'minority'}, inplace=True)"
   ]
  },
  {
   "cell_type": "markdown",
   "id": "adjustable-bracelet",
   "metadata": {},
   "source": [
    "<a id='upsample'></a>"
   ]
  },
  {
   "cell_type": "markdown",
   "id": "better-airport",
   "metadata": {},
   "source": [
    "[Go to top](#main)"
   ]
  },
  {
   "cell_type": "markdown",
   "id": "noble-gathering",
   "metadata": {},
   "source": [
    "### 3a. Upsample for modelling dataset"
   ]
  },
  {
   "cell_type": "code",
   "execution_count": 55,
   "id": "worse-banking",
   "metadata": {
    "scrolled": true
   },
   "outputs": [],
   "source": [
    "dataset = df[['current_premium', 'risk_group', 'young', 'middle-aged', 'senior', 'retired', 'old', 'female', 'male', 'ypc_0', 'ypc_1', 'ypc_2', 'ypc_3', 'ypc_4', 'ypc_5', 'minority']].copy()\n",
    "\n"
   ]
  },
  {
   "cell_type": "markdown",
   "id": "naked-reality",
   "metadata": {},
   "source": [
    "#### Upsample Risk Group=1"
   ]
  },
  {
   "cell_type": "code",
   "execution_count": 56,
   "id": "aging-trader",
   "metadata": {},
   "outputs": [],
   "source": [
    "dataset_riskgrp0 = dataset[dataset['risk_group'] == 0].copy()\n",
    "dataset_riskgrp1 = dataset[dataset['risk_group'] == 1].copy()"
   ]
  },
  {
   "cell_type": "code",
   "execution_count": 57,
   "id": "curious-custom",
   "metadata": {},
   "outputs": [],
   "source": [
    "dataset_riskgrp1_rs = resample(dataset_riskgrp1, replace=True, n_samples=90951, random_state=786)"
   ]
  },
  {
   "cell_type": "code",
   "execution_count": 58,
   "id": "centered-investor",
   "metadata": {},
   "outputs": [],
   "source": [
    "dataset = dataset_riskgrp0.append(dataset_riskgrp1_rs)"
   ]
  },
  {
   "cell_type": "code",
   "execution_count": 59,
   "id": "sharp-rebate",
   "metadata": {
    "scrolled": true
   },
   "outputs": [
    {
     "data": {
      "text/plain": [
       "male  risk_group\n",
       "0     0             38883\n",
       "      1             33092\n",
       "1     0             52068\n",
       "      1             57859\n",
       "Name: risk_group, dtype: int64"
      ]
     },
     "execution_count": 59,
     "metadata": {},
     "output_type": "execute_result"
    }
   ],
   "source": [
    "dataset.groupby(['male', 'risk_group'])['risk_group'].count()"
   ]
  },
  {
   "cell_type": "code",
   "execution_count": 60,
   "id": "directed-lithuania",
   "metadata": {},
   "outputs": [
    {
     "data": {
      "text/plain": [
       "minority  risk_group\n",
       "0         0               280\n",
       "          1               148\n",
       "1         0             90671\n",
       "          1             90803\n",
       "Name: risk_group, dtype: int64"
      ]
     },
     "execution_count": 60,
     "metadata": {},
     "output_type": "execute_result"
    }
   ],
   "source": [
    "dataset.groupby(['minority', 'risk_group'])['risk_group'].count()"
   ]
  },
  {
   "cell_type": "markdown",
   "id": "parliamentary-utilization",
   "metadata": {},
   "source": [
    "<a id='find_bias'></a>"
   ]
  },
  {
   "cell_type": "markdown",
   "id": "prime-crowd",
   "metadata": {},
   "source": [
    "[Go to top](#main)"
   ]
  },
  {
   "cell_type": "markdown",
   "id": "destroyed-words",
   "metadata": {},
   "source": [
    "### 4. Bias Detection and Mitigation"
   ]
  },
  {
   "cell_type": "markdown",
   "id": "christian-worker",
   "metadata": {},
   "source": [
    "### 4a. Bias Detection"
   ]
  },
  {
   "cell_type": "markdown",
   "id": "employed-kidney",
   "metadata": {},
   "source": [
    "Reweighing tutorial: https://github.com/Trusted-AI/AIF360/blob/master/examples/demo_reweighing_preproc.ipynb"
   ]
  },
  {
   "cell_type": "code",
   "execution_count": 61,
   "id": "front-undergraduate",
   "metadata": {
    "scrolled": true
   },
   "outputs": [],
   "source": [
    "orig_dataset = BinaryLabelDataset(df=dataset, label_names=['risk_group'], \n",
    "                             protected_attribute_names=['male', 'middle-aged', 'ypc_1', 'minority'],\n",
    "                             favorable_label=0, unfavorable_label=1)"
   ]
  },
  {
   "cell_type": "code",
   "execution_count": 121,
   "id": "mature-yellow",
   "metadata": {},
   "outputs": [
    {
     "data": {
      "text/markdown": [
       "#### Original Dataset shape"
      ],
      "text/plain": [
       "<IPython.core.display.Markdown object>"
      ]
     },
     "metadata": {},
     "output_type": "display_data"
    },
    {
     "name": "stdout",
     "output_type": "stream",
     "text": [
      "(181902, 15)\n"
     ]
    },
    {
     "data": {
      "text/markdown": [
       "#### Favorable and unfavorable labels"
      ],
      "text/plain": [
       "<IPython.core.display.Markdown object>"
      ]
     },
     "metadata": {},
     "output_type": "display_data"
    },
    {
     "name": "stdout",
     "output_type": "stream",
     "text": [
      "0.0 1.0\n"
     ]
    },
    {
     "data": {
      "text/markdown": [
       "#### Protected attribute names"
      ],
      "text/plain": [
       "<IPython.core.display.Markdown object>"
      ]
     },
     "metadata": {},
     "output_type": "display_data"
    },
    {
     "name": "stdout",
     "output_type": "stream",
     "text": [
      "['male', 'middle-aged', 'ypc_1', 'minority']\n"
     ]
    },
    {
     "data": {
      "text/markdown": [
       "#### Privileged and unprivileged protected attribute values"
      ],
      "text/plain": [
       "<IPython.core.display.Markdown object>"
      ]
     },
     "metadata": {},
     "output_type": "display_data"
    },
    {
     "name": "stdout",
     "output_type": "stream",
     "text": [
      "[array([1.]), array([1.]), array([1.]), array([1.])] [array([0.]), array([0.]), array([0.]), array([0.])]\n"
     ]
    },
    {
     "data": {
      "text/markdown": [
       "#### Dataset feature names"
      ],
      "text/plain": [
       "<IPython.core.display.Markdown object>"
      ]
     },
     "metadata": {},
     "output_type": "display_data"
    },
    {
     "name": "stdout",
     "output_type": "stream",
     "text": [
      "['current_premium', 'young', 'middle-aged', 'senior', 'retired', 'old', 'female', 'male', 'ypc_0', 'ypc_1', 'ypc_2', 'ypc_3', 'ypc_4', 'ypc_5', 'minority']\n"
     ]
    }
   ],
   "source": [
    "display(Markdown(\"#### Original Dataset shape\"))\n",
    "print(orig_dataset.features.shape)\n",
    "display(Markdown(\"#### Favorable and unfavorable labels\"))\n",
    "print(orig_dataset.favorable_label, orig_dataset.unfavorable_label)\n",
    "display(Markdown(\"#### Protected attribute names\"))\n",
    "print(orig_dataset.protected_attribute_names)\n",
    "display(Markdown(\"#### Privileged and unprivileged protected attribute values\"))\n",
    "print(orig_dataset.privileged_protected_attributes, \n",
    "      orig_dataset.unprivileged_protected_attributes)\n",
    "display(Markdown(\"#### Dataset feature names\"))\n",
    "print(orig_dataset.feature_names)"
   ]
  },
  {
   "cell_type": "code",
   "execution_count": 63,
   "id": "adult-representation",
   "metadata": {},
   "outputs": [],
   "source": [
    "def make_results_table(results, list_of_vars):\n",
    "\n",
    "    def expand_metric(df, metric, list_of_vars):\n",
    "        # expand dictionary column into dataframe\n",
    "        df = df[metric].apply(pd.Series)\n",
    "        df['name'] = list_of_vars\n",
    "        # get metric value\n",
    "        df['message'] = df['message'].astype(str)\n",
    "        df[metric] = df['message'].apply(lambda x: x.split(':')[1])\n",
    "        # keep relevant columns\n",
    "        df = df[['name', metric]].copy()\n",
    "        df[metric] = df[metric].astype(float).round(2)\n",
    "        return df\n",
    "    \n",
    "    # convert json into dataframe\n",
    "    df_results = pd.DataFrame.from_dict(results, orient='index').reset_index().rename(columns={'index':'Feature', \n",
    "                                                                                               0:'Mean Difference',\n",
    "                                                                                               1: 'Disparate Impact',\n",
    "                                                                                               2: 'Consistency'})\n",
    "    # get column names\n",
    "    list_of_metrics = df_results.columns[1:].tolist()\n",
    "    df0 = pd.DataFrame(np.zeros((len(list_of_vars), 1)))\n",
    "    \n",
    "    for metric in list_of_metrics:\n",
    "        df = expand_metric(df_results, metric, list_of_vars)\n",
    "        df0 = pd.concat([df0,df], axis=1)\n",
    "    \n",
    "    # get variable names\n",
    "    vars_col = df0['name'].iloc[:,0]\n",
    "    df0.drop(columns=['name', 0], inplace=True)\n",
    "    df0['Name'] = vars_col\n",
    "    df0 = df0[['Name', 'Mean Difference', 'Disparate Impact', 'Consistency']].copy()\n",
    "    return df0\n",
    "\n",
    "\n",
    "def get_fairness_metrics(dataset):\n",
    "    # NOTE: dataset expected to a BinaryLabelDataset\n",
    "    results = {}\n",
    "    list_of_vars = []\n",
    "    \n",
    "    for var in dataset.protected_attribute_names:\n",
    "        privileged_groups = []\n",
    "        unprivileged_groups = []\n",
    "\n",
    "        privileged_groups.append({var: 0})\n",
    "        unprivileged_groups.append({var: 1})\n",
    "\n",
    "        metrics = BinaryLabelDatasetMetric(dataset,\n",
    "                                           unprivileged_groups=unprivileged_groups,\n",
    "                                           privileged_groups=privileged_groups)\n",
    "\n",
    "\n",
    "        json_explainer = MetricJSONExplainer(metrics)\n",
    "        \n",
    "        mean_diff = json.loads(json_explainer.mean_difference())\n",
    "        di = json.loads(json_explainer.disparate_impact())\n",
    "        # NOTE: json_explainer.consistency() has a bug (https://github.com/Trusted-AI/AIF360/issues/227)\n",
    "        consist = metrics.consistency(n_neighbors=5)[0]\n",
    "        # create array to manage around bug in source code\n",
    "        consist_d = {'metric': 'Consistency',\n",
    "                     'message': 'Consistency (measures how similar labels are for similar instances): '+str(consist)}\n",
    "\n",
    "        results[var] = [mean_diff, di, consist_d]\n",
    "        list_of_vars.append(var)\n",
    "        \n",
    "    df = make_results_table(results, list_of_vars)\n",
    "    return df"
   ]
  },
  {
   "cell_type": "markdown",
   "id": "popular-remove",
   "metadata": {},
   "source": [
    "#### Calculate Fairness metrics"
   ]
  },
  {
   "cell_type": "markdown",
   "id": "processed-export",
   "metadata": {},
   "source": [
    "Mean Difference:  \n",
    "https://aif360.readthedocs.io/en/latest/modules/generated/aif360.metrics.BinaryLabelDatasetMetric.html#aif360.metrics.BinaryLabelDatasetMetric.statistical_parity_difference\n",
    "\n",
    "Disparate Impact:  \n",
    "https://aif360.readthedocs.io/en/latest/modules/generated/aif360.metrics.BinaryLabelDatasetMetric.html#aif360.metrics.BinaryLabelDatasetMetric.disparate_impact"
   ]
  },
  {
   "cell_type": "code",
   "execution_count": 64,
   "id": "medieval-guidance",
   "metadata": {},
   "outputs": [
    {
     "data": {
      "text/markdown": [
       "#### I. Mean Difference (or Statistical Parity Difference)"
      ],
      "text/plain": [
       "<IPython.core.display.Markdown object>"
      ]
     },
     "metadata": {},
     "output_type": "display_data"
    },
    {
     "data": {
      "text/markdown": [
       "$Pr(Risk Group=0|D=Female) − Pr(Risk Group=0|D=Male)$"
      ],
      "text/plain": [
       "<IPython.core.display.Markdown object>"
      ]
     },
     "metadata": {},
     "output_type": "display_data"
    },
    {
     "data": {
      "text/markdown": [
       "#### II. Disparate Impact on unprivileged groups"
      ],
      "text/plain": [
       "<IPython.core.display.Markdown object>"
      ]
     },
     "metadata": {},
     "output_type": "display_data"
    },
    {
     "data": {
      "text/markdown": [
       "$\\frac{Pr(Y=1|D=unprivileged)}{Pr(Y=1|D=privileged)}$"
      ],
      "text/plain": [
       "<IPython.core.display.Markdown object>"
      ]
     },
     "metadata": {},
     "output_type": "display_data"
    }
   ],
   "source": [
    "display(Markdown(\"#### I. Mean Difference (or Statistical Parity Difference)\"))\n",
    "display(Markdown(\"$Pr(Risk Group=0|D=Female) − Pr(Risk Group=0|D=Male)$\"))\n",
    "display(Markdown(\"#### II. Disparate Impact on unprivileged groups\"))\n",
    "display(Markdown(\"$\\\\frac{Pr(Y=1|D=unprivileged)}{Pr(Y=1|D=privileged)}$\"))"
   ]
  },
  {
   "cell_type": "markdown",
   "id": "dimensional-remainder",
   "metadata": {},
   "source": [
    "#### Get baseline for each protected attribute"
   ]
  },
  {
   "cell_type": "code",
   "execution_count": 65,
   "id": "royal-mayor",
   "metadata": {
    "scrolled": true
   },
   "outputs": [
    {
     "data": {
      "text/html": [
       "<div>\n",
       "<style scoped>\n",
       "    .dataframe tbody tr th:only-of-type {\n",
       "        vertical-align: middle;\n",
       "    }\n",
       "\n",
       "    .dataframe tbody tr th {\n",
       "        vertical-align: top;\n",
       "    }\n",
       "\n",
       "    .dataframe thead th {\n",
       "        text-align: right;\n",
       "    }\n",
       "</style>\n",
       "<table border=\"1\" class=\"dataframe\">\n",
       "  <thead>\n",
       "    <tr style=\"text-align: right;\">\n",
       "      <th></th>\n",
       "      <th>Name</th>\n",
       "      <th>Mean Difference</th>\n",
       "      <th>Disparate Impact</th>\n",
       "      <th>Consistency</th>\n",
       "    </tr>\n",
       "  </thead>\n",
       "  <tbody>\n",
       "    <tr>\n",
       "      <th>0</th>\n",
       "      <td>male</td>\n",
       "      <td>-0.07</td>\n",
       "      <td>0.88</td>\n",
       "      <td>0.99</td>\n",
       "    </tr>\n",
       "    <tr>\n",
       "      <th>1</th>\n",
       "      <td>middle-aged</td>\n",
       "      <td>-0.08</td>\n",
       "      <td>0.85</td>\n",
       "      <td>0.99</td>\n",
       "    </tr>\n",
       "    <tr>\n",
       "      <th>2</th>\n",
       "      <td>ypc_1</td>\n",
       "      <td>-0.01</td>\n",
       "      <td>0.99</td>\n",
       "      <td>0.99</td>\n",
       "    </tr>\n",
       "    <tr>\n",
       "      <th>3</th>\n",
       "      <td>minority</td>\n",
       "      <td>-0.15</td>\n",
       "      <td>0.76</td>\n",
       "      <td>0.99</td>\n",
       "    </tr>\n",
       "  </tbody>\n",
       "</table>\n",
       "</div>"
      ],
      "text/plain": [
       "          Name  Mean Difference  Disparate Impact  Consistency\n",
       "0         male            -0.07              0.88         0.99\n",
       "1  middle-aged            -0.08              0.85         0.99\n",
       "2        ypc_1            -0.01              0.99         0.99\n",
       "3     minority            -0.15              0.76         0.99"
      ]
     },
     "execution_count": 65,
     "metadata": {},
     "output_type": "execute_result"
    }
   ],
   "source": [
    "get_fairness_metrics(orig_dataset)"
   ]
  },
  {
   "cell_type": "markdown",
   "id": "monetary-magic",
   "metadata": {},
   "source": [
    "<a id='fix_bias'></a>"
   ]
  },
  {
   "cell_type": "markdown",
   "id": "funded-adoption",
   "metadata": {},
   "source": [
    "[Go to top](#main)"
   ]
  },
  {
   "cell_type": "markdown",
   "id": "honey-sensitivity",
   "metadata": {},
   "source": [
    "### 4b. Bias Mitigation"
   ]
  },
  {
   "cell_type": "code",
   "execution_count": 66,
   "id": "massive-bosnia",
   "metadata": {},
   "outputs": [],
   "source": [
    "def reweigh_dataset(privileged_groups, unprivileged_groups, dataset):\n",
    "    # NOTE: dataset expected to be a BinaryLabelDataset\n",
    "    privileged_groups = privileged_groups\n",
    "    unprivileged_groups = unprivileged_groups\n",
    "\n",
    "    # reweigh training dataset\n",
    "    RW = Reweighing(unprivileged_groups=unprivileged_groups,\n",
    "                    privileged_groups=privileged_groups)\n",
    "\n",
    "    RW.fit(dataset)\n",
    "    dataset_transformed = RW.transform(dataset)\n",
    "    \n",
    "    diff = dataset_transformed.instance_weights.sum() - dataset.instance_weights.sum()\n",
    "    print(\"The difference in weights between original and transformed dataset is %s\" % diff)\n",
    "    \n",
    "    return dataset_transformed"
   ]
  },
  {
   "cell_type": "markdown",
   "id": "about-device",
   "metadata": {},
   "source": [
    "### Reweigh Gender, Race, Age\n",
    "Note: The bias in `ypc_1` was automatically mitigated"
   ]
  },
  {
   "cell_type": "markdown",
   "id": "respiratory-croatia",
   "metadata": {},
   "source": [
    "#### Gender"
   ]
  },
  {
   "cell_type": "code",
   "execution_count": 67,
   "id": "exceptional-transcript",
   "metadata": {},
   "outputs": [
    {
     "data": {
      "text/plain": [
       "(181902, 16)"
      ]
     },
     "execution_count": 67,
     "metadata": {},
     "output_type": "execute_result"
    }
   ],
   "source": [
    "orig_dataset.convert_to_dataframe()[0].shape"
   ]
  },
  {
   "cell_type": "code",
   "execution_count": 68,
   "id": "banner-monday",
   "metadata": {},
   "outputs": [],
   "source": [
    "# male is unprivileged\n",
    "privileged_groups = [{'male': 0}]\n",
    "unprivileged_groups = [{'male': 1}] "
   ]
  },
  {
   "cell_type": "code",
   "execution_count": 69,
   "id": "dirty-crest",
   "metadata": {
    "scrolled": true
   },
   "outputs": [
    {
     "name": "stdout",
     "output_type": "stream",
     "text": [
      "The difference in weights between original and transformed dataset is -2.9103830456733704e-11\n"
     ]
    }
   ],
   "source": [
    "dataset_transf_rw1 = reweigh_dataset(privileged_groups, unprivileged_groups, orig_dataset)"
   ]
  },
  {
   "cell_type": "code",
   "execution_count": 70,
   "id": "greenhouse-transfer",
   "metadata": {},
   "outputs": [
    {
     "data": {
      "text/html": [
       "<div>\n",
       "<style scoped>\n",
       "    .dataframe tbody tr th:only-of-type {\n",
       "        vertical-align: middle;\n",
       "    }\n",
       "\n",
       "    .dataframe tbody tr th {\n",
       "        vertical-align: top;\n",
       "    }\n",
       "\n",
       "    .dataframe thead th {\n",
       "        text-align: right;\n",
       "    }\n",
       "</style>\n",
       "<table border=\"1\" class=\"dataframe\">\n",
       "  <thead>\n",
       "    <tr style=\"text-align: right;\">\n",
       "      <th></th>\n",
       "      <th>Name</th>\n",
       "      <th>Mean Difference</th>\n",
       "      <th>Disparate Impact</th>\n",
       "      <th>Consistency</th>\n",
       "    </tr>\n",
       "  </thead>\n",
       "  <tbody>\n",
       "    <tr>\n",
       "      <th>0</th>\n",
       "      <td>male</td>\n",
       "      <td>0.00</td>\n",
       "      <td>1.00</td>\n",
       "      <td>0.99</td>\n",
       "    </tr>\n",
       "    <tr>\n",
       "      <th>1</th>\n",
       "      <td>middle-aged</td>\n",
       "      <td>-0.08</td>\n",
       "      <td>0.85</td>\n",
       "      <td>0.99</td>\n",
       "    </tr>\n",
       "    <tr>\n",
       "      <th>2</th>\n",
       "      <td>ypc_1</td>\n",
       "      <td>-0.01</td>\n",
       "      <td>0.98</td>\n",
       "      <td>0.99</td>\n",
       "    </tr>\n",
       "    <tr>\n",
       "      <th>3</th>\n",
       "      <td>minority</td>\n",
       "      <td>-0.16</td>\n",
       "      <td>0.76</td>\n",
       "      <td>0.99</td>\n",
       "    </tr>\n",
       "  </tbody>\n",
       "</table>\n",
       "</div>"
      ],
      "text/plain": [
       "          Name  Mean Difference  Disparate Impact  Consistency\n",
       "0         male             0.00              1.00         0.99\n",
       "1  middle-aged            -0.08              0.85         0.99\n",
       "2        ypc_1            -0.01              0.98         0.99\n",
       "3     minority            -0.16              0.76         0.99"
      ]
     },
     "execution_count": 70,
     "metadata": {},
     "output_type": "execute_result"
    }
   ],
   "source": [
    "get_fairness_metrics(dataset_transf_rw1)"
   ]
  },
  {
   "cell_type": "markdown",
   "id": "adjacent-camera",
   "metadata": {},
   "source": [
    "#### Race"
   ]
  },
  {
   "cell_type": "code",
   "execution_count": 71,
   "id": "peripheral-corrections",
   "metadata": {},
   "outputs": [],
   "source": [
    "# minority is unprivileged\n",
    "privileged_groups = [{'minority': 0}]\n",
    "unprivileged_groups = [{'minority': 1}]"
   ]
  },
  {
   "cell_type": "code",
   "execution_count": 72,
   "id": "covered-decade",
   "metadata": {},
   "outputs": [
    {
     "name": "stdout",
     "output_type": "stream",
     "text": [
      "The difference in weights between original and transformed dataset is 2.0372681319713593e-10\n"
     ]
    }
   ],
   "source": [
    "dataset_transf_rw2 = reweigh_dataset(privileged_groups, unprivileged_groups, dataset_transf_rw1)"
   ]
  },
  {
   "cell_type": "code",
   "execution_count": 73,
   "id": "controlling-ghana",
   "metadata": {},
   "outputs": [
    {
     "data": {
      "text/html": [
       "<div>\n",
       "<style scoped>\n",
       "    .dataframe tbody tr th:only-of-type {\n",
       "        vertical-align: middle;\n",
       "    }\n",
       "\n",
       "    .dataframe tbody tr th {\n",
       "        vertical-align: top;\n",
       "    }\n",
       "\n",
       "    .dataframe thead th {\n",
       "        text-align: right;\n",
       "    }\n",
       "</style>\n",
       "<table border=\"1\" class=\"dataframe\">\n",
       "  <thead>\n",
       "    <tr style=\"text-align: right;\">\n",
       "      <th></th>\n",
       "      <th>Name</th>\n",
       "      <th>Mean Difference</th>\n",
       "      <th>Disparate Impact</th>\n",
       "      <th>Consistency</th>\n",
       "    </tr>\n",
       "  </thead>\n",
       "  <tbody>\n",
       "    <tr>\n",
       "      <th>0</th>\n",
       "      <td>male</td>\n",
       "      <td>-0.00</td>\n",
       "      <td>1.00</td>\n",
       "      <td>0.99</td>\n",
       "    </tr>\n",
       "    <tr>\n",
       "      <th>1</th>\n",
       "      <td>middle-aged</td>\n",
       "      <td>-0.08</td>\n",
       "      <td>0.85</td>\n",
       "      <td>0.99</td>\n",
       "    </tr>\n",
       "    <tr>\n",
       "      <th>2</th>\n",
       "      <td>ypc_1</td>\n",
       "      <td>-0.01</td>\n",
       "      <td>0.98</td>\n",
       "      <td>0.99</td>\n",
       "    </tr>\n",
       "    <tr>\n",
       "      <th>3</th>\n",
       "      <td>minority</td>\n",
       "      <td>-0.00</td>\n",
       "      <td>1.00</td>\n",
       "      <td>0.99</td>\n",
       "    </tr>\n",
       "  </tbody>\n",
       "</table>\n",
       "</div>"
      ],
      "text/plain": [
       "          Name  Mean Difference  Disparate Impact  Consistency\n",
       "0         male            -0.00              1.00         0.99\n",
       "1  middle-aged            -0.08              0.85         0.99\n",
       "2        ypc_1            -0.01              0.98         0.99\n",
       "3     minority            -0.00              1.00         0.99"
      ]
     },
     "execution_count": 73,
     "metadata": {},
     "output_type": "execute_result"
    }
   ],
   "source": [
    "get_fairness_metrics(dataset_transf_rw2)"
   ]
  },
  {
   "cell_type": "markdown",
   "id": "durable-walter",
   "metadata": {},
   "source": [
    "#### Age"
   ]
  },
  {
   "cell_type": "code",
   "execution_count": 74,
   "id": "hundred-promotion",
   "metadata": {},
   "outputs": [],
   "source": [
    "# middle-aged is unprivileged\n",
    "privileged_groups = [{'middle-aged': 0}]\n",
    "unprivileged_groups = [{'middle-aged': 1}]"
   ]
  },
  {
   "cell_type": "code",
   "execution_count": 75,
   "id": "funded-winning",
   "metadata": {},
   "outputs": [
    {
     "name": "stdout",
     "output_type": "stream",
     "text": [
      "The difference in weights between original and transformed dataset is -1.7462298274040222e-10\n"
     ]
    }
   ],
   "source": [
    "dataset_transf_rw3 = reweigh_dataset(privileged_groups, unprivileged_groups, dataset_transf_rw2)"
   ]
  },
  {
   "cell_type": "code",
   "execution_count": 76,
   "id": "coupled-paste",
   "metadata": {},
   "outputs": [
    {
     "data": {
      "text/html": [
       "<div>\n",
       "<style scoped>\n",
       "    .dataframe tbody tr th:only-of-type {\n",
       "        vertical-align: middle;\n",
       "    }\n",
       "\n",
       "    .dataframe tbody tr th {\n",
       "        vertical-align: top;\n",
       "    }\n",
       "\n",
       "    .dataframe thead th {\n",
       "        text-align: right;\n",
       "    }\n",
       "</style>\n",
       "<table border=\"1\" class=\"dataframe\">\n",
       "  <thead>\n",
       "    <tr style=\"text-align: right;\">\n",
       "      <th></th>\n",
       "      <th>Name</th>\n",
       "      <th>Mean Difference</th>\n",
       "      <th>Disparate Impact</th>\n",
       "      <th>Consistency</th>\n",
       "    </tr>\n",
       "  </thead>\n",
       "  <tbody>\n",
       "    <tr>\n",
       "      <th>0</th>\n",
       "      <td>male</td>\n",
       "      <td>-0.00</td>\n",
       "      <td>1.00</td>\n",
       "      <td>0.99</td>\n",
       "    </tr>\n",
       "    <tr>\n",
       "      <th>1</th>\n",
       "      <td>middle-aged</td>\n",
       "      <td>0.00</td>\n",
       "      <td>1.00</td>\n",
       "      <td>0.99</td>\n",
       "    </tr>\n",
       "    <tr>\n",
       "      <th>2</th>\n",
       "      <td>ypc_1</td>\n",
       "      <td>-0.01</td>\n",
       "      <td>0.99</td>\n",
       "      <td>0.99</td>\n",
       "    </tr>\n",
       "    <tr>\n",
       "      <th>3</th>\n",
       "      <td>minority</td>\n",
       "      <td>-0.00</td>\n",
       "      <td>0.99</td>\n",
       "      <td>0.99</td>\n",
       "    </tr>\n",
       "  </tbody>\n",
       "</table>\n",
       "</div>"
      ],
      "text/plain": [
       "          Name  Mean Difference  Disparate Impact  Consistency\n",
       "0         male            -0.00              1.00         0.99\n",
       "1  middle-aged             0.00              1.00         0.99\n",
       "2        ypc_1            -0.01              0.99         0.99\n",
       "3     minority            -0.00              0.99         0.99"
      ]
     },
     "execution_count": 76,
     "metadata": {},
     "output_type": "execute_result"
    }
   ],
   "source": [
    "get_fairness_metrics(dataset_transf_rw3)"
   ]
  },
  {
   "cell_type": "code",
   "execution_count": 77,
   "id": "polished-horizon",
   "metadata": {},
   "outputs": [],
   "source": [
    "dataset_transf = dataset_transf_rw3.copy()"
   ]
  },
  {
   "cell_type": "markdown",
   "id": "occupational-mexico",
   "metadata": {},
   "source": [
    "<a id='data_model'></a>"
   ]
  },
  {
   "cell_type": "markdown",
   "id": "fixed-compiler",
   "metadata": {},
   "source": [
    "[Go to top](#main)"
   ]
  },
  {
   "cell_type": "markdown",
   "id": "neither-rugby",
   "metadata": {},
   "source": [
    "### 5. Modelling"
   ]
  },
  {
   "cell_type": "code",
   "execution_count": 78,
   "id": "spread-crack",
   "metadata": {},
   "outputs": [
    {
     "data": {
      "text/plain": [
       "1.0    90951\n",
       "0.0    90951\n",
       "Name: risk_group, dtype: int64"
      ]
     },
     "execution_count": 78,
     "metadata": {},
     "output_type": "execute_result"
    }
   ],
   "source": [
    "# check whether it's resampled\n",
    "df_og = orig_dataset.convert_to_dataframe()[0]\n",
    "df_og['risk_group'].value_counts()"
   ]
  },
  {
   "cell_type": "code",
   "execution_count": 79,
   "id": "covered-price",
   "metadata": {},
   "outputs": [],
   "source": [
    "# 70:30 split into train, test\n",
    "# 50:50 split of test into valid, test\n",
    "dataset_train, dataset_vt = orig_dataset.split([0.7], shuffle=True)\n",
    "dataset_valid, dataset_test = dataset_vt.split([0.5], shuffle=True)"
   ]
  },
  {
   "cell_type": "markdown",
   "id": "alone-sodium",
   "metadata": {},
   "source": [
    "### Decision Tree, Random Forest"
   ]
  },
  {
   "cell_type": "markdown",
   "id": "stupid-landing",
   "metadata": {},
   "source": [
    "#### Train"
   ]
  },
  {
   "cell_type": "code",
   "execution_count": 80,
   "id": "indian-amendment",
   "metadata": {
    "scrolled": true
   },
   "outputs": [],
   "source": [
    "# setup training data\n",
    "X_train = dataset_train.features\n",
    "y_train = dataset_train.labels.ravel()\n",
    "w_train = dataset_train.instance_weights.ravel()\n",
    "\n",
    "# train decision tree\n",
    "tree = DecisionTreeClassifier(random_state=786).fit(X_train, y_train)\n",
    "tree_y_train_pred = tree.predict(X_train)\n",
    "\n",
    "# train random forest\n",
    "forest = RandomForestClassifier(random_state=786).fit(X_train, y_train)\n",
    "forest_y_train_pred = forest.predict(X_train)"
   ]
  },
  {
   "cell_type": "code",
   "execution_count": 81,
   "id": "regulated-documentation",
   "metadata": {},
   "outputs": [
    {
     "data": {
      "text/plain": [
       "(0.9999214645294547, 0.9999136109824002)"
      ]
     },
     "execution_count": 81,
     "metadata": {},
     "output_type": "execute_result"
    }
   ],
   "source": [
    "# no improvement in going to random forest\n",
    "(tree_y_train_pred == y_train).sum()/len(y_train), (forest_y_train_pred == y_train).sum()/len(y_train)"
   ]
  },
  {
   "cell_type": "code",
   "execution_count": 82,
   "id": "athletic-thompson",
   "metadata": {},
   "outputs": [],
   "source": [
    "# plt.figure(figsize=(8,10))\n",
    "# plot_tree(tree, filled=True, fontsize=10, feature_names=orig_dataset.feature_names,\n",
    "#          class_names=['low_risk_group', 'high_risk_group'])\n",
    "# plt.show()"
   ]
  },
  {
   "cell_type": "code",
   "execution_count": 83,
   "id": "particular-depression",
   "metadata": {
    "scrolled": true
   },
   "outputs": [],
   "source": [
    "# fig, axes = plt.subplots(nrows=1, ncols=10, figsize=(20,2))\n",
    "\n",
    "# for n in range(0,10):\n",
    "#     plot_tree(forest[n], filled=True, feature_names=orig_dataset.feature_names,\n",
    "#               class_names=['low_risk_group', 'high_risk_group'], ax=axes[n])\n",
    "\n",
    "# plt.show()"
   ]
  },
  {
   "cell_type": "code",
   "execution_count": 84,
   "id": "federal-hormone",
   "metadata": {},
   "outputs": [],
   "source": [
    "# dataset_train --> dataset_train_pred\n",
    "dataset_train_pred = dataset_train.copy()\n",
    "dataset_train_pred.labels = tree_y_train_pred"
   ]
  },
  {
   "cell_type": "markdown",
   "id": "sorted-prediction",
   "metadata": {},
   "source": [
    "#### Valid"
   ]
  },
  {
   "cell_type": "code",
   "execution_count": 85,
   "id": "suited-diameter",
   "metadata": {},
   "outputs": [],
   "source": [
    "# dataset_valid --> dataset_valid_pred\n",
    "dataset_valid_pred = dataset_valid.copy(deepcopy=True)\n",
    "X_valid = dataset_valid_pred.features\n",
    "y_valid = dataset_valid_pred.labels\n",
    "\n",
    "# get preds for obs being in risk group 1\n",
    "# NOTE: tree probabilities are 0s or 1s\n",
    "pos_ind = 1\n",
    "dataset_valid_pred.scores = tree.predict_proba(X_valid)[:,pos_ind].reshape(-1,1)\n",
    "tree_y_valid_pred = dataset_valid_pred.scores"
   ]
  },
  {
   "cell_type": "code",
   "execution_count": 86,
   "id": "usual-community",
   "metadata": {},
   "outputs": [
    {
     "data": {
      "text/plain": [
       "0.9879420927249405"
      ]
     },
     "execution_count": 86,
     "metadata": {},
     "output_type": "execute_result"
    }
   ],
   "source": [
    "# NOTE: doesn't work with floats, so need to convert into int values (not int arr)\n",
    "accuracy_score(y_valid.astype(int), tree_y_valid_pred.astype(int))"
   ]
  },
  {
   "cell_type": "markdown",
   "id": "appreciated-viewer",
   "metadata": {},
   "source": [
    "#### Test"
   ]
  },
  {
   "cell_type": "code",
   "execution_count": 87,
   "id": "vital-belief",
   "metadata": {},
   "outputs": [],
   "source": [
    "# dataset_test --> dataset_test_pred\n",
    "dataset_test_pred = dataset_test.copy(deepcopy=True)\n",
    "X_test = dataset_test_pred.features\n",
    "y_test = dataset_test_pred.labels\n",
    "\n",
    "# get preds for obs being in risk group 1\n",
    "pos_ind = 1\n",
    "dataset_test_pred.scores = tree.predict_proba(X_test)[:,pos_ind].reshape(-1,1)\n",
    "tree_y_test_pred = dataset_test_pred.scores"
   ]
  },
  {
   "cell_type": "code",
   "execution_count": 88,
   "id": "representative-livestock",
   "metadata": {
    "scrolled": true
   },
   "outputs": [
    {
     "data": {
      "text/plain": [
       "0.9881990764494613"
      ]
     },
     "execution_count": 88,
     "metadata": {},
     "output_type": "execute_result"
    }
   ],
   "source": [
    "# NOTE: doesn't work with floats, so need to convert into int values (not int arr)\n",
    "accuracy_score(y_test.astype(int), tree_y_test_pred.astype(int))"
   ]
  },
  {
   "cell_type": "markdown",
   "id": "subjective-inventory",
   "metadata": {},
   "source": [
    "<a id='optimize_features'></a>"
   ]
  },
  {
   "cell_type": "markdown",
   "id": "conditional-overview",
   "metadata": {},
   "source": [
    "[Go to top](#main)"
   ]
  },
  {
   "cell_type": "markdown",
   "id": "addressed-malta",
   "metadata": {},
   "source": [
    "### 5a. Optimize n_estimators, max_features, max_impurity, min_impurity_split"
   ]
  },
  {
   "cell_type": "code",
   "execution_count": 89,
   "id": "current-martial",
   "metadata": {},
   "outputs": [
    {
     "data": {
      "text/plain": [
       "15"
      ]
     },
     "execution_count": 89,
     "metadata": {},
     "output_type": "execute_result"
    }
   ],
   "source": [
    "len(orig_dataset.feature_names)"
   ]
  },
  {
   "cell_type": "code",
   "execution_count": 90,
   "id": "solar-coordinate",
   "metadata": {},
   "outputs": [],
   "source": [
    "list_of_params = {\n",
    "    'max_depth': {'start': 1, 'stop': 151, 'step': 5},\n",
    "    'min_impurity_split': {'start': 0.21, 'stop': 0.001, 'step': -0.001},\n",
    "    'max_features': {'start': 1, 'stop': len(orig_dataset.feature_names), 'step': 1},\n",
    "    'min_impurity_decrease': {'start': 0.51, 'stop': 0.01, 'step': -0.01}\n",
    "}"
   ]
  },
  {
   "cell_type": "code",
   "execution_count": 91,
   "id": "scientific-initial",
   "metadata": {},
   "outputs": [
    {
     "name": "stderr",
     "output_type": "stream",
     "text": [
      "1it [00:00,  6.42it/s]"
     ]
    },
    {
     "name": "stdout",
     "output_type": "stream",
     "text": [
      "Tuning max_depth\n"
     ]
    },
    {
     "name": "stderr",
     "output_type": "stream",
     "text": [
      "30it [00:22,  1.33it/s]\n",
      "1it [00:00,  8.24it/s]"
     ]
    },
    {
     "name": "stdout",
     "output_type": "stream",
     "text": [
      "Tuning min_impurity_split\n"
     ]
    },
    {
     "name": "stderr",
     "output_type": "stream",
     "text": [
      "209it [01:00,  3.48it/s]\n",
      "1it [00:00,  5.30it/s]"
     ]
    },
    {
     "name": "stdout",
     "output_type": "stream",
     "text": [
      "Tuning max_features\n"
     ]
    },
    {
     "name": "stderr",
     "output_type": "stream",
     "text": [
      "14it [00:04,  3.34it/s]\n",
      "1it [00:00,  9.32it/s]"
     ]
    },
    {
     "name": "stdout",
     "output_type": "stream",
     "text": [
      "Tuning min_impurity_decrease\n"
     ]
    },
    {
     "name": "stderr",
     "output_type": "stream",
     "text": [
      "50it [00:07,  6.73it/s]\n"
     ]
    }
   ],
   "source": [
    "for param in list_of_params.keys():\n",
    "    start = list_of_params[param]['start']\n",
    "    stop = list_of_params[param]['stop']\n",
    "    step = list_of_params[param]['step']\n",
    "    \n",
    "    param_arr = np.arange(start, stop, step)\n",
    "    n_samples = np.int(round((stop-start)/step, 0))\n",
    "    \n",
    "    print(\"Tuning %s\" %param)\n",
    "    \n",
    "    if param == 'max_depth':    \n",
    "        ba_arr_depth = np.zeros(n_samples)\n",
    "        param_arr_depth = np.zeros(n_samples)\n",
    "        depth_arr_depth = np.zeros(n_samples)\n",
    "        \n",
    "        for idx, val in tqdm(enumerate(param_arr)):\n",
    "            new_tree = DecisionTreeClassifier(max_depth=val).fit(X_train, y_train)\n",
    "            new_tree_y_valid_pred = new_tree.predict(X_valid).reshape(-1,1)\n",
    "\n",
    "            ba_arr_depth[idx], param_arr_depth[idx], depth_arr_depth[idx] = balanced_accuracy_score(y_valid, new_tree_y_valid_pred), val, new_tree.get_depth()\n",
    "\n",
    "    elif param == 'min_impurity_split':\n",
    "        ba_arr_imp_split = np.zeros(n_samples)\n",
    "        param_arr_imp_split = np.zeros(n_samples)\n",
    "        depth_arr_imp_split = np.zeros(n_samples)\n",
    "\n",
    "        for idx, val in tqdm(enumerate(param_arr)):\n",
    "            new_tree = DecisionTreeClassifier(min_impurity_split=val).fit(X_train, y_train)\n",
    "            new_tree_y_valid_pred = new_tree.predict(X_valid).reshape(-1,1)\n",
    "\n",
    "            ba_arr_imp_split[idx], param_arr_imp_split[idx], depth_arr_imp_split[idx] = balanced_accuracy_score(y_valid, new_tree_y_valid_pred), val, new_tree.get_depth()\n",
    "\n",
    "    elif param == 'max_features':\n",
    "        ba_arr_features = np.zeros(n_samples)\n",
    "        param_arr_features = np.zeros(n_samples)\n",
    "        depth_arr_features = np.zeros(n_samples)\n",
    "\n",
    "        for idx, val in tqdm(enumerate(param_arr)):\n",
    "            new_tree = DecisionTreeClassifier(max_features=val).fit(X_train, y_train)\n",
    "            new_tree_y_valid_pred = new_tree.predict(X_valid).reshape(-1,1)\n",
    "\n",
    "            ba_arr_features[idx], param_arr_features[idx], depth_arr_features[idx] = balanced_accuracy_score(y_valid, new_tree_y_valid_pred), val, new_tree.get_depth()\n",
    "\n",
    "    elif param == 'min_impurity_decrease':\n",
    "        ba_arr_imp_dec = np.zeros(n_samples)\n",
    "        param_arr_imp_dec = np.zeros(n_samples)\n",
    "        depth_arr_imp_dec = np.zeros(n_samples)\n",
    "\n",
    "        for idx, val in tqdm(enumerate(param_arr)):\n",
    "            new_tree = DecisionTreeClassifier(min_impurity_decrease=val).fit(X_train, y_train)\n",
    "            new_tree_y_valid_pred = new_tree.predict(X_valid).reshape(-1,1)\n",
    "\n",
    "            ba_arr_imp_dec[idx], param_arr_imp_dec[idx], depth_arr_imp_dec[idx] = balanced_accuracy_score(y_valid, new_tree_y_valid_pred), val, new_tree.get_depth()\n",
    "            \n",
    "            "
   ]
  },
  {
   "cell_type": "markdown",
   "id": "hungarian-bandwidth",
   "metadata": {},
   "source": [
    "### Visualize"
   ]
  },
  {
   "cell_type": "code",
   "execution_count": 92,
   "id": "fancy-story",
   "metadata": {},
   "outputs": [],
   "source": [
    "sns.set()"
   ]
  },
  {
   "cell_type": "code",
   "execution_count": 93,
   "id": "offensive-whale",
   "metadata": {},
   "outputs": [],
   "source": [
    "def plot_tree_arr(parameter_arr, accuracy_arr, metric_arr, param, metric_name=None):\n",
    "    if metric_name == None:\n",
    "        metric_name = 'Tree Depth'\n",
    "    \n",
    "    fig, ax1 = plt.subplots(figsize=(8,6))\n",
    "\n",
    "    ax1.plot(parameter_arr, accuracy_arr, c='tab:orange')\n",
    "    ax1.set_ylim([0.49,1.01])\n",
    "    ax1.set_xlabel(param, fontsize=14)\n",
    "    ax1.set_ylabel('Balanced Accuracy', fontsize=14, c='tab:orange')\n",
    "    ax1.set_title('Relationship between %s and Balanced Accuracy \\n and %s' % (param, metric_name), size=14)\n",
    "\n",
    "    ax2 = plt.twinx()\n",
    "    ax2.plot(parameter_arr, metric_arr, c='tab:blue')\n",
    "    ax2.set_ylabel(metric_name, c='tab:blue', fontsize=14, rotation=-90, labelpad=15)\n",
    "    \n",
    "    plt.show()"
   ]
  },
  {
   "cell_type": "markdown",
   "id": "corresponding-mitchell",
   "metadata": {},
   "source": [
    "#### Decision Tree"
   ]
  },
  {
   "cell_type": "code",
   "execution_count": 94,
   "id": "alien-market",
   "metadata": {},
   "outputs": [
    {
     "data": {
      "image/png": "[encoded data removed]",
      "text/plain": [
       "<Figure size 432x288 with 1 Axes>"
      ]
     },
     "metadata": {},
     "output_type": "display_data"
    }
   ],
   "source": [
    "plt.plot(param_arr_depth, ba_arr_depth)\n",
    "plt.title('Effect of Tree Depth on Balanced Accuracy')\n",
    "plt.xlabel('Tree Depth')\n",
    "plt.ylabel('Balanced Acccuracy')\n",
    "plt.show()"
   ]
  },
  {
   "cell_type": "code",
   "execution_count": 95,
   "id": "perceived-america",
   "metadata": {},
   "outputs": [],
   "source": [
    "best_depth = param_arr_depth[np.where(ba_arr_depth == np.max(ba_arr_depth))[0][0]]"
   ]
  },
  {
   "cell_type": "code",
   "execution_count": 96,
   "id": "third-collins",
   "metadata": {},
   "outputs": [
    {
     "name": "stdout",
     "output_type": "stream",
     "text": [
      "Balanced Accuracy is maximized at a tree depth of 81.0. However, so many trees may lead to overfitting, \n",
      "especially since most of the splits are on one feature, current_premium.\n"
     ]
    }
   ],
   "source": [
    "print(\"Balanced Accuracy is maximized at a tree depth of %s. However, so many trees may lead to overfitting, \\nespecially since most of the splits are on one feature, current_premium.\" % best_depth)\n",
    "\n"
   ]
  },
  {
   "cell_type": "code",
   "execution_count": 97,
   "id": "functional-passing",
   "metadata": {},
   "outputs": [
    {
     "data": {
      "image/png": "[encoded data removed]",
      "text/plain": [
       "<Figure size 576x432 with 2 Axes>"
      ]
     },
     "metadata": {},
     "output_type": "display_data"
    }
   ],
   "source": [
    "plot_tree_arr(param_arr_imp_split, ba_arr_imp_split, depth_arr_imp_split, param='min_impurity_split')"
   ]
  },
  {
   "cell_type": "code",
   "execution_count": 98,
   "id": "fossil-display",
   "metadata": {},
   "outputs": [],
   "source": [
    "upper_imp_split = param_arr_imp_split[np.where(depth_arr_imp_split == max(depth_arr_imp_split))[0][-1]]"
   ]
  },
  {
   "cell_type": "code",
   "execution_count": 99,
   "id": "strong-dietary",
   "metadata": {
    "scrolled": true
   },
   "outputs": [],
   "source": [
    "lower_imp_split = param_arr_imp_split[np.where(depth_arr_imp_split == min(depth_arr_imp_split))[0][-1]]"
   ]
  },
  {
   "cell_type": "code",
   "execution_count": 100,
   "id": "loving-melbourne",
   "metadata": {},
   "outputs": [
    {
     "name": "stdout",
     "output_type": "stream",
     "text": [
      "When min_impurity_split <= 0.004000, there are too many splits leading to overfitting. When min_impurity_split > 0.113000, there are too few splits leading to underfitting. Hence, the optimal value for min_impurity_split lies between these two values\n"
     ]
    }
   ],
   "source": [
    "print(\"When min_impurity_split <= %f, there are too many splits leading to overfitting. When min_impurity_split > %f, there are too few splits leading to underfitting. Hence, the optimal value for min_impurity_split lies between these two values\" %(upper_imp_split, lower_imp_split))\n",
    "\n"
   ]
  },
  {
   "cell_type": "code",
   "execution_count": 101,
   "id": "leading-statement",
   "metadata": {},
   "outputs": [
    {
     "data": {
      "image/png": "[encoded data removed]",
      "text/plain": [
       "<Figure size 576x432 with 2 Axes>"
      ]
     },
     "metadata": {},
     "output_type": "display_data"
    }
   ],
   "source": [
    "plot_tree_arr(param_arr_features, ba_arr_features, depth_arr_features, param='max_features')"
   ]
  },
  {
   "cell_type": "code",
   "execution_count": 102,
   "id": "rapid-temple",
   "metadata": {},
   "outputs": [
    {
     "data": {
      "text/plain": [
       "0.9707214763072"
      ]
     },
     "execution_count": 102,
     "metadata": {},
     "output_type": "execute_result"
    }
   ],
   "source": [
    "# only the first feature, current_premium, is predictive of the target variable, risk_group\n",
    "tree.feature_importances_[0]"
   ]
  },
  {
   "cell_type": "code",
   "execution_count": 103,
   "id": "spiritual-dominican",
   "metadata": {},
   "outputs": [
    {
     "name": "stdout",
     "output_type": "stream",
     "text": [
      "Increasing the number of max_features does not affect Balanced Accuracy. That is because only one feature, current_premium, is predictive of the target variable, risk_group, according to the decision tree algorithm.\n"
     ]
    }
   ],
   "source": [
    "print(\"Increasing the number of max_features does not affect Balanced Accuracy. That is because only one feature, current_premium, is predictive of the target variable, risk_group, according to the decision tree algorithm.\")\n",
    "\n"
   ]
  },
  {
   "cell_type": "code",
   "execution_count": 104,
   "id": "literary-nation",
   "metadata": {},
   "outputs": [
    {
     "data": {
      "image/png": "[encoded data removed]",
      "text/plain": [
       "<Figure size 576x432 with 2 Axes>"
      ]
     },
     "metadata": {},
     "output_type": "display_data"
    }
   ],
   "source": [
    "plot_tree_arr(param_arr_imp_dec, ba_arr_imp_dec, depth_arr_imp_dec, param='min_impurity_decrease')"
   ]
  },
  {
   "cell_type": "code",
   "execution_count": 105,
   "id": "recognized-discipline",
   "metadata": {},
   "outputs": [],
   "source": [
    "upper_imp_dec = param_arr_imp_dec[np.where(ba_arr_imp_dec == 0.5)[0][-1]+1]"
   ]
  },
  {
   "cell_type": "code",
   "execution_count": 106,
   "id": "inappropriate-sheep",
   "metadata": {},
   "outputs": [
    {
     "name": "stdout",
     "output_type": "stream",
     "text": [
      "A min_impurity_decrease < 0.430000 maximizes Balanced Accuracy.\n"
     ]
    }
   ],
   "source": [
    "print(\"A min_impurity_decrease < %f maximizes Balanced Accuracy.\" % upper_imp_dec)"
   ]
  },
  {
   "cell_type": "markdown",
   "id": "closing-assembly",
   "metadata": {},
   "source": [
    "#### Random Forest"
   ]
  },
  {
   "cell_type": "code",
   "execution_count": 107,
   "id": "deadly-standing",
   "metadata": {
    "scrolled": true
   },
   "outputs": [
    {
     "name": "stderr",
     "output_type": "stream",
     "text": [
      "1it [00:00,  6.53it/s]"
     ]
    },
    {
     "name": "stdout",
     "output_type": "stream",
     "text": [
      "10\n"
     ]
    },
    {
     "name": "stderr",
     "output_type": "stream",
     "text": [
      "10it [00:52,  5.28s/it]\n"
     ]
    }
   ],
   "source": [
    "param = 'n_estimators'\n",
    "\n",
    "# set start, stop, step\n",
    "start = 1\n",
    "stop = 101\n",
    "step = 10\n",
    "\n",
    "n_samples = np.int(round((stop-start)/step, 0))\n",
    "print(n_samples)\n",
    "\n",
    "param_arr_est = np.arange(start, stop, step)\n",
    "ba_arr_est = np.zeros(n_samples)\n",
    "depth_arr_est = np.zeros(n_samples)\n",
    "\n",
    "for idx, val in tqdm(enumerate(param_arr_est)):    \n",
    "    new_forest = RandomForestClassifier(n_estimators=val).fit(X_train, y_train)\n",
    "    new_forest_y_valid_pred = new_forest.predict(X_valid)\n",
    "    \n",
    "    ba_arr_est[idx], param_arr_est[idx], depth_arr_est[idx] = balanced_accuracy_score(y_valid, new_forest_y_valid_pred), val, len(new_forest.estimators_)\n",
    "    \n",
    "    "
   ]
  },
  {
   "cell_type": "code",
   "execution_count": 108,
   "id": "interested-telling",
   "metadata": {},
   "outputs": [
    {
     "data": {
      "image/png": "[encoded data removed]",
      "text/plain": [
       "<Figure size 432x288 with 1 Axes>"
      ]
     },
     "metadata": {},
     "output_type": "display_data"
    }
   ],
   "source": [
    "plt.plot(param_arr_est, ba_arr_est)\n",
    "plt.title('Effect of n_estimators on Balanced Accuracy')\n",
    "plt.ylim([0.45,1.05])\n",
    "plt.xlabel('n_estimators')\n",
    "plt.ylabel('Balanced Acccuracy')\n",
    "plt.show()"
   ]
  },
  {
   "cell_type": "code",
   "execution_count": 109,
   "id": "complete-justice",
   "metadata": {},
   "outputs": [
    {
     "name": "stdout",
     "output_type": "stream",
     "text": [
      "Similar to max_features, n_estimators has no effect on Balanced Accuracy.\n"
     ]
    }
   ],
   "source": [
    "print(\"Similar to max_features, n_estimators has no effect on Balanced Accuracy.\")"
   ]
  },
  {
   "cell_type": "markdown",
   "id": "local-assistant",
   "metadata": {},
   "source": [
    "#### Compute fairness metrics at different values for max_depth"
   ]
  },
  {
   "cell_type": "code",
   "execution_count": 110,
   "id": "focal-decrease",
   "metadata": {},
   "outputs": [],
   "source": [
    "privileged_groups = [{'male': 0, 'middle-aged': 0, 'minority': 0, 'ypc_1': 0}]\n",
    "unprivileged_groups = [{'male': 1, 'middle-aged': 1, 'minority': 1, 'ypc_1': 1}]\n",
    "\n",
    "# select dataset\n",
    "d1 = dataset_test\n",
    "d2 = dataset_test_pred"
   ]
  },
  {
   "cell_type": "code",
   "execution_count": 111,
   "id": "inner-parcel",
   "metadata": {
    "scrolled": true
   },
   "outputs": [
    {
     "name": "stderr",
     "output_type": "stream",
     "text": [
      "100%|██████████| 13/13 [00:05<00:00,  2.24it/s]\n"
     ]
    }
   ],
   "source": [
    "bal_acc_arr = []\n",
    "mean_diff_arr = []\n",
    "avg_odds_arr = []\n",
    "disp_imp_arr = []\n",
    "\n",
    "# needs to be same for original and transformed datasets\n",
    "param_arr = [1,10,20,30,40,50,60,70,80,90,100,110,120]\n",
    "\n",
    "for param in tqdm(param_arr):\n",
    "    # fit a new decision tree\n",
    "    new_tree = DecisionTreeClassifier(max_depth=param).fit(X_train, y_train)\n",
    "    new_tree_y_test_pred = new_tree.predict(X_test).reshape(-1,1)\n",
    "    # update predictions\n",
    "    d2.labels = new_tree_y_test_pred\n",
    "    \n",
    "    metrics_test = ClassificationMetric(d1, d2,\n",
    "                                        unprivileged_groups=unprivileged_groups,\n",
    "                                        privileged_groups=privileged_groups)\n",
    "    \n",
    "    bal_acc = 0.5*(metrics_test.true_positive_rate()+metrics_test.true_negative_rate())\n",
    "    bal_acc_arr.append(bal_acc)\n",
    "    \n",
    "    mean_diff_arr.append(metrics_test.mean_difference())    \n",
    "    avg_odds_arr.append(metrics_test.average_odds_difference())\n",
    "    disp_imp_arr.append(metrics_test.disparate_impact())"
   ]
  },
  {
   "cell_type": "code",
   "execution_count": 112,
   "id": "ultimate-robinson",
   "metadata": {
    "scrolled": false
   },
   "outputs": [
    {
     "data": {
      "image/png": "[encoded data removed]",
      "text/plain": [
       "<Figure size 576x432 with 2 Axes>"
      ]
     },
     "metadata": {},
     "output_type": "display_data"
    }
   ],
   "source": [
    "plot_tree_arr(param_arr, bal_acc_arr, mean_diff_arr, param='max_depth', metric_name='Mean Difference')"
   ]
  },
  {
   "cell_type": "code",
   "execution_count": 113,
   "id": "wound-salmon",
   "metadata": {},
   "outputs": [
    {
     "data": {
      "image/png": "[encoded data removed]",
      "text/plain": [
       "<Figure size 576x432 with 2 Axes>"
      ]
     },
     "metadata": {},
     "output_type": "display_data"
    }
   ],
   "source": [
    "plot_tree_arr(param_arr, bal_acc_arr, disp_imp_arr, param='max_depth', metric_name='Disparate Impact')"
   ]
  },
  {
   "cell_type": "markdown",
   "id": "executive-bangladesh",
   "metadata": {},
   "source": [
    "#### Train on transformed data"
   ]
  },
  {
   "cell_type": "code",
   "execution_count": 114,
   "id": "optional-natural",
   "metadata": {},
   "outputs": [],
   "source": [
    "# 70:30 split into train, test\n",
    "dataset_transf_train, dataset_transf_test = dataset_transf.split([0.7], shuffle=True)"
   ]
  },
  {
   "cell_type": "markdown",
   "id": "wound-divorce",
   "metadata": {},
   "source": [
    "#### Train"
   ]
  },
  {
   "cell_type": "code",
   "execution_count": 115,
   "id": "unusual-needle",
   "metadata": {},
   "outputs": [],
   "source": [
    "X_train_transf = dataset_transf_train.features\n",
    "y_train_transf = dataset_transf_train.labels.ravel()\n",
    "w_train_transf = dataset_transf_train.instance_weights.ravel()\n",
    "\n",
    "tree_transf = DecisionTreeClassifier(random_state=786).fit(X_train, y_train)\n",
    "tree_y_train_pred = tree_transf.predict(X_train)"
   ]
  },
  {
   "cell_type": "markdown",
   "id": "heavy-pavilion",
   "metadata": {},
   "source": [
    "#### Test"
   ]
  },
  {
   "cell_type": "code",
   "execution_count": 116,
   "id": "alpha-inspector",
   "metadata": {},
   "outputs": [],
   "source": [
    "dataset_transf_test_pred = dataset_transf_test.copy(deepcopy=True)\n",
    "\n",
    "X_test_transf = dataset_transf_test_pred.features\n",
    "y_test_transf = dataset_transf_test_pred.labels\n",
    "\n",
    "# prob of predicting obs to be in risk group 1\n",
    "pos_ind = 1\n",
    "dataset_transf_test_pred.scores = tree_transf.predict_proba(X_test_transf)[:,pos_ind].reshape(-1,1)\n",
    "y_test_preds_transf = dataset_transf_test_pred.scores"
   ]
  },
  {
   "cell_type": "code",
   "execution_count": 117,
   "id": "tracked-laundry",
   "metadata": {},
   "outputs": [],
   "source": [
    "# select dataset\n",
    "d1 = dataset_transf_test\n",
    "d2 = dataset_transf_test_pred"
   ]
  },
  {
   "cell_type": "code",
   "execution_count": 118,
   "id": "looking-vector",
   "metadata": {},
   "outputs": [
    {
     "name": "stderr",
     "output_type": "stream",
     "text": [
      "100%|██████████| 13/13 [00:06<00:00,  2.04it/s]\n"
     ]
    }
   ],
   "source": [
    "bal_acc_arr_transf = []\n",
    "mean_diff_arr_transf = []\n",
    "avg_odds_arr_transf = []\n",
    "disp_imp_arr_transf = []\n",
    "\n",
    "for param in tqdm(param_arr):\n",
    "    # fit a new decision tree\n",
    "    new_tree = DecisionTreeClassifier(max_depth=param).fit(X_train_transf, y_train_transf)\n",
    "    new_tree_y_test_pred_transf = new_tree.predict(X_test_transf).reshape(-1,1)\n",
    "    # update predictions\n",
    "    d2.labels = new_tree_y_test_pred_transf\n",
    "    \n",
    "    metrics_test = ClassificationMetric(d1, d2,\n",
    "                                        unprivileged_groups=unprivileged_groups,\n",
    "                                        privileged_groups=privileged_groups)\n",
    "    \n",
    "    bal_acc = 0.5*(metrics_test.true_positive_rate()+metrics_test.true_negative_rate())\n",
    "    bal_acc_arr_transf.append(bal_acc)\n",
    "    \n",
    "    mean_diff_arr_transf.append(metrics_test.mean_difference())    \n",
    "    avg_odds_arr_transf.append(metrics_test.average_odds_difference())\n",
    "    disp_imp_arr_transf.append(metrics_test.disparate_impact())"
   ]
  },
  {
   "cell_type": "markdown",
   "id": "exciting-preservation",
   "metadata": {},
   "source": [
    "<a id='tradeoffs'></a>"
   ]
  },
  {
   "cell_type": "markdown",
   "id": "drawn-promise",
   "metadata": {},
   "source": [
    "[Go to top](#main)"
   ]
  },
  {
   "cell_type": "markdown",
   "id": "common-orientation",
   "metadata": {},
   "source": [
    "### Tradeoffs"
   ]
  },
  {
   "cell_type": "code",
   "execution_count": 119,
   "id": "accurate-collector",
   "metadata": {},
   "outputs": [],
   "source": [
    "def plot_tradeoffs(thresholds_array, accuracy_array, fairness_array, transformed_fairness_array, ax, name):\n",
    "    ax.plot(thresholds_array, accuracy_array)\n",
    "    ax.set_xlabel('Decision Tree Depth', fontsize=10.5)\n",
    "    ax.set_ylabel('Balanced Accuracy', color='b', fontsize=12, labelpad=15)\n",
    "    # best_class_thresh used as global variable\n",
    "    # ax.axvline(best_class_thresh, color='k', linestyle=':')\n",
    "\n",
    "    ax1 = ax.twinx()\n",
    "    ax1.plot(thresholds_array, fairness_array, color='r', alpha=0.5)\n",
    "    ax1.set_ylabel(name, color='r', fontsize=12, rotation=-90, labelpad=15)\n",
    "    ax1.plot(thresholds_array, transformed_fairness_array, color='r')\n",
    "    \n",
    "    ax.set_title(name, fontsize=16)\n",
    "    ax1.legend(['Original', 'Transformed'], loc='lower left')\n",
    "    ax1.grid(True)"
   ]
  },
  {
   "cell_type": "code",
   "execution_count": 120,
   "id": "accepting-fortune",
   "metadata": {
    "scrolled": false
   },
   "outputs": [
    {
     "data": {
      "image/png": "[encoded data removed]",
      "text/plain": [
       "<Figure size 576x720 with 4 Axes>"
      ]
     },
     "metadata": {},
     "output_type": "display_data"
    }
   ],
   "source": [
    "fig, ax = plt.subplots(ncols=1, nrows=2, figsize=(8,10))\n",
    "\n",
    "plot_tradeoffs(param_arr, bal_acc_arr, mean_diff_arr, mean_diff_arr_transf, ax=ax[0], name='Mean Difference')\n",
    "\n",
    "plot_tradeoffs(param_arr, bal_acc_arr, disp_imp_arr, disp_imp_arr_transf, ax=ax[1], name='Disparate Impact')\n",
    "\n",
    "fig.tight_layout(h_pad=2, w_pad=2.5)\n",
    "fig.suptitle('Tradeoff between Balanced Accuracy and Fairness for Decision Tree. \\nDataset: Allstate (2020)', \n",
    "             x=0.5, y=1.04, size=20)\n",
    "plt.show()"
   ]
  },
  {
   "cell_type": "markdown",
   "id": "finished-settlement",
   "metadata": {},
   "source": [
    "[Go to top](#main)"
   ]
  }
 ],
 "metadata": {
  "kernelspec": {
   "display_name": "Python 3",
   "language": "python",
   "name": "python3"
  },
  "language_info": {
   "codemirror_mode": {
    "name": "ipython",
    "version": 3
   },
   "file_extension": ".py",
   "mimetype": "text/x-python",
   "name": "python",
   "nbconvert_exporter": "python",
   "pygments_lexer": "ipython3",
   "version": "3.6.12"
  }
 },
 "nbformat": 4,
 "nbformat_minor": 5
}
