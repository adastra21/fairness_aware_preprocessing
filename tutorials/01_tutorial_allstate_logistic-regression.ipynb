{
 "cells": [
  {
   "cell_type": "code",
   "execution_count": 1,
   "id": "going-extent",
   "metadata": {},
   "outputs": [
    {
     "name": "stderr",
     "output_type": "stream",
     "text": [
      "WARNING:root:No module named 'tensorflow': AdversarialDebiasing will be unavailable. To install, run:\n",
      "pip install 'aif360[AdversarialDebiasing]'\n",
      "WARNING:root:No module named 'numba.decorators': LFR will be unavailable. To install, run:\n",
      "pip install 'aif360[LFR]'\n"
     ]
    }
   ],
   "source": [
    "import pandas as pd\n",
    "import numpy as np\n",
    "\n",
    "import matplotlib.pylab as plt\n",
    "import seaborn as sns\n",
    "\n",
    "from sklearn.utils import resample\n",
    "\n",
    "from aif360.datasets import BinaryLabelDataset\n",
    "from aif360.metrics import BinaryLabelDatasetMetric, ClassificationMetric\n",
    "from aif360.explainers import MetricTextExplainer, MetricJSONExplainer\n",
    "from aif360.algorithms.preprocessing.reweighing import Reweighing\n",
    "\n",
    "import json\n",
    "\n",
    "from sklearn.preprocessing import StandardScaler, scale\n",
    "from sklearn.linear_model import LogisticRegression\n",
    "from sklearn.metrics import accuracy_score, balanced_accuracy_score, precision_score, recall_score\n",
    "\n",
    "from IPython.display import Markdown, display\n",
    "from tqdm import tqdm\n",
    "\n",
    "import warnings\n",
    "warnings.filterwarnings('ignore')"
   ]
  },
  {
   "cell_type": "markdown",
   "id": "architectural-aberdeen",
   "metadata": {},
   "source": [
    "<a id='main'></a>"
   ]
  },
  {
   "cell_type": "markdown",
   "id": "opponent-sapphire",
   "metadata": {},
   "source": [
    "### Steps in the Data Science Pipeline\n",
    "\n",
    "1. Data Preparation  \n",
    "    a. [Allstate datasets](#allstate_datasets)  \n",
    "    b. [American Community Survey (ACS) dataset](#acs_dataset)\n",
    "2. [Exploratory Data Analysis](#data_expo)  \n",
    "    a. [Relationships with Change in Premium](#change_in_prem)  \n",
    "    b. [Distribution of Change in Premium by Risk Group](#risk_grp)\n",
    "3. [Features Engineering](#features)  \n",
    "    a. [Upsample for modelling dataset](#upsample)\n",
    "4. Bias Detection and Mitigation  \n",
    "    a. [Bias Detection](#find_bias)  \n",
    "    b. [Bias Mitigation](#fix_bias)  \n",
    "5. [Modelling](#data_model)  \n",
    "6. [Tradeoffs](#tradeoffs)"
   ]
  },
  {
   "cell_type": "markdown",
   "id": "preliminary-anthony",
   "metadata": {},
   "source": [
    "<a id='allstate_datasets'></a>"
   ]
  },
  {
   "cell_type": "markdown",
   "id": "advisory-meeting",
   "metadata": {},
   "source": [
    "### 1. Data Preparation"
   ]
  },
  {
   "cell_type": "markdown",
   "id": "fixed-coupon",
   "metadata": {},
   "source": [
    "Source: https://github.com/the-markup/investigation-allstates-algorithm/tree/master/data/csv"
   ]
  },
  {
   "cell_type": "markdown",
   "id": "direct-phase",
   "metadata": {},
   "source": [
    "### 1a. Allstate datasets"
   ]
  },
  {
   "cell_type": "code",
   "execution_count": 2,
   "id": "subtle-flavor",
   "metadata": {},
   "outputs": [],
   "source": [
    "df1 = pd.read_csv('../data/allstate/cgr-premiums-table.csv')"
   ]
  },
  {
   "cell_type": "code",
   "execution_count": 3,
   "id": "laughing-cancer",
   "metadata": {},
   "outputs": [],
   "source": [
    "df2 = pd.read_csv('../data/allstate/territory-definitions-table.csv')"
   ]
  },
  {
   "cell_type": "code",
   "execution_count": 4,
   "id": "binding-appendix",
   "metadata": {},
   "outputs": [],
   "source": [
    "# remove dupe territories\n",
    "df2 = df2[~df2['territory'].duplicated()].copy()"
   ]
  },
  {
   "cell_type": "code",
   "execution_count": 5,
   "id": "finnish-simon",
   "metadata": {},
   "outputs": [],
   "source": [
    "df2.reset_index(drop=True, inplace=True)"
   ]
  },
  {
   "cell_type": "code",
   "execution_count": 6,
   "id": "naval-sociology",
   "metadata": {
    "scrolled": true
   },
   "outputs": [],
   "source": [
    "df = df1.merge(df2, on='territory', suffixes=('', ''))"
   ]
  },
  {
   "cell_type": "code",
   "execution_count": 7,
   "id": "special-celtic",
   "metadata": {},
   "outputs": [
    {
     "data": {
      "text/plain": [
       "(92792, 17)"
      ]
     },
     "execution_count": 7,
     "metadata": {},
     "output_type": "execute_result"
    }
   ],
   "source": [
    "df.shape"
   ]
  },
  {
   "cell_type": "markdown",
   "id": "plain-operations",
   "metadata": {},
   "source": [
    "<a id='acs_dataset'></a>"
   ]
  },
  {
   "cell_type": "markdown",
   "id": "pregnant-malta",
   "metadata": {},
   "source": [
    "[Go to top](#main)"
   ]
  },
  {
   "cell_type": "markdown",
   "id": "champion-trading",
   "metadata": {},
   "source": [
    "### 1b. ACS dataset"
   ]
  },
  {
   "cell_type": "code",
   "execution_count": 8,
   "id": "developing-quest",
   "metadata": {},
   "outputs": [],
   "source": [
    "# get demographics\n",
    "df3 = pd.read_csv('../data/allstate/ACS_MD_15_5YR_DP05.csv')"
   ]
  },
  {
   "cell_type": "code",
   "execution_count": 9,
   "id": "fitting-lexington",
   "metadata": {},
   "outputs": [],
   "source": [
    "df3['population'] = df3['HC01_VC88'] + df3['HC01_VC94'] + df3['HC01_VC95'] + df3['HC01_VC96'] + df3['HC01_VC97'] + df3['HC01_VC98'] + df3['HC01_VC99']"
   ]
  },
  {
   "cell_type": "code",
   "execution_count": 10,
   "id": "proof-violation",
   "metadata": {},
   "outputs": [],
   "source": [
    "df3['perc_nonwhite'] = 100 * (df3['population'] - df3['HC01_VC94']) / df3['population']"
   ]
  },
  {
   "cell_type": "code",
   "execution_count": 11,
   "id": "rental-threshold",
   "metadata": {},
   "outputs": [],
   "source": [
    "# remove missing data\n",
    "df3 = df3[~df3['perc_nonwhite'].isna()].copy()"
   ]
  },
  {
   "cell_type": "code",
   "execution_count": 12,
   "id": "intimate-repair",
   "metadata": {
    "scrolled": true
   },
   "outputs": [],
   "source": [
    "df3['majority_minority'] = df3['perc_nonwhite'] > 0.75"
   ]
  },
  {
   "cell_type": "code",
   "execution_count": 13,
   "id": "composite-columbia",
   "metadata": {},
   "outputs": [],
   "source": [
    "df3 = df3[['GEO.id2', 'population', 'perc_nonwhite', 'majority_minority']].copy()"
   ]
  },
  {
   "cell_type": "code",
   "execution_count": 14,
   "id": "little-storm",
   "metadata": {
    "scrolled": true
   },
   "outputs": [],
   "source": [
    "df = df.merge(df3, left_on='zipcode', right_on='GEO.id2')"
   ]
  },
  {
   "cell_type": "code",
   "execution_count": 15,
   "id": "characteristic-weather",
   "metadata": {},
   "outputs": [
    {
     "data": {
      "text/plain": [
       "(92786, 21)"
      ]
     },
     "execution_count": 15,
     "metadata": {},
     "output_type": "execute_result"
    }
   ],
   "source": [
    "# NOTE: lost 5 policyholders w/ a match\n",
    "df.shape"
   ]
  },
  {
   "cell_type": "code",
   "execution_count": 16,
   "id": "southeast-beauty",
   "metadata": {},
   "outputs": [
    {
     "data": {
      "text/html": [
       "<div>\n",
       "<style scoped>\n",
       "    .dataframe tbody tr th:only-of-type {\n",
       "        vertical-align: middle;\n",
       "    }\n",
       "\n",
       "    .dataframe tbody tr th {\n",
       "        vertical-align: top;\n",
       "    }\n",
       "\n",
       "    .dataframe thead th {\n",
       "        text-align: right;\n",
       "    }\n",
       "</style>\n",
       "<table border=\"1\" class=\"dataframe\">\n",
       "  <thead>\n",
       "    <tr style=\"text-align: right;\">\n",
       "      <th></th>\n",
       "      <th>territory</th>\n",
       "      <th>gender</th>\n",
       "      <th>birthdate</th>\n",
       "      <th>ypc</th>\n",
       "      <th>current_premium</th>\n",
       "      <th>indicated_premium</th>\n",
       "      <th>selected_premium</th>\n",
       "      <th>underlying_premium</th>\n",
       "      <th>fixed_expenses</th>\n",
       "      <th>underlying_total_premium</th>\n",
       "      <th>...</th>\n",
       "      <th>cgr</th>\n",
       "      <th>county</th>\n",
       "      <th>county_code</th>\n",
       "      <th>zipcode</th>\n",
       "      <th>town</th>\n",
       "      <th>area</th>\n",
       "      <th>GEO.id2</th>\n",
       "      <th>population</th>\n",
       "      <th>perc_nonwhite</th>\n",
       "      <th>majority_minority</th>\n",
       "    </tr>\n",
       "  </thead>\n",
       "  <tbody>\n",
       "    <tr>\n",
       "      <th>0</th>\n",
       "      <td>601</td>\n",
       "      <td>M</td>\n",
       "      <td>10/5/1947</td>\n",
       "      <td>0</td>\n",
       "      <td>863.97</td>\n",
       "      <td>830.58</td>\n",
       "      <td>862.57</td>\n",
       "      <td>673.06</td>\n",
       "      <td>175.98</td>\n",
       "      <td>849.04</td>\n",
       "      <td>...</td>\n",
       "      <td>ZHK</td>\n",
       "      <td>CHARLES</td>\n",
       "      <td>8</td>\n",
       "      <td>20601</td>\n",
       "      <td>WALDORF</td>\n",
       "      <td>210</td>\n",
       "      <td>20601</td>\n",
       "      <td>24233</td>\n",
       "      <td>58.758717</td>\n",
       "      <td>True</td>\n",
       "    </tr>\n",
       "    <tr>\n",
       "      <th>1</th>\n",
       "      <td>601</td>\n",
       "      <td>F</td>\n",
       "      <td>7/6/1953</td>\n",
       "      <td>0</td>\n",
       "      <td>828.63</td>\n",
       "      <td>611.14</td>\n",
       "      <td>826.43</td>\n",
       "      <td>612.75</td>\n",
       "      <td>175.98</td>\n",
       "      <td>788.73</td>\n",
       "      <td>...</td>\n",
       "      <td>6NS</td>\n",
       "      <td>CHARLES</td>\n",
       "      <td>8</td>\n",
       "      <td>20601</td>\n",
       "      <td>WALDORF</td>\n",
       "      <td>210</td>\n",
       "      <td>20601</td>\n",
       "      <td>24233</td>\n",
       "      <td>58.758717</td>\n",
       "      <td>True</td>\n",
       "    </tr>\n",
       "    <tr>\n",
       "      <th>2</th>\n",
       "      <td>601</td>\n",
       "      <td>M</td>\n",
       "      <td>4/18/1956</td>\n",
       "      <td>0</td>\n",
       "      <td>1000.59</td>\n",
       "      <td>593.99</td>\n",
       "      <td>996.60</td>\n",
       "      <td>858.20</td>\n",
       "      <td>175.98</td>\n",
       "      <td>1034.18</td>\n",
       "      <td>...</td>\n",
       "      <td>Z2D</td>\n",
       "      <td>CHARLES</td>\n",
       "      <td>8</td>\n",
       "      <td>20601</td>\n",
       "      <td>WALDORF</td>\n",
       "      <td>210</td>\n",
       "      <td>20601</td>\n",
       "      <td>24233</td>\n",
       "      <td>58.758717</td>\n",
       "      <td>True</td>\n",
       "    </tr>\n",
       "    <tr>\n",
       "      <th>3</th>\n",
       "      <td>601</td>\n",
       "      <td>F</td>\n",
       "      <td>8/16/1956</td>\n",
       "      <td>0</td>\n",
       "      <td>700.42</td>\n",
       "      <td>547.95</td>\n",
       "      <td>697.84</td>\n",
       "      <td>571.49</td>\n",
       "      <td>180.48</td>\n",
       "      <td>751.97</td>\n",
       "      <td>...</td>\n",
       "      <td>D7G</td>\n",
       "      <td>CHARLES</td>\n",
       "      <td>8</td>\n",
       "      <td>20601</td>\n",
       "      <td>WALDORF</td>\n",
       "      <td>210</td>\n",
       "      <td>20601</td>\n",
       "      <td>24233</td>\n",
       "      <td>58.758717</td>\n",
       "      <td>True</td>\n",
       "    </tr>\n",
       "    <tr>\n",
       "      <th>4</th>\n",
       "      <td>601</td>\n",
       "      <td>F</td>\n",
       "      <td>1/23/1957</td>\n",
       "      <td>0</td>\n",
       "      <td>505.92</td>\n",
       "      <td>448.33</td>\n",
       "      <td>504.56</td>\n",
       "      <td>333.71</td>\n",
       "      <td>152.08</td>\n",
       "      <td>485.79</td>\n",
       "      <td>...</td>\n",
       "      <td>3YN</td>\n",
       "      <td>CHARLES</td>\n",
       "      <td>8</td>\n",
       "      <td>20601</td>\n",
       "      <td>WALDORF</td>\n",
       "      <td>210</td>\n",
       "      <td>20601</td>\n",
       "      <td>24233</td>\n",
       "      <td>58.758717</td>\n",
       "      <td>True</td>\n",
       "    </tr>\n",
       "  </tbody>\n",
       "</table>\n",
       "<p>5 rows × 21 columns</p>\n",
       "</div>"
      ],
      "text/plain": [
       "   territory gender  birthdate  ypc  current_premium  indicated_premium  \\\n",
       "0        601      M  10/5/1947    0           863.97             830.58   \n",
       "1        601      F   7/6/1953    0           828.63             611.14   \n",
       "2        601      M  4/18/1956    0          1000.59             593.99   \n",
       "3        601      F  8/16/1956    0           700.42             547.95   \n",
       "4        601      F  1/23/1957    0           505.92             448.33   \n",
       "\n",
       "   selected_premium  underlying_premium  fixed_expenses  \\\n",
       "0            862.57              673.06          175.98   \n",
       "1            826.43              612.75          175.98   \n",
       "2            996.60              858.20          175.98   \n",
       "3            697.84              571.49          180.48   \n",
       "4            504.56              333.71          152.08   \n",
       "\n",
       "   underlying_total_premium  ...  cgr   county county_code  zipcode     town  \\\n",
       "0                    849.04  ...  ZHK  CHARLES           8    20601  WALDORF   \n",
       "1                    788.73  ...  6NS  CHARLES           8    20601  WALDORF   \n",
       "2                   1034.18  ...  Z2D  CHARLES           8    20601  WALDORF   \n",
       "3                    751.97  ...  D7G  CHARLES           8    20601  WALDORF   \n",
       "4                    485.79  ...  3YN  CHARLES           8    20601  WALDORF   \n",
       "\n",
       "  area  GEO.id2  population  perc_nonwhite  majority_minority  \n",
       "0  210    20601       24233      58.758717               True  \n",
       "1  210    20601       24233      58.758717               True  \n",
       "2  210    20601       24233      58.758717               True  \n",
       "3  210    20601       24233      58.758717               True  \n",
       "4  210    20601       24233      58.758717               True  \n",
       "\n",
       "[5 rows x 21 columns]"
      ]
     },
     "execution_count": 16,
     "metadata": {},
     "output_type": "execute_result"
    }
   ],
   "source": [
    "df.head()"
   ]
  },
  {
   "cell_type": "markdown",
   "id": "advanced-thursday",
   "metadata": {},
   "source": [
    "<a id='data_expo'></a>"
   ]
  },
  {
   "cell_type": "markdown",
   "id": "rotary-leadership",
   "metadata": {},
   "source": [
    "[Go to top](#main)"
   ]
  },
  {
   "cell_type": "markdown",
   "id": "active-advance",
   "metadata": {},
   "source": [
    "### 2. Exploratory Data Analysis"
   ]
  },
  {
   "cell_type": "code",
   "execution_count": 17,
   "id": "under-payday",
   "metadata": {},
   "outputs": [],
   "source": [
    "# definitions\n",
    "# current premium ~ paying now\n",
    "# indicated premium (ideal price) ~ should be paying\n",
    "# selected premium (transition price) ~ retention-based (final premium)"
   ]
  },
  {
   "cell_type": "code",
   "execution_count": 18,
   "id": "frank-subcommittee",
   "metadata": {},
   "outputs": [
    {
     "name": "stdout",
     "output_type": "stream",
     "text": [
      "<class 'pandas.core.frame.DataFrame'>\n",
      "Int64Index: 92786 entries, 0 to 92785\n",
      "Data columns (total 21 columns):\n",
      " #   Column                    Non-Null Count  Dtype  \n",
      "---  ------                    --------------  -----  \n",
      " 0   territory                 92786 non-null  int64  \n",
      " 1   gender                    92786 non-null  object \n",
      " 2   birthdate                 92786 non-null  object \n",
      " 3   ypc                       92786 non-null  int64  \n",
      " 4   current_premium           92786 non-null  float64\n",
      " 5   indicated_premium         92786 non-null  float64\n",
      " 6   selected_premium          92786 non-null  float64\n",
      " 7   underlying_premium        92786 non-null  float64\n",
      " 8   fixed_expenses            92786 non-null  float64\n",
      " 9   underlying_total_premium  92786 non-null  float64\n",
      " 10  cgr_factor                92786 non-null  float64\n",
      " 11  cgr                       92786 non-null  object \n",
      " 12  county                    92786 non-null  object \n",
      " 13  county_code               92786 non-null  int64  \n",
      " 14  zipcode                   92786 non-null  int64  \n",
      " 15  town                      92786 non-null  object \n",
      " 16  area                      92786 non-null  int64  \n",
      " 17  GEO.id2                   92786 non-null  int64  \n",
      " 18  population                92786 non-null  int64  \n",
      " 19  perc_nonwhite             92786 non-null  float64\n",
      " 20  majority_minority         92786 non-null  bool   \n",
      "dtypes: bool(1), float64(8), int64(7), object(5)\n",
      "memory usage: 15.0+ MB\n"
     ]
    }
   ],
   "source": [
    "df.info()"
   ]
  },
  {
   "cell_type": "code",
   "execution_count": 19,
   "id": "silent-appendix",
   "metadata": {},
   "outputs": [],
   "source": [
    "today = pd.to_datetime('today').strftime('%m-%d-%Y')"
   ]
  },
  {
   "cell_type": "markdown",
   "id": "bearing-battle",
   "metadata": {},
   "source": [
    "#### Add Age"
   ]
  },
  {
   "cell_type": "code",
   "execution_count": 20,
   "id": "close-cooking",
   "metadata": {
    "scrolled": true
   },
   "outputs": [],
   "source": [
    "df['age'] = pd.to_datetime(today) - pd.to_datetime(df['birthdate'])"
   ]
  },
  {
   "cell_type": "code",
   "execution_count": 21,
   "id": "armed-dakota",
   "metadata": {},
   "outputs": [],
   "source": [
    "df['age'] = df['age'].dt.days / 365.2425"
   ]
  },
  {
   "cell_type": "code",
   "execution_count": 22,
   "id": "acceptable-treatment",
   "metadata": {},
   "outputs": [],
   "source": [
    "df['age_'] = df['age'].round().astype(int)"
   ]
  },
  {
   "cell_type": "markdown",
   "id": "respective-yugoslavia",
   "metadata": {},
   "source": [
    "#### Add Change in Premium"
   ]
  },
  {
   "cell_type": "code",
   "execution_count": 23,
   "id": "deadly-hudson",
   "metadata": {},
   "outputs": [],
   "source": [
    "df['change_in_premium'] = df['selected_premium'] - df['current_premium']"
   ]
  },
  {
   "cell_type": "code",
   "execution_count": 24,
   "id": "pressing-outline",
   "metadata": {},
   "outputs": [
    {
     "data": {
      "text/plain": [
       "<AxesSubplot:xlabel='current_premium', ylabel='change_in_premium'>"
      ]
     },
     "execution_count": 24,
     "metadata": {},
     "output_type": "execute_result"
    },
    {
     "data": {
      "image/png": "[encoded data removed]",
      "text/plain": [
       "<Figure size 432x288 with 1 Axes>"
      ]
     },
     "metadata": {
      "needs_background": "light"
     },
     "output_type": "display_data"
    }
   ],
   "source": [
    "# clearly a bifurcation around change in premium of $400\n",
    "sns.scatterplot(x='current_premium', y='change_in_premium', data=df)"
   ]
  },
  {
   "cell_type": "markdown",
   "id": "young-chamber",
   "metadata": {},
   "source": [
    "#### Add Risk Group"
   ]
  },
  {
   "cell_type": "code",
   "execution_count": 25,
   "id": "underlying-thousand",
   "metadata": {},
   "outputs": [],
   "source": [
    "# NOTE: two policies at 260.05\n",
    "df['risk_group'] = np.where(df['change_in_premium'] <= 260.05, 0, 1)"
   ]
  },
  {
   "cell_type": "code",
   "execution_count": 26,
   "id": "indoor-daniel",
   "metadata": {
    "scrolled": true
   },
   "outputs": [],
   "source": [
    "df = df.join(pd.get_dummies(df['risk_group'], prefix='risk_group'))"
   ]
  },
  {
   "cell_type": "code",
   "execution_count": 27,
   "id": "periodic-hawaiian",
   "metadata": {},
   "outputs": [
    {
     "data": {
      "text/plain": [
       "0    0.980223\n",
       "1    0.019777\n",
       "Name: risk_group, dtype: float64"
      ]
     },
     "execution_count": 27,
     "metadata": {},
     "output_type": "execute_result"
    }
   ],
   "source": [
    "df['risk_group'].value_counts(normalize=True)"
   ]
  },
  {
   "cell_type": "code",
   "execution_count": 28,
   "id": "dangerous-ceramic",
   "metadata": {
    "scrolled": false
   },
   "outputs": [
    {
     "data": {
      "image/png": "[encoded data removed]",
      "text/plain": [
       "<Figure size 576x432 with 1 Axes>"
      ]
     },
     "metadata": {
      "needs_background": "light"
     },
     "output_type": "display_data"
    }
   ],
   "source": [
    "# clearly a bifurcation around change in premium of $260.05\n",
    "plt.figure(figsize=(8,6))\n",
    "plt.xlim([0,8000])\n",
    "\n",
    "g = sns.scatterplot(x='current_premium', y='change_in_premium', hue='risk_group', data=df, legend='brief')\n",
    "\n",
    "plt.xlabel('Current Premium ($)')\n",
    "plt.ylabel('Change in Premium ($)')\n",
    "plt.title('Customers paying higher premiums will get greater increases \\n', fontsize=14)\n",
    "\n",
    "plt.show()"
   ]
  },
  {
   "cell_type": "markdown",
   "id": "fifty-stocks",
   "metadata": {},
   "source": [
    "<a id='change_in_prem'></a>"
   ]
  },
  {
   "cell_type": "markdown",
   "id": "mineral-startup",
   "metadata": {},
   "source": [
    "[Go to top](#main)"
   ]
  },
  {
   "cell_type": "markdown",
   "id": "advance-recipient",
   "metadata": {},
   "source": [
    "### 2a. Relationships with Change in Premium"
   ]
  },
  {
   "cell_type": "markdown",
   "id": "distinct-participant",
   "metadata": {},
   "source": [
    "#### Age"
   ]
  },
  {
   "cell_type": "code",
   "execution_count": 29,
   "id": "sporting-batch",
   "metadata": {},
   "outputs": [],
   "source": [
    "sns.reset_orig()"
   ]
  },
  {
   "cell_type": "code",
   "execution_count": 30,
   "id": "conventional-metallic",
   "metadata": {
    "scrolled": false
   },
   "outputs": [
    {
     "data": {
      "text/plain": [
       "<AxesSubplot:>"
      ]
     },
     "execution_count": 30,
     "metadata": {},
     "output_type": "execute_result"
    },
    {
     "data": {
      "image/png": "[encoded data removed]",
      "text/plain": [
       "<Figure size 432x288 with 1 Axes>"
      ]
     },
     "metadata": {
      "needs_background": "light"
     },
     "output_type": "display_data"
    }
   ],
   "source": [
    "# majority of the values are between -10 and 10\n",
    "# bimodal distribution – get the riskgroup 1 part\n",
    "df['change_in_premium'].hist(range=[5,100])"
   ]
  },
  {
   "cell_type": "code",
   "execution_count": 31,
   "id": "included-compilation",
   "metadata": {},
   "outputs": [],
   "source": [
    "df['age_group'] = pd.cut(df['age'], bins=[20, 40, 60, 80, 125], labels=['20-40', '40-60', '60-80', '80+'])"
   ]
  },
  {
   "cell_type": "code",
   "execution_count": 32,
   "id": "italic-atlantic",
   "metadata": {},
   "outputs": [
    {
     "data": {
      "text/plain": [
       "<AxesSubplot:xlabel='age_group'>"
      ]
     },
     "execution_count": 32,
     "metadata": {},
     "output_type": "execute_result"
    },
    {
     "data": {
      "image/png": "[encoded data removed]",
      "text/plain": [
       "<Figure size 432x288 with 1 Axes>"
      ]
     },
     "metadata": {
      "needs_background": "light"
     },
     "output_type": "display_data"
    }
   ],
   "source": [
    "df.groupby('age_group')['change_in_premium'].mean().plot(kind='bar')"
   ]
  },
  {
   "cell_type": "code",
   "execution_count": 33,
   "id": "increased-seller",
   "metadata": {},
   "outputs": [
    {
     "data": {
      "text/plain": [
       "<AxesSubplot:xlabel='gender'>"
      ]
     },
     "execution_count": 33,
     "metadata": {},
     "output_type": "execute_result"
    },
    {
     "data": {
      "image/png": "[encoded data removed]",
      "text/plain": [
       "<Figure size 432x288 with 1 Axes>"
      ]
     },
     "metadata": {
      "needs_background": "light"
     },
     "output_type": "display_data"
    }
   ],
   "source": [
    "df.groupby('gender')['change_in_premium'].mean().plot(kind='bar')"
   ]
  },
  {
   "cell_type": "code",
   "execution_count": 34,
   "id": "lyric-campbell",
   "metadata": {},
   "outputs": [
    {
     "data": {
      "text/plain": [
       "<AxesSubplot:xlabel='ypc'>"
      ]
     },
     "execution_count": 34,
     "metadata": {},
     "output_type": "execute_result"
    },
    {
     "data": {
      "image/png": "[encoded data removed]",
      "text/plain": [
       "<Figure size 432x288 with 1 Axes>"
      ]
     },
     "metadata": {
      "needs_background": "light"
     },
     "output_type": "display_data"
    }
   ],
   "source": [
    "df.groupby('ypc')['change_in_premium'].mean().plot(kind='bar')"
   ]
  },
  {
   "cell_type": "markdown",
   "id": "prime-trailer",
   "metadata": {},
   "source": [
    "<a id='risk_grp'></a>"
   ]
  },
  {
   "cell_type": "markdown",
   "id": "excited-traveler",
   "metadata": {},
   "source": [
    "[Go to top](#main)"
   ]
  },
  {
   "cell_type": "markdown",
   "id": "fourth-toolbox",
   "metadata": {},
   "source": [
    "### 2b. Distribution of Change in Premium by Risk Group"
   ]
  },
  {
   "cell_type": "code",
   "execution_count": 35,
   "id": "bizarre-premiere",
   "metadata": {},
   "outputs": [],
   "source": [
    "df['current_premium_bucket'] = pd.cut(df['current_premium'], bins=[0,1000,2000,3000,4000,5000,10000], \n",
    "                                     labels=['Up to \\$1000', '\\$1000 to \\$2000', '\\$2000 to \\$3000', \n",
    "                                             '\\$3000 to \\$4000', '\\$4000 to \\$5000', '\\$5000+'])\n",
    "\n"
   ]
  },
  {
   "cell_type": "code",
   "execution_count": 36,
   "id": "focal-international",
   "metadata": {},
   "outputs": [],
   "source": [
    "cur_prem_counts = df.groupby('current_premium_bucket')['risk_group_0', 'risk_group_1'].agg({'count', 'sum'})"
   ]
  },
  {
   "cell_type": "code",
   "execution_count": 37,
   "id": "tamil-sussex",
   "metadata": {},
   "outputs": [],
   "source": [
    "cur_prem_counts = cur_prem_counts.reset_index()"
   ]
  },
  {
   "cell_type": "code",
   "execution_count": 38,
   "id": "indoor-connecticut",
   "metadata": {},
   "outputs": [],
   "source": [
    "cur_prem_counts.columns = ['Current Premium Range', 'Total', 'Risk Group 0', 'Total', 'Risk Group 1']"
   ]
  },
  {
   "cell_type": "code",
   "execution_count": 39,
   "id": "infectious-blink",
   "metadata": {},
   "outputs": [],
   "source": [
    "cur_prem_counts['Total_'] = cur_prem_counts[['Total']].iloc[:,0]"
   ]
  },
  {
   "cell_type": "code",
   "execution_count": 40,
   "id": "appropriate-target",
   "metadata": {},
   "outputs": [],
   "source": [
    "cur_prem_counts.drop(columns={'Total'}, inplace=True)"
   ]
  },
  {
   "cell_type": "code",
   "execution_count": 41,
   "id": "communist-louisville",
   "metadata": {},
   "outputs": [],
   "source": [
    "cur_prem_counts.rename(columns={'Total_':'Total'}, inplace=True)"
   ]
  },
  {
   "cell_type": "code",
   "execution_count": 42,
   "id": "sonic-director",
   "metadata": {},
   "outputs": [],
   "source": [
    "tot_riskgrp0 = cur_prem_counts['Risk Group 0'].sum()\n",
    "tot_riskgrp1 = cur_prem_counts['Risk Group 1'].sum()"
   ]
  },
  {
   "cell_type": "code",
   "execution_count": 43,
   "id": "serial-sugar",
   "metadata": {},
   "outputs": [],
   "source": [
    "cur_prem_counts['% Risk Group 0'] = cur_prem_counts['Risk Group 0']/tot_riskgrp0 * 100\n",
    "cur_prem_counts['% Risk Group 1'] = cur_prem_counts['Risk Group 1']/tot_riskgrp1 * 100"
   ]
  },
  {
   "cell_type": "code",
   "execution_count": 44,
   "id": "impressive-phone",
   "metadata": {},
   "outputs": [
    {
     "data": {
      "text/html": [
       "<div>\n",
       "<style scoped>\n",
       "    .dataframe tbody tr th:only-of-type {\n",
       "        vertical-align: middle;\n",
       "    }\n",
       "\n",
       "    .dataframe tbody tr th {\n",
       "        vertical-align: top;\n",
       "    }\n",
       "\n",
       "    .dataframe thead th {\n",
       "        text-align: right;\n",
       "    }\n",
       "</style>\n",
       "<table border=\"1\" class=\"dataframe\">\n",
       "  <thead>\n",
       "    <tr style=\"text-align: right;\">\n",
       "      <th></th>\n",
       "      <th>Current Premium Range</th>\n",
       "      <th>Risk Group 0</th>\n",
       "      <th>Risk Group 1</th>\n",
       "      <th>Total</th>\n",
       "      <th>% Risk Group 0</th>\n",
       "      <th>% Risk Group 1</th>\n",
       "    </tr>\n",
       "  </thead>\n",
       "  <tbody>\n",
       "    <tr>\n",
       "      <th>0</th>\n",
       "      <td>Up to \\$1000</td>\n",
       "      <td>57606.0</td>\n",
       "      <td>0.0</td>\n",
       "      <td>57606</td>\n",
       "      <td>63.337401</td>\n",
       "      <td>0.000000</td>\n",
       "    </tr>\n",
       "    <tr>\n",
       "      <th>1</th>\n",
       "      <td>\\$1000 to \\$2000</td>\n",
       "      <td>28575.0</td>\n",
       "      <td>178.0</td>\n",
       "      <td>28753</td>\n",
       "      <td>31.418016</td>\n",
       "      <td>9.700272</td>\n",
       "    </tr>\n",
       "    <tr>\n",
       "      <th>2</th>\n",
       "      <td>\\$2000 to \\$3000</td>\n",
       "      <td>3776.0</td>\n",
       "      <td>1273.0</td>\n",
       "      <td>5049</td>\n",
       "      <td>4.151686</td>\n",
       "      <td>69.373297</td>\n",
       "    </tr>\n",
       "    <tr>\n",
       "      <th>3</th>\n",
       "      <td>\\$3000 to \\$4000</td>\n",
       "      <td>774.0</td>\n",
       "      <td>288.0</td>\n",
       "      <td>1062</td>\n",
       "      <td>0.851008</td>\n",
       "      <td>15.694823</td>\n",
       "    </tr>\n",
       "    <tr>\n",
       "      <th>4</th>\n",
       "      <td>\\$4000 to \\$5000</td>\n",
       "      <td>173.0</td>\n",
       "      <td>73.0</td>\n",
       "      <td>246</td>\n",
       "      <td>0.190212</td>\n",
       "      <td>3.978202</td>\n",
       "    </tr>\n",
       "    <tr>\n",
       "      <th>5</th>\n",
       "      <td>\\$5000+</td>\n",
       "      <td>47.0</td>\n",
       "      <td>23.0</td>\n",
       "      <td>70</td>\n",
       "      <td>0.051676</td>\n",
       "      <td>1.253406</td>\n",
       "    </tr>\n",
       "  </tbody>\n",
       "</table>\n",
       "</div>"
      ],
      "text/plain": [
       "  Current Premium Range  Risk Group 0  Risk Group 1  Total  % Risk Group 0  \\\n",
       "0          Up to \\$1000       57606.0           0.0  57606       63.337401   \n",
       "1      \\$1000 to \\$2000       28575.0         178.0  28753       31.418016   \n",
       "2      \\$2000 to \\$3000        3776.0        1273.0   5049        4.151686   \n",
       "3      \\$3000 to \\$4000         774.0         288.0   1062        0.851008   \n",
       "4      \\$4000 to \\$5000         173.0          73.0    246        0.190212   \n",
       "5               \\$5000+          47.0          23.0     70        0.051676   \n",
       "\n",
       "   % Risk Group 1  \n",
       "0        0.000000  \n",
       "1        9.700272  \n",
       "2       69.373297  \n",
       "3       15.694823  \n",
       "4        3.978202  \n",
       "5        1.253406  "
      ]
     },
     "execution_count": 44,
     "metadata": {},
     "output_type": "execute_result"
    }
   ],
   "source": [
    "cur_prem_counts"
   ]
  },
  {
   "cell_type": "code",
   "execution_count": 45,
   "id": "refined-influence",
   "metadata": {},
   "outputs": [
    {
     "data": {
      "image/png": "[encoded data removed]",
      "text/plain": [
       "<Figure size 360x360 with 1 Axes>"
      ]
     },
     "metadata": {
      "needs_background": "light"
     },
     "output_type": "display_data"
    }
   ],
   "source": [
    "sns.displot(x='current_premium', data=df[df['risk_group_0'] == 1], bins=20, color='tab:blue')\n",
    "plt.xlim([0,8000])\n",
    "plt.xlabel('Current Premium')\n",
    "plt.title('Distribution of Current Premium \\nfor Risk Group 0')\n",
    "plt.show()"
   ]
  },
  {
   "cell_type": "code",
   "execution_count": 46,
   "id": "angry-retreat",
   "metadata": {},
   "outputs": [
    {
     "data": {
      "image/png": "[encoded data removed]",
      "text/plain": [
       "<Figure size 360x360 with 1 Axes>"
      ]
     },
     "metadata": {
      "needs_background": "light"
     },
     "output_type": "display_data"
    }
   ],
   "source": [
    "sns.displot(x='current_premium', data=df[df['risk_group_1'] == 1], bins=20, color='tab:orange')\n",
    "plt.xlim([0,8000])\n",
    "plt.xlabel('Current Premium')\n",
    "plt.title('Distribution of Current Premium \\nfor Risk Group 1')\n",
    "plt.show()"
   ]
  },
  {
   "cell_type": "markdown",
   "id": "unusual-pressure",
   "metadata": {},
   "source": [
    "<a id='features'></a>"
   ]
  },
  {
   "cell_type": "markdown",
   "id": "resistant-chester",
   "metadata": {},
   "source": [
    "[Go to top](#main)"
   ]
  },
  {
   "cell_type": "markdown",
   "id": "angry-evolution",
   "metadata": {},
   "source": [
    "### 3. Features engineering"
   ]
  },
  {
   "cell_type": "markdown",
   "id": "billion-aquatic",
   "metadata": {},
   "source": [
    "#### Assumption: All policyholders are unique in effect ignoring policyholders with the same birthdate and gender"
   ]
  },
  {
   "cell_type": "code",
   "execution_count": 47,
   "id": "corrected-virtue",
   "metadata": {},
   "outputs": [],
   "source": [
    "pd.set_option('min_rows', 100)\n",
    "pd.set_option('display.max_columns', 50)"
   ]
  },
  {
   "cell_type": "markdown",
   "id": "crucial-gothic",
   "metadata": {},
   "source": [
    "#### Convert Current Premium to integer"
   ]
  },
  {
   "cell_type": "code",
   "execution_count": 48,
   "id": "pretty-gothic",
   "metadata": {},
   "outputs": [],
   "source": [
    "df['current_premium_int'] = df['current_premium'].round().astype(int)"
   ]
  },
  {
   "cell_type": "markdown",
   "id": "married-jewelry",
   "metadata": {},
   "source": [
    "#### Convert Age into categorical variables"
   ]
  },
  {
   "cell_type": "code",
   "execution_count": 49,
   "id": "inner-pierre",
   "metadata": {
    "scrolled": true
   },
   "outputs": [],
   "source": [
    "df['age_group'] = pd.cut(df['age_'], bins=[20,40,60,80,100,150], labels=['young', 'middle-aged', 'senior',\n",
    "                                                                        'retired', 'old'])"
   ]
  },
  {
   "cell_type": "code",
   "execution_count": 50,
   "id": "atomic-carol",
   "metadata": {},
   "outputs": [],
   "source": [
    "df = pd.concat([df, pd.get_dummies(df['age_group'], drop_first=False)], axis=1)"
   ]
  },
  {
   "cell_type": "markdown",
   "id": "patient-herald",
   "metadata": {},
   "source": [
    "#### Add Male, Female"
   ]
  },
  {
   "cell_type": "code",
   "execution_count": 51,
   "id": "medical-warren",
   "metadata": {},
   "outputs": [],
   "source": [
    "df = pd.concat([df, pd.get_dummies(df['gender'], drop_first=False)], axis=1)\n",
    "df.rename(columns={'F':'female', 'M':'male'}, inplace=True)"
   ]
  },
  {
   "cell_type": "markdown",
   "id": "subject-drink",
   "metadata": {},
   "source": [
    "#### Add Years with Prior Carrier (ypc) dummies"
   ]
  },
  {
   "cell_type": "code",
   "execution_count": 52,
   "id": "signal-perception",
   "metadata": {},
   "outputs": [],
   "source": [
    "df = pd.concat([df, pd.get_dummies(df['ypc'], prefix='ypc')], axis=1)"
   ]
  },
  {
   "cell_type": "markdown",
   "id": "finished-german",
   "metadata": {},
   "source": [
    "#### Add Minority"
   ]
  },
  {
   "cell_type": "code",
   "execution_count": 53,
   "id": "wound-liberty",
   "metadata": {
    "scrolled": true
   },
   "outputs": [],
   "source": [
    "df['majority_minority'] = df['majority_minority'] * 1"
   ]
  },
  {
   "cell_type": "code",
   "execution_count": 54,
   "id": "boring-collection",
   "metadata": {},
   "outputs": [],
   "source": [
    "df.rename(columns={'majority_minority':'minority'}, inplace=True)"
   ]
  },
  {
   "cell_type": "markdown",
   "id": "fiscal-dynamics",
   "metadata": {},
   "source": [
    "<a id='upsample'></a>"
   ]
  },
  {
   "cell_type": "markdown",
   "id": "alien-lesbian",
   "metadata": {},
   "source": [
    "[Go to top](#main)"
   ]
  },
  {
   "cell_type": "markdown",
   "id": "alternate-blank",
   "metadata": {},
   "source": [
    "### 3a. Upsample for modelling dataset"
   ]
  },
  {
   "cell_type": "code",
   "execution_count": 55,
   "id": "casual-standard",
   "metadata": {
    "scrolled": true
   },
   "outputs": [],
   "source": [
    "dataset = df[['current_premium', 'risk_group', 'young', 'middle-aged', 'senior', 'retired', 'old', 'female', 'male', 'ypc_0', 'ypc_1', 'ypc_2', 'ypc_3', 'ypc_4', 'ypc_5', 'minority']].copy()\n",
    "\n"
   ]
  },
  {
   "cell_type": "markdown",
   "id": "downtown-couple",
   "metadata": {},
   "source": [
    "#### Upsample Risk Group=1"
   ]
  },
  {
   "cell_type": "code",
   "execution_count": 56,
   "id": "breathing-cover",
   "metadata": {},
   "outputs": [],
   "source": [
    "dataset_riskgrp0 = dataset[dataset['risk_group'] == 0].copy()\n",
    "dataset_riskgrp1 = dataset[dataset['risk_group'] == 1].copy()"
   ]
  },
  {
   "cell_type": "code",
   "execution_count": 57,
   "id": "homeless-silver",
   "metadata": {},
   "outputs": [],
   "source": [
    "dataset_riskgrp1_rs = resample(dataset_riskgrp1, replace=True, n_samples=90951, random_state=786)"
   ]
  },
  {
   "cell_type": "code",
   "execution_count": 58,
   "id": "breathing-relation",
   "metadata": {},
   "outputs": [],
   "source": [
    "dataset = dataset_riskgrp0.append(dataset_riskgrp1_rs)"
   ]
  },
  {
   "cell_type": "code",
   "execution_count": 59,
   "id": "greek-violation",
   "metadata": {
    "scrolled": true
   },
   "outputs": [
    {
     "data": {
      "text/plain": [
       "male  risk_group\n",
       "0     0             38883\n",
       "      1             33092\n",
       "1     0             52068\n",
       "      1             57859\n",
       "Name: risk_group, dtype: int64"
      ]
     },
     "execution_count": 59,
     "metadata": {},
     "output_type": "execute_result"
    }
   ],
   "source": [
    "dataset.groupby(['male', 'risk_group'])['risk_group'].count()"
   ]
  },
  {
   "cell_type": "code",
   "execution_count": 60,
   "id": "falling-defensive",
   "metadata": {},
   "outputs": [
    {
     "data": {
      "text/plain": [
       "minority  risk_group\n",
       "0         0               280\n",
       "          1               148\n",
       "1         0             90671\n",
       "          1             90803\n",
       "Name: risk_group, dtype: int64"
      ]
     },
     "execution_count": 60,
     "metadata": {},
     "output_type": "execute_result"
    }
   ],
   "source": [
    "dataset.groupby(['minority', 'risk_group'])['risk_group'].count()"
   ]
  },
  {
   "cell_type": "markdown",
   "id": "severe-abortion",
   "metadata": {},
   "source": [
    "<a id='find_bias'></a>"
   ]
  },
  {
   "cell_type": "markdown",
   "id": "circular-interface",
   "metadata": {},
   "source": [
    "[Go to top](#main)"
   ]
  },
  {
   "cell_type": "markdown",
   "id": "documentary-edition",
   "metadata": {},
   "source": [
    "### 4. Bias Detection and Mitigation"
   ]
  },
  {
   "cell_type": "markdown",
   "id": "chief-approach",
   "metadata": {},
   "source": [
    "### 4a. Bias Detection"
   ]
  },
  {
   "cell_type": "markdown",
   "id": "strange-great",
   "metadata": {},
   "source": [
    "Reweighing tutorial: https://github.com/Trusted-AI/AIF360/blob/master/examples/demo_reweighing_preproc.ipynb"
   ]
  },
  {
   "cell_type": "code",
   "execution_count": 61,
   "id": "manufactured-creativity",
   "metadata": {
    "scrolled": true
   },
   "outputs": [],
   "source": [
    "orig_dataset = BinaryLabelDataset(df=dataset, label_names=['risk_group'], \n",
    "                             protected_attribute_names=['male', 'middle-aged', 'ypc_1', 'minority'],\n",
    "                             favorable_label=0, unfavorable_label=1)"
   ]
  },
  {
   "cell_type": "code",
   "execution_count": 103,
   "id": "fatty-snowboard",
   "metadata": {},
   "outputs": [
    {
     "data": {
      "text/markdown": [
       "#### Original Dataset shape"
      ],
      "text/plain": [
       "<IPython.core.display.Markdown object>"
      ]
     },
     "metadata": {},
     "output_type": "display_data"
    },
    {
     "name": "stdout",
     "output_type": "stream",
     "text": [
      "(181902, 15)\n"
     ]
    },
    {
     "data": {
      "text/markdown": [
       "#### Favorable and unfavorable labels"
      ],
      "text/plain": [
       "<IPython.core.display.Markdown object>"
      ]
     },
     "metadata": {},
     "output_type": "display_data"
    },
    {
     "name": "stdout",
     "output_type": "stream",
     "text": [
      "0.0 1.0\n"
     ]
    },
    {
     "data": {
      "text/markdown": [
       "#### Protected attribute names"
      ],
      "text/plain": [
       "<IPython.core.display.Markdown object>"
      ]
     },
     "metadata": {},
     "output_type": "display_data"
    },
    {
     "name": "stdout",
     "output_type": "stream",
     "text": [
      "['male', 'middle-aged', 'ypc_1', 'minority']\n"
     ]
    },
    {
     "data": {
      "text/markdown": [
       "#### Privileged and unprivileged protected attribute values"
      ],
      "text/plain": [
       "<IPython.core.display.Markdown object>"
      ]
     },
     "metadata": {},
     "output_type": "display_data"
    },
    {
     "name": "stdout",
     "output_type": "stream",
     "text": [
      "[array([1.]), array([1.]), array([1.]), array([1.])] [array([0.]), array([0.]), array([0.]), array([0.])]\n"
     ]
    },
    {
     "data": {
      "text/markdown": [
       "#### Dataset feature names"
      ],
      "text/plain": [
       "<IPython.core.display.Markdown object>"
      ]
     },
     "metadata": {},
     "output_type": "display_data"
    },
    {
     "name": "stdout",
     "output_type": "stream",
     "text": [
      "['current_premium', 'young', 'middle-aged', 'senior', 'retired', 'old', 'female', 'male', 'ypc_0', 'ypc_1', 'ypc_2', 'ypc_3', 'ypc_4', 'ypc_5', 'minority']\n"
     ]
    }
   ],
   "source": [
    "display(Markdown(\"#### Original Dataset shape\"))\n",
    "print(orig_dataset.features.shape)\n",
    "display(Markdown(\"#### Favorable and unfavorable labels\"))\n",
    "print(orig_dataset.favorable_label, orig_dataset.unfavorable_label)\n",
    "display(Markdown(\"#### Protected attribute names\"))\n",
    "print(orig_dataset.protected_attribute_names)\n",
    "display(Markdown(\"#### Privileged and unprivileged protected attribute values\"))\n",
    "print(orig_dataset.privileged_protected_attributes, \n",
    "      orig_dataset.unprivileged_protected_attributes)\n",
    "display(Markdown(\"#### Dataset feature names\"))\n",
    "print(orig_dataset.feature_names)"
   ]
  },
  {
   "cell_type": "code",
   "execution_count": 63,
   "id": "continuing-federal",
   "metadata": {},
   "outputs": [],
   "source": [
    "def make_results_table(results, list_of_vars):\n",
    "\n",
    "    def expand_metric(df, metric, list_of_vars):\n",
    "        # expand dictionary column into dataframe\n",
    "        df = df[metric].apply(pd.Series)\n",
    "        df['name'] = list_of_vars\n",
    "        # get metric value\n",
    "        df['message'] = df['message'].astype(str)\n",
    "        df[metric] = df['message'].apply(lambda x: x.split(':')[1])\n",
    "        # keep relevant columns\n",
    "        df = df[['name', metric]].copy()\n",
    "        df[metric] = df[metric].astype(float).round(2)\n",
    "        return df\n",
    "    \n",
    "    # convert json into dataframe\n",
    "    df_results = pd.DataFrame.from_dict(results, orient='index').reset_index().rename(columns={'index':'Feature', \n",
    "                                                                                               0:'Mean Difference',\n",
    "                                                                                               1: 'Disparate Impact',\n",
    "                                                                                               2: 'Consistency'})\n",
    "    # get column names\n",
    "    list_of_metrics = df_results.columns[1:].tolist()\n",
    "    df0 = pd.DataFrame(np.zeros((len(list_of_vars), 1)))\n",
    "    \n",
    "    for metric in list_of_metrics:\n",
    "        df = expand_metric(df_results, metric, list_of_vars)\n",
    "        df0 = pd.concat([df0,df], axis=1)\n",
    "    \n",
    "    # get variable names\n",
    "    vars_col = df0['name'].iloc[:,0]\n",
    "    df0.drop(columns=['name', 0], inplace=True)\n",
    "    df0['Name'] = vars_col\n",
    "    df0 = df0[['Name', 'Mean Difference', 'Disparate Impact', 'Consistency']].copy()\n",
    "    return df0\n",
    "\n",
    "\n",
    "def get_fairness_metrics(dataset):\n",
    "    # NOTE: dataset expected to a BinaryLabelDataset\n",
    "    results = {}\n",
    "    list_of_vars = []\n",
    "    \n",
    "    for var in dataset.protected_attribute_names:\n",
    "        privileged_groups = []\n",
    "        unprivileged_groups = []\n",
    "\n",
    "        privileged_groups.append({var: 0})\n",
    "        unprivileged_groups.append({var: 1})\n",
    "\n",
    "        metrics = BinaryLabelDatasetMetric(dataset,\n",
    "                                           unprivileged_groups=unprivileged_groups,\n",
    "                                           privileged_groups=privileged_groups)\n",
    "\n",
    "\n",
    "        json_explainer = MetricJSONExplainer(metrics)\n",
    "        \n",
    "        mean_diff = json.loads(json_explainer.mean_difference())\n",
    "        di = json.loads(json_explainer.disparate_impact())\n",
    "        # NOTE: json_explainer.consistency() has a bug (https://github.com/Trusted-AI/AIF360/issues/227)\n",
    "        consist = metrics.consistency(n_neighbors=5)[0]\n",
    "        # create array to manage around bug in source code\n",
    "        consist_d = {'metric': 'Consistency',\n",
    "                     'message': 'Consistency (measures how similar labels are for similar instances): '+str(consist)}\n",
    "\n",
    "        results[var] = [mean_diff, di, consist_d]\n",
    "        list_of_vars.append(var)\n",
    "        \n",
    "    df = make_results_table(results, list_of_vars)\n",
    "    return df"
   ]
  },
  {
   "cell_type": "markdown",
   "id": "lyric-given",
   "metadata": {},
   "source": [
    "#### Calculate Fairness metrics"
   ]
  },
  {
   "cell_type": "markdown",
   "id": "selective-physiology",
   "metadata": {},
   "source": [
    "Mean Difference:  \n",
    "https://aif360.readthedocs.io/en/latest/modules/generated/aif360.metrics.BinaryLabelDatasetMetric.html#aif360.metrics.BinaryLabelDatasetMetric.statistical_parity_difference\n",
    "\n",
    "Disparate Impact:  \n",
    "https://aif360.readthedocs.io/en/latest/modules/generated/aif360.metrics.BinaryLabelDatasetMetric.html#aif360.metrics.BinaryLabelDatasetMetric.disparate_impact"
   ]
  },
  {
   "cell_type": "code",
   "execution_count": 64,
   "id": "sudden-disposal",
   "metadata": {},
   "outputs": [
    {
     "data": {
      "text/markdown": [
       "#### I. Mean Difference (or Statistical Parity Difference)"
      ],
      "text/plain": [
       "<IPython.core.display.Markdown object>"
      ]
     },
     "metadata": {},
     "output_type": "display_data"
    },
    {
     "data": {
      "text/markdown": [
       "$Pr(Risk Group=0|D=Female) − Pr(Risk Group=0|D=Male)$"
      ],
      "text/plain": [
       "<IPython.core.display.Markdown object>"
      ]
     },
     "metadata": {},
     "output_type": "display_data"
    },
    {
     "data": {
      "text/markdown": [
       "#### II. Disparate Impact on unprivileged groups"
      ],
      "text/plain": [
       "<IPython.core.display.Markdown object>"
      ]
     },
     "metadata": {},
     "output_type": "display_data"
    },
    {
     "data": {
      "text/markdown": [
       "$\\frac{Pr(Y=1|D=unprivileged)}{Pr(Y=1|D=privileged)}$"
      ],
      "text/plain": [
       "<IPython.core.display.Markdown object>"
      ]
     },
     "metadata": {},
     "output_type": "display_data"
    }
   ],
   "source": [
    "display(Markdown(\"#### I. Mean Difference (or Statistical Parity Difference)\"))\n",
    "display(Markdown(\"$Pr(Risk Group=0|D=Female) − Pr(Risk Group=0|D=Male)$\"))\n",
    "display(Markdown(\"#### II. Disparate Impact on unprivileged groups\"))\n",
    "display(Markdown(\"$\\\\frac{Pr(Y=1|D=unprivileged)}{Pr(Y=1|D=privileged)}$\"))"
   ]
  },
  {
   "cell_type": "markdown",
   "id": "parliamentary-painting",
   "metadata": {},
   "source": [
    "#### Get baseline for each protected attribute"
   ]
  },
  {
   "cell_type": "code",
   "execution_count": 65,
   "id": "forty-sapphire",
   "metadata": {
    "scrolled": true
   },
   "outputs": [
    {
     "data": {
      "text/html": [
       "<div>\n",
       "<style scoped>\n",
       "    .dataframe tbody tr th:only-of-type {\n",
       "        vertical-align: middle;\n",
       "    }\n",
       "\n",
       "    .dataframe tbody tr th {\n",
       "        vertical-align: top;\n",
       "    }\n",
       "\n",
       "    .dataframe thead th {\n",
       "        text-align: right;\n",
       "    }\n",
       "</style>\n",
       "<table border=\"1\" class=\"dataframe\">\n",
       "  <thead>\n",
       "    <tr style=\"text-align: right;\">\n",
       "      <th></th>\n",
       "      <th>Name</th>\n",
       "      <th>Mean Difference</th>\n",
       "      <th>Disparate Impact</th>\n",
       "      <th>Consistency</th>\n",
       "    </tr>\n",
       "  </thead>\n",
       "  <tbody>\n",
       "    <tr>\n",
       "      <th>0</th>\n",
       "      <td>male</td>\n",
       "      <td>-0.07</td>\n",
       "      <td>0.88</td>\n",
       "      <td>0.99</td>\n",
       "    </tr>\n",
       "    <tr>\n",
       "      <th>1</th>\n",
       "      <td>middle-aged</td>\n",
       "      <td>-0.08</td>\n",
       "      <td>0.85</td>\n",
       "      <td>0.99</td>\n",
       "    </tr>\n",
       "    <tr>\n",
       "      <th>2</th>\n",
       "      <td>ypc_1</td>\n",
       "      <td>-0.01</td>\n",
       "      <td>0.99</td>\n",
       "      <td>0.99</td>\n",
       "    </tr>\n",
       "    <tr>\n",
       "      <th>3</th>\n",
       "      <td>minority</td>\n",
       "      <td>-0.15</td>\n",
       "      <td>0.76</td>\n",
       "      <td>0.99</td>\n",
       "    </tr>\n",
       "  </tbody>\n",
       "</table>\n",
       "</div>"
      ],
      "text/plain": [
       "          Name  Mean Difference  Disparate Impact  Consistency\n",
       "0         male            -0.07              0.88         0.99\n",
       "1  middle-aged            -0.08              0.85         0.99\n",
       "2        ypc_1            -0.01              0.99         0.99\n",
       "3     minority            -0.15              0.76         0.99"
      ]
     },
     "execution_count": 65,
     "metadata": {},
     "output_type": "execute_result"
    }
   ],
   "source": [
    "get_fairness_metrics(orig_dataset)"
   ]
  },
  {
   "cell_type": "markdown",
   "id": "bright-hello",
   "metadata": {},
   "source": [
    "<a id='fix_bias'></a>"
   ]
  },
  {
   "cell_type": "markdown",
   "id": "acoustic-search",
   "metadata": {},
   "source": [
    "[Go to top](#main)"
   ]
  },
  {
   "cell_type": "markdown",
   "id": "nervous-alarm",
   "metadata": {},
   "source": [
    "### 4b. Bias Mitigation"
   ]
  },
  {
   "cell_type": "code",
   "execution_count": 66,
   "id": "legal-ending",
   "metadata": {},
   "outputs": [],
   "source": [
    "def reweigh_dataset(privileged_groups, unprivileged_groups, dataset):\n",
    "    # NOTE: dataset expected to be a BinaryLabelDataset\n",
    "    privileged_groups = privileged_groups\n",
    "    unprivileged_groups = unprivileged_groups\n",
    "\n",
    "    # reweigh training dataset\n",
    "    RW = Reweighing(unprivileged_groups=unprivileged_groups,\n",
    "                    privileged_groups=privileged_groups)\n",
    "\n",
    "    RW.fit(dataset)\n",
    "    dataset_transformed = RW.transform(dataset)\n",
    "    \n",
    "    diff = dataset_transformed.instance_weights.sum() - dataset.instance_weights.sum()\n",
    "    print(\"The difference in weights between original and transformed dataset is %s\" % diff)\n",
    "    \n",
    "    return dataset_transformed"
   ]
  },
  {
   "cell_type": "markdown",
   "id": "renewable-basement",
   "metadata": {},
   "source": [
    "### Reweigh Gender, Race, Age\n",
    "Note: The bias in `ypc_1` was automatically mitigated"
   ]
  },
  {
   "cell_type": "markdown",
   "id": "rough-affair",
   "metadata": {},
   "source": [
    "#### Gender"
   ]
  },
  {
   "cell_type": "code",
   "execution_count": 67,
   "id": "tamil-adoption",
   "metadata": {},
   "outputs": [
    {
     "data": {
      "text/plain": [
       "(181902, 16)"
      ]
     },
     "execution_count": 67,
     "metadata": {},
     "output_type": "execute_result"
    }
   ],
   "source": [
    "orig_dataset.convert_to_dataframe()[0].shape"
   ]
  },
  {
   "cell_type": "code",
   "execution_count": 68,
   "id": "combined-essex",
   "metadata": {},
   "outputs": [],
   "source": [
    "# male is unprivileged\n",
    "privileged_groups = [{'male': 0}]\n",
    "unprivileged_groups = [{'male': 1}] "
   ]
  },
  {
   "cell_type": "code",
   "execution_count": 69,
   "id": "excellent-moderator",
   "metadata": {
    "scrolled": true
   },
   "outputs": [
    {
     "name": "stdout",
     "output_type": "stream",
     "text": [
      "The difference in weights between original and transformed dataset is -2.9103830456733704e-11\n"
     ]
    }
   ],
   "source": [
    "dataset_transf_rw1 = reweigh_dataset(privileged_groups, unprivileged_groups, orig_dataset)"
   ]
  },
  {
   "cell_type": "code",
   "execution_count": 70,
   "id": "metallic-broadway",
   "metadata": {},
   "outputs": [
    {
     "data": {
      "text/html": [
       "<div>\n",
       "<style scoped>\n",
       "    .dataframe tbody tr th:only-of-type {\n",
       "        vertical-align: middle;\n",
       "    }\n",
       "\n",
       "    .dataframe tbody tr th {\n",
       "        vertical-align: top;\n",
       "    }\n",
       "\n",
       "    .dataframe thead th {\n",
       "        text-align: right;\n",
       "    }\n",
       "</style>\n",
       "<table border=\"1\" class=\"dataframe\">\n",
       "  <thead>\n",
       "    <tr style=\"text-align: right;\">\n",
       "      <th></th>\n",
       "      <th>Name</th>\n",
       "      <th>Mean Difference</th>\n",
       "      <th>Disparate Impact</th>\n",
       "      <th>Consistency</th>\n",
       "    </tr>\n",
       "  </thead>\n",
       "  <tbody>\n",
       "    <tr>\n",
       "      <th>0</th>\n",
       "      <td>male</td>\n",
       "      <td>0.00</td>\n",
       "      <td>1.00</td>\n",
       "      <td>0.99</td>\n",
       "    </tr>\n",
       "    <tr>\n",
       "      <th>1</th>\n",
       "      <td>middle-aged</td>\n",
       "      <td>-0.08</td>\n",
       "      <td>0.85</td>\n",
       "      <td>0.99</td>\n",
       "    </tr>\n",
       "    <tr>\n",
       "      <th>2</th>\n",
       "      <td>ypc_1</td>\n",
       "      <td>-0.01</td>\n",
       "      <td>0.98</td>\n",
       "      <td>0.99</td>\n",
       "    </tr>\n",
       "    <tr>\n",
       "      <th>3</th>\n",
       "      <td>minority</td>\n",
       "      <td>-0.16</td>\n",
       "      <td>0.76</td>\n",
       "      <td>0.99</td>\n",
       "    </tr>\n",
       "  </tbody>\n",
       "</table>\n",
       "</div>"
      ],
      "text/plain": [
       "          Name  Mean Difference  Disparate Impact  Consistency\n",
       "0         male             0.00              1.00         0.99\n",
       "1  middle-aged            -0.08              0.85         0.99\n",
       "2        ypc_1            -0.01              0.98         0.99\n",
       "3     minority            -0.16              0.76         0.99"
      ]
     },
     "execution_count": 70,
     "metadata": {},
     "output_type": "execute_result"
    }
   ],
   "source": [
    "get_fairness_metrics(dataset_transf_rw1)"
   ]
  },
  {
   "cell_type": "markdown",
   "id": "considerable-sudan",
   "metadata": {},
   "source": [
    "#### Race"
   ]
  },
  {
   "cell_type": "code",
   "execution_count": 71,
   "id": "scenic-hawaii",
   "metadata": {},
   "outputs": [],
   "source": [
    "# minority is unprivileged\n",
    "privileged_groups = [{'minority': 0}]\n",
    "unprivileged_groups = [{'minority': 1}]"
   ]
  },
  {
   "cell_type": "code",
   "execution_count": 72,
   "id": "official-dylan",
   "metadata": {},
   "outputs": [
    {
     "name": "stdout",
     "output_type": "stream",
     "text": [
      "The difference in weights between original and transformed dataset is 2.0372681319713593e-10\n"
     ]
    }
   ],
   "source": [
    "dataset_transf_rw2 = reweigh_dataset(privileged_groups, unprivileged_groups, dataset_transf_rw1)"
   ]
  },
  {
   "cell_type": "code",
   "execution_count": 73,
   "id": "unable-general",
   "metadata": {},
   "outputs": [
    {
     "data": {
      "text/html": [
       "<div>\n",
       "<style scoped>\n",
       "    .dataframe tbody tr th:only-of-type {\n",
       "        vertical-align: middle;\n",
       "    }\n",
       "\n",
       "    .dataframe tbody tr th {\n",
       "        vertical-align: top;\n",
       "    }\n",
       "\n",
       "    .dataframe thead th {\n",
       "        text-align: right;\n",
       "    }\n",
       "</style>\n",
       "<table border=\"1\" class=\"dataframe\">\n",
       "  <thead>\n",
       "    <tr style=\"text-align: right;\">\n",
       "      <th></th>\n",
       "      <th>Name</th>\n",
       "      <th>Mean Difference</th>\n",
       "      <th>Disparate Impact</th>\n",
       "      <th>Consistency</th>\n",
       "    </tr>\n",
       "  </thead>\n",
       "  <tbody>\n",
       "    <tr>\n",
       "      <th>0</th>\n",
       "      <td>male</td>\n",
       "      <td>-0.00</td>\n",
       "      <td>1.00</td>\n",
       "      <td>0.99</td>\n",
       "    </tr>\n",
       "    <tr>\n",
       "      <th>1</th>\n",
       "      <td>middle-aged</td>\n",
       "      <td>-0.08</td>\n",
       "      <td>0.85</td>\n",
       "      <td>0.99</td>\n",
       "    </tr>\n",
       "    <tr>\n",
       "      <th>2</th>\n",
       "      <td>ypc_1</td>\n",
       "      <td>-0.01</td>\n",
       "      <td>0.98</td>\n",
       "      <td>0.99</td>\n",
       "    </tr>\n",
       "    <tr>\n",
       "      <th>3</th>\n",
       "      <td>minority</td>\n",
       "      <td>-0.00</td>\n",
       "      <td>1.00</td>\n",
       "      <td>0.99</td>\n",
       "    </tr>\n",
       "  </tbody>\n",
       "</table>\n",
       "</div>"
      ],
      "text/plain": [
       "          Name  Mean Difference  Disparate Impact  Consistency\n",
       "0         male            -0.00              1.00         0.99\n",
       "1  middle-aged            -0.08              0.85         0.99\n",
       "2        ypc_1            -0.01              0.98         0.99\n",
       "3     minority            -0.00              1.00         0.99"
      ]
     },
     "execution_count": 73,
     "metadata": {},
     "output_type": "execute_result"
    }
   ],
   "source": [
    "get_fairness_metrics(dataset_transf_rw2)"
   ]
  },
  {
   "cell_type": "markdown",
   "id": "improving-divide",
   "metadata": {},
   "source": [
    "#### Age"
   ]
  },
  {
   "cell_type": "code",
   "execution_count": 74,
   "id": "inside-wilderness",
   "metadata": {},
   "outputs": [],
   "source": [
    "# middle-aged is unprivileged\n",
    "privileged_groups = [{'middle-aged': 0}]\n",
    "unprivileged_groups = [{'middle-aged': 1}]"
   ]
  },
  {
   "cell_type": "code",
   "execution_count": 75,
   "id": "reserved-elements",
   "metadata": {},
   "outputs": [
    {
     "name": "stdout",
     "output_type": "stream",
     "text": [
      "The difference in weights between original and transformed dataset is -1.7462298274040222e-10\n"
     ]
    }
   ],
   "source": [
    "dataset_transf_rw3 = reweigh_dataset(privileged_groups, unprivileged_groups, dataset_transf_rw2)"
   ]
  },
  {
   "cell_type": "code",
   "execution_count": 76,
   "id": "charitable-tsunami",
   "metadata": {},
   "outputs": [
    {
     "data": {
      "text/html": [
       "<div>\n",
       "<style scoped>\n",
       "    .dataframe tbody tr th:only-of-type {\n",
       "        vertical-align: middle;\n",
       "    }\n",
       "\n",
       "    .dataframe tbody tr th {\n",
       "        vertical-align: top;\n",
       "    }\n",
       "\n",
       "    .dataframe thead th {\n",
       "        text-align: right;\n",
       "    }\n",
       "</style>\n",
       "<table border=\"1\" class=\"dataframe\">\n",
       "  <thead>\n",
       "    <tr style=\"text-align: right;\">\n",
       "      <th></th>\n",
       "      <th>Name</th>\n",
       "      <th>Mean Difference</th>\n",
       "      <th>Disparate Impact</th>\n",
       "      <th>Consistency</th>\n",
       "    </tr>\n",
       "  </thead>\n",
       "  <tbody>\n",
       "    <tr>\n",
       "      <th>0</th>\n",
       "      <td>male</td>\n",
       "      <td>-0.00</td>\n",
       "      <td>1.00</td>\n",
       "      <td>0.99</td>\n",
       "    </tr>\n",
       "    <tr>\n",
       "      <th>1</th>\n",
       "      <td>middle-aged</td>\n",
       "      <td>0.00</td>\n",
       "      <td>1.00</td>\n",
       "      <td>0.99</td>\n",
       "    </tr>\n",
       "    <tr>\n",
       "      <th>2</th>\n",
       "      <td>ypc_1</td>\n",
       "      <td>-0.01</td>\n",
       "      <td>0.99</td>\n",
       "      <td>0.99</td>\n",
       "    </tr>\n",
       "    <tr>\n",
       "      <th>3</th>\n",
       "      <td>minority</td>\n",
       "      <td>-0.00</td>\n",
       "      <td>0.99</td>\n",
       "      <td>0.99</td>\n",
       "    </tr>\n",
       "  </tbody>\n",
       "</table>\n",
       "</div>"
      ],
      "text/plain": [
       "          Name  Mean Difference  Disparate Impact  Consistency\n",
       "0         male            -0.00              1.00         0.99\n",
       "1  middle-aged             0.00              1.00         0.99\n",
       "2        ypc_1            -0.01              0.99         0.99\n",
       "3     minority            -0.00              0.99         0.99"
      ]
     },
     "execution_count": 76,
     "metadata": {},
     "output_type": "execute_result"
    }
   ],
   "source": [
    "get_fairness_metrics(dataset_transf_rw3)"
   ]
  },
  {
   "cell_type": "code",
   "execution_count": 77,
   "id": "pretty-yesterday",
   "metadata": {},
   "outputs": [],
   "source": [
    "dataset_transf = dataset_transf_rw3.copy()"
   ]
  },
  {
   "cell_type": "markdown",
   "id": "welsh-pride",
   "metadata": {},
   "source": [
    "<a id='data_model'></a>"
   ]
  },
  {
   "cell_type": "markdown",
   "id": "analyzed-dispute",
   "metadata": {},
   "source": [
    "[Go to top](#main)"
   ]
  },
  {
   "cell_type": "markdown",
   "id": "flexible-parade",
   "metadata": {},
   "source": [
    "### 5. Modelling"
   ]
  },
  {
   "cell_type": "code",
   "execution_count": 78,
   "id": "under-glucose",
   "metadata": {},
   "outputs": [
    {
     "data": {
      "text/plain": [
       "1.0    90951\n",
       "0.0    90951\n",
       "Name: risk_group, dtype: int64"
      ]
     },
     "execution_count": 78,
     "metadata": {},
     "output_type": "execute_result"
    }
   ],
   "source": [
    "# check whether it's resampled\n",
    "df_og = orig_dataset.convert_to_dataframe()[0]\n",
    "df_og['risk_group'].value_counts()"
   ]
  },
  {
   "cell_type": "code",
   "execution_count": 79,
   "id": "pediatric-completion",
   "metadata": {},
   "outputs": [],
   "source": [
    "# 70:30 split into train, test\n",
    "# 50:50 split of test into valid, test\n",
    "dataset_train, dataset_vt = orig_dataset.split([0.7], shuffle=True)\n",
    "dataset_valid, dataset_test = dataset_vt.split([0.5], shuffle=True)"
   ]
  },
  {
   "cell_type": "markdown",
   "id": "fundamental-geneva",
   "metadata": {},
   "source": [
    "### Logistic Regression"
   ]
  },
  {
   "cell_type": "markdown",
   "id": "intermediate-clark",
   "metadata": {},
   "source": [
    "#### Train"
   ]
  },
  {
   "cell_type": "code",
   "execution_count": 80,
   "id": "miniature-bonus",
   "metadata": {
    "scrolled": true
   },
   "outputs": [],
   "source": [
    "scale_orig = StandardScaler()\n",
    "\n",
    "# scale values, setup training data\n",
    "X_train = scale_orig.fit_transform(dataset_train.features)\n",
    "y_train = dataset_train.labels.ravel()\n",
    "w_train = dataset_train.instance_weights.ravel()\n",
    "\n",
    "# train logistic model\n",
    "logreg = LogisticRegression().fit(X_train, y_train, sample_weight=w_train)\n",
    "y_train_pred = logreg.predict(X_train) #this seems wrong"
   ]
  },
  {
   "cell_type": "code",
   "execution_count": 81,
   "id": "cardiovascular-ranch",
   "metadata": {},
   "outputs": [],
   "source": [
    "# dataset_train --> dataset_train_pred\n",
    "dataset_train_pred = dataset_train.copy()\n",
    "dataset_train_pred.labels = y_train_pred"
   ]
  },
  {
   "cell_type": "code",
   "execution_count": 82,
   "id": "finished-soundtrack",
   "metadata": {},
   "outputs": [
    {
     "data": {
      "text/plain": [
       "0.9630490611084497"
      ]
     },
     "execution_count": 82,
     "metadata": {},
     "output_type": "execute_result"
    }
   ],
   "source": [
    "# accuracy score\n",
    "(y_train_pred == y_train).sum()/len(y_train)"
   ]
  },
  {
   "cell_type": "markdown",
   "id": "modified-circumstances",
   "metadata": {},
   "source": [
    "#### Valid"
   ]
  },
  {
   "cell_type": "code",
   "execution_count": 83,
   "id": "elegant-creation",
   "metadata": {},
   "outputs": [],
   "source": [
    "# dataset_valid --> dataset_valid_pred\n",
    "dataset_valid_pred = dataset_valid.copy(deepcopy=True)\n",
    "X_valid = scale_orig.transform(dataset_valid_pred.features)\n",
    "y_valid = dataset_valid_pred.labels\n",
    "\n",
    "# get preds for obs being in risk group 1\n",
    "pos_ind = 1\n",
    "dataset_valid_pred.scores = logreg.predict_proba(X_valid)[:,pos_ind].reshape(-1,1)\n",
    "y_valid_pred = dataset_valid_pred.scores"
   ]
  },
  {
   "cell_type": "code",
   "execution_count": 84,
   "id": "desirable-sheep",
   "metadata": {},
   "outputs": [],
   "source": [
    "def find_metrics(labels, preds, thresh=None, print_results=True):\n",
    "    if thresh == None:\n",
    "        thresh = np.mean(labels)\n",
    "    \n",
    "    y_preds = np.where(preds > thresh, 1, 0)\n",
    "    \n",
    "    bal_acc = balanced_accuracy_score(labels, y_preds)\n",
    "    acc = accuracy_score(labels, y_preds)\n",
    "    prec_score = precision_score(labels, y_preds)\n",
    "    rec_score = recall_score(labels, y_preds)\n",
    "    \n",
    "    if print_results:\n",
    "        print(\"The mean threshold of the model is %f \" % (thresh))\n",
    "        print(\"The accuracy score of the model is %s\" % acc)\n",
    "        print(\"The balanced accuracy score of the model is %s\" % bal_acc)\n",
    "        print(\"Precision: %s\" % prec_score)\n",
    "        print(\"Recall: %s\" % rec_score)\n",
    "    \n",
    "    return bal_acc, thresh"
   ]
  },
  {
   "cell_type": "code",
   "execution_count": 85,
   "id": "confirmed-awareness",
   "metadata": {},
   "outputs": [
    {
     "name": "stdout",
     "output_type": "stream",
     "text": [
      "The mean threshold of the model is 0.500898 \n",
      "The accuracy score of the model is 0.9618471687740516\n",
      "The balanced accuracy score of the model is 0.9617785284182699\n",
      "Precision: 0.9292221920043514\n",
      "Recall: 1.0\n"
     ]
    },
    {
     "data": {
      "text/plain": [
       "(0.9617785284182699, 0.500897929265164)"
      ]
     },
     "execution_count": 85,
     "metadata": {},
     "output_type": "execute_result"
    }
   ],
   "source": [
    "find_metrics(y_valid, y_valid_pred)"
   ]
  },
  {
   "cell_type": "markdown",
   "id": "textile-ready",
   "metadata": {},
   "source": [
    "#### Test"
   ]
  },
  {
   "cell_type": "code",
   "execution_count": 86,
   "id": "chronic-state",
   "metadata": {},
   "outputs": [],
   "source": [
    "# dataset_test --> dataset_test_pred\n",
    "dataset_test_pred = dataset_test.copy(deepcopy=True)\n",
    "X_test = scale_orig.transform(dataset_test_pred.features)\n",
    "y_test = dataset_test_pred.labels\n",
    "\n",
    "# get preds for obs being in risk group 1\n",
    "pos_ind = 1\n",
    "dataset_test_pred.scores = logreg.predict_proba(X_test)[:,pos_ind].reshape(-1,1)\n",
    "y_test_pred = dataset_test_pred.scores"
   ]
  },
  {
   "cell_type": "code",
   "execution_count": 87,
   "id": "associate-humanity",
   "metadata": {},
   "outputs": [
    {
     "name": "stdout",
     "output_type": "stream",
     "text": [
      "The mean threshold of the model is 0.500037 \n",
      "The accuracy score of the model is 0.9633145202668035\n",
      "The balanced accuracy score of the model is 0.9633118311098079\n",
      "Precision: 0.9316490269716626\n",
      "Recall: 1.0\n"
     ]
    },
    {
     "data": {
      "text/plain": [
       "(0.9633118311098079, 0.5000366488309023)"
      ]
     },
     "execution_count": 87,
     "metadata": {},
     "output_type": "execute_result"
    }
   ],
   "source": [
    "find_metrics(y_test, y_test_pred)"
   ]
  },
  {
   "cell_type": "markdown",
   "id": "formed-committee",
   "metadata": {},
   "source": [
    "#### Find optimal classification threshold for logistic model"
   ]
  },
  {
   "cell_type": "markdown",
   "id": "noticed-payday",
   "metadata": {},
   "source": [
    "#### Valid dataset"
   ]
  },
  {
   "cell_type": "code",
   "execution_count": 88,
   "id": "outer-poetry",
   "metadata": {},
   "outputs": [],
   "source": [
    "privileged_groups = [{'male': 0, 'middle-aged': 0, 'minority': 0, 'ypc_1': 0}]\n",
    "unprivileged_groups = [{'male': 1, 'middle-aged': 1, 'minority': 1, 'ypc_1': 1}]\n",
    "\n",
    "# select datasets\n",
    "d1 = dataset_valid\n",
    "d2 = dataset_valid_pred"
   ]
  },
  {
   "cell_type": "code",
   "execution_count": 89,
   "id": "western-denial",
   "metadata": {},
   "outputs": [
    {
     "name": "stdout",
     "output_type": "stream",
     "text": [
      "Optimal Threshold without reweighing\n",
      "------------------------------------\n",
      "Best balanced accuracy = 0.965711\n",
      "Optimal classification threshold = 0.5841\n"
     ]
    }
   ],
   "source": [
    "num_thresh = 100\n",
    "ba_arr = np.zeros(num_thresh)\n",
    "thresh_arr = np.zeros(num_thresh)\n",
    "class_thresh_arr = np.linspace(0.01, 0.99, num_thresh)\n",
    "\n",
    "for idx, class_thresh in enumerate(class_thresh_arr):\n",
    "    # labels = y_test, scores = y_preds\n",
    "    unfav_inds = d2.scores > class_thresh\n",
    "    d2.labels[unfav_inds] = d2.unfavorable_label\n",
    "    d2.labels[~unfav_inds] = d2.favorable_label\n",
    "\n",
    "    metrics_valid = ClassificationMetric(d1, d2, \n",
    "                                         unprivileged_groups=unprivileged_groups,\n",
    "                                         privileged_groups=privileged_groups)\n",
    "\n",
    "    thresh_arr[idx] = class_thresh\n",
    "    ba_arr[idx] = 0.5*(metrics_valid.true_positive_rate()+metrics_valid.true_negative_rate())\n",
    "    \n",
    "# best threshold is where accuracy is max\n",
    "best_ind = np.where(ba_arr == np.max(ba_arr))[0][0]\n",
    "best_class_thresh = class_thresh_arr[best_ind]\n",
    "\n",
    "print(\"Optimal Threshold without reweighing\")\n",
    "print(\"------------------------------------\")\n",
    "print(\"Best balanced accuracy = %.6f\" % np.max(ba_arr))\n",
    "print(\"Optimal classification threshold = %.4f\" % best_class_thresh)"
   ]
  },
  {
   "cell_type": "markdown",
   "id": "fresh-cooler",
   "metadata": {},
   "source": [
    "#### Train on transformed data"
   ]
  },
  {
   "cell_type": "code",
   "execution_count": 90,
   "id": "related-villa",
   "metadata": {},
   "outputs": [],
   "source": [
    "# 70:30 split into train, test\n",
    "# 50:50 split of test into valid, test\n",
    "dataset_transf_train, dataset_transf_vt = dataset_transf.split([0.7], shuffle=True)\n",
    "dataset_transf_valid, dataset_transf_test = dataset_transf_vt.split([0.5], shuffle=True)"
   ]
  },
  {
   "cell_type": "markdown",
   "id": "covered-defeat",
   "metadata": {},
   "source": [
    "#### Train"
   ]
  },
  {
   "cell_type": "code",
   "execution_count": 91,
   "id": "advisory-image",
   "metadata": {
    "scrolled": true
   },
   "outputs": [],
   "source": [
    "scale_transf = StandardScaler()\n",
    "X_train_transf = scale_transf.fit_transform(dataset_transf_train.features)\n",
    "y_train_transf = dataset_transf_train.labels.ravel()\n",
    "w_train_transf = dataset_transf_train.instance_weights.ravel()\n",
    "\n",
    "logreg = LogisticRegression().fit(X_train_transf, y_train_transf, sample_weight=w_train_transf)\n",
    "y_train_pred = logreg.predict(X_train_transf)"
   ]
  },
  {
   "cell_type": "markdown",
   "id": "israeli-liberty",
   "metadata": {},
   "source": [
    "#### Valid"
   ]
  },
  {
   "cell_type": "code",
   "execution_count": 92,
   "id": "southwest-highlight",
   "metadata": {},
   "outputs": [],
   "source": [
    "dataset_transf_valid_pred = dataset_transf_valid.copy(deepcopy=True)\n",
    "\n",
    "X_valid_transf = scale_transf.fit_transform(dataset_transf_valid_pred.features)\n",
    "y_valid_transf = dataset_transf_valid_pred.labels\n",
    "\n",
    "# prob of predicting obs to be in risk group 1\n",
    "pos_ind = 1\n",
    "dataset_transf_valid_pred.scores = logreg.predict_proba(X_valid_transf)[:,pos_ind].reshape(-1,1)\n",
    "y_valid_preds_transf = dataset_transf_valid_pred.scores"
   ]
  },
  {
   "cell_type": "code",
   "execution_count": 93,
   "id": "enclosed-adaptation",
   "metadata": {},
   "outputs": [
    {
     "name": "stdout",
     "output_type": "stream",
     "text": [
      "The mean threshold of the model is 0.503683 \n",
      "The accuracy score of the model is 0.9623236210371999\n",
      "The balanced accuracy score of the model is 0.9620510313527801\n",
      "Precision: 0.9311631061376738\n",
      "Recall: 0.9990540638870697\n"
     ]
    },
    {
     "data": {
      "text/plain": [
       "(0.9620510313527801, 0.5036833424958769)"
      ]
     },
     "execution_count": 93,
     "metadata": {},
     "output_type": "execute_result"
    }
   ],
   "source": [
    "find_metrics(y_valid_transf, y_valid_preds_transf)"
   ]
  },
  {
   "cell_type": "markdown",
   "id": "emotional-investigation",
   "metadata": {},
   "source": [
    "#### Test"
   ]
  },
  {
   "cell_type": "code",
   "execution_count": 94,
   "id": "flying-emission",
   "metadata": {},
   "outputs": [],
   "source": [
    "dataset_transf_test_pred = dataset_transf_test.copy(deepcopy=True)\n",
    "\n",
    "X_test_transf = scale_transf.fit_transform(dataset_transf_test_pred.features)\n",
    "y_test_transf = dataset_transf_test_pred.labels\n",
    "\n",
    "# prob of predicting obs to be in risk group 1\n",
    "pos_ind = 1\n",
    "dataset_transf_test_pred.scores = logreg.predict_proba(X_test_transf)[:,pos_ind].reshape(-1,1)\n",
    "y_test_preds_transf = dataset_transf_test_pred.scores"
   ]
  },
  {
   "cell_type": "code",
   "execution_count": 95,
   "id": "smoking-numbers",
   "metadata": {},
   "outputs": [
    {
     "name": "stdout",
     "output_type": "stream",
     "text": [
      "The mean threshold of the model is 0.501759 \n",
      "The accuracy score of the model is 0.9620318111852232\n",
      "The balanced accuracy score of the model is 0.9618993038408896\n",
      "Precision: 0.9300033978933061\n",
      "Recall: 0.9995617558980352\n"
     ]
    },
    {
     "data": {
      "text/plain": [
       "(0.9618993038408896, 0.5017591438833101)"
      ]
     },
     "execution_count": 95,
     "metadata": {},
     "output_type": "execute_result"
    }
   ],
   "source": [
    "find_metrics(y_test_transf, y_test_preds_transf)"
   ]
  },
  {
   "cell_type": "markdown",
   "id": "buried-withdrawal",
   "metadata": {},
   "source": [
    "<a id='tradeoffs'></a>"
   ]
  },
  {
   "cell_type": "markdown",
   "id": "integral-presence",
   "metadata": {},
   "source": [
    "[Go to top](#main)"
   ]
  },
  {
   "cell_type": "markdown",
   "id": "funky-puzzle",
   "metadata": {},
   "source": [
    "### 6. Tradeoffs"
   ]
  },
  {
   "cell_type": "markdown",
   "id": "electoral-adams",
   "metadata": {},
   "source": [
    "#### Compute fairness metrics at optimal classification threshold"
   ]
  },
  {
   "cell_type": "code",
   "execution_count": 96,
   "id": "adjacent-charlotte",
   "metadata": {},
   "outputs": [],
   "source": [
    "# select datasets\n",
    "d1 = dataset_test\n",
    "d2 = dataset_test_pred"
   ]
  },
  {
   "cell_type": "code",
   "execution_count": 97,
   "id": "sunset-terrain",
   "metadata": {
    "scrolled": true
   },
   "outputs": [
    {
     "data": {
      "text/markdown": [
       "#### Predictions from original testing data"
      ],
      "text/plain": [
       "<IPython.core.display.Markdown object>"
      ]
     },
     "metadata": {},
     "output_type": "display_data"
    },
    {
     "name": "stderr",
     "output_type": "stream",
     "text": [
      "  4%|▍         | 4/100 [00:00<00:02, 39.56it/s]"
     ]
    },
    {
     "name": "stdout",
     "output_type": "stream",
     "text": [
      "Classification threshold used = 0.5841\n"
     ]
    },
    {
     "name": "stderr",
     "output_type": "stream",
     "text": [
      "100%|██████████| 100/100 [00:02<00:00, 45.60it/s]\n"
     ]
    }
   ],
   "source": [
    "display(Markdown(\"#### Predictions from original testing data\"))\n",
    "bal_acc_arr = []\n",
    "mean_diff_arr = []\n",
    "disp_imp_arr = []\n",
    "\n",
    "print(\"Classification threshold used = %.4f\" % best_class_thresh)\n",
    "for thresh in tqdm(class_thresh_arr):\n",
    "    if thresh == best_class_thresh:\n",
    "        disp = True\n",
    "    else:\n",
    "        disp = False\n",
    "    \n",
    "    unfav_inds = d2.scores > thresh\n",
    "    d2.labels[unfav_inds] = d2.unfavorable_label\n",
    "    d2.labels[~unfav_inds] = d2.favorable_label\n",
    "    \n",
    "    metrics_test = ClassificationMetric(d1, d2,\n",
    "                                        unprivileged_groups=unprivileged_groups,\n",
    "                                        privileged_groups=privileged_groups)\n",
    "    \n",
    "    bal_acc = 0.5*(metrics_test.true_positive_rate()+metrics_test.true_negative_rate())\n",
    "    bal_acc_arr.append(bal_acc)\n",
    "    \n",
    "    mean_diff_arr.append(metrics_test.mean_difference())    \n",
    "    disp_imp_arr.append(metrics_test.disparate_impact())"
   ]
  },
  {
   "cell_type": "markdown",
   "id": "unnecessary-paste",
   "metadata": {},
   "source": [
    "#### Transformed dataset"
   ]
  },
  {
   "cell_type": "code",
   "execution_count": 98,
   "id": "diverse-wisconsin",
   "metadata": {},
   "outputs": [],
   "source": [
    "# select datasets\n",
    "d1 = dataset_transf_test\n",
    "d2 = dataset_transf_test_pred"
   ]
  },
  {
   "cell_type": "code",
   "execution_count": 99,
   "id": "czech-princeton",
   "metadata": {
    "scrolled": true
   },
   "outputs": [
    {
     "data": {
      "text/markdown": [
       "#### Predictions from transformed testing data"
      ],
      "text/plain": [
       "<IPython.core.display.Markdown object>"
      ]
     },
     "metadata": {},
     "output_type": "display_data"
    },
    {
     "name": "stderr",
     "output_type": "stream",
     "text": [
      "  5%|▌         | 5/100 [00:00<00:02, 43.75it/s]"
     ]
    },
    {
     "name": "stdout",
     "output_type": "stream",
     "text": [
      "Classification threshold used = 0.5841\n"
     ]
    },
    {
     "name": "stderr",
     "output_type": "stream",
     "text": [
      "100%|██████████| 100/100 [00:01<00:00, 52.07it/s]\n"
     ]
    }
   ],
   "source": [
    "display(Markdown(\"#### Predictions from transformed testing data\"))\n",
    "bal_acc_arr_transf = []\n",
    "mean_diff_arr_transf = []\n",
    "disp_imp_arr_transf = []\n",
    "\n",
    "print(\"Classification threshold used = %.4f\" % best_class_thresh)\n",
    "for thresh in tqdm(class_thresh_arr):\n",
    "    \n",
    "    if thresh == best_class_thresh:\n",
    "        disp = True\n",
    "    else:\n",
    "        disp = False\n",
    "    \n",
    "    unfav_inds = d2.scores > thresh\n",
    "        \n",
    "    # broadcast labels\n",
    "    d2.labels[unfav_inds] = d2.unfavorable_label\n",
    "    d2.labels[~unfav_inds] = d2.favorable_label\n",
    "    \n",
    "    metrics_test_transf = ClassificationMetric(d1, d2, \n",
    "                                               unprivileged_groups=unprivileged_groups,\n",
    "                                               privileged_groups=privileged_groups)\n",
    "\n",
    "    bal_acc = 0.5*(metrics_test_transf.true_positive_rate()+metrics_test_transf.true_negative_rate())\n",
    "    bal_acc_arr_transf.append(bal_acc)\n",
    "\n",
    "    mean_diff_arr_transf.append(metrics_test_transf.mean_difference())\n",
    "    disp_imp_arr_transf.append(metrics_test_transf.disparate_impact())"
   ]
  },
  {
   "cell_type": "markdown",
   "id": "lesser-administrator",
   "metadata": {},
   "source": [
    "#### Visualize tradeoffs"
   ]
  },
  {
   "cell_type": "code",
   "execution_count": 100,
   "id": "sunset-highlight",
   "metadata": {},
   "outputs": [],
   "source": [
    "sns.set()"
   ]
  },
  {
   "cell_type": "code",
   "execution_count": 101,
   "id": "occupational-catalyst",
   "metadata": {},
   "outputs": [],
   "source": [
    "def plot_tradeoffs(thresholds_array, accuracy_array, fairness_array, transformed_fairness_array, ax, name):\n",
    "    ax.plot(thresholds_array, accuracy_array)\n",
    "    ax.set_xlabel('Classification Thresholds', fontsize=10.5)\n",
    "    ax.set_ylabel('Balanced Accuracy', color='b', fontsize=12, labelpad=15)\n",
    "    # best_class_thresh used as global variable\n",
    "    ax.axvline(best_class_thresh, color='k', linestyle=':')\n",
    "\n",
    "    ax1 = ax.twinx()\n",
    "    ax1.plot(thresholds_array, fairness_array, color='r', alpha=0.5)\n",
    "    ax1.set_ylabel(name, color='r', fontsize=12, rotation=-90, labelpad=15)\n",
    "    ax1.plot(thresholds_array, transformed_fairness_array, color='r')\n",
    "    \n",
    "    ax.set_title(name, fontsize=16)\n",
    "    ax1.legend(['Original', 'Transformed'], loc='lower left')\n",
    "    ax1.grid(True)"
   ]
  },
  {
   "cell_type": "code",
   "execution_count": 102,
   "id": "classified-smoke",
   "metadata": {},
   "outputs": [
    {
     "data": {
      "image/png": "[encoded data removed]",
      "text/plain": [
       "<Figure size 576x720 with 4 Axes>"
      ]
     },
     "metadata": {},
     "output_type": "display_data"
    }
   ],
   "source": [
    "fig, ax = plt.subplots(ncols=1, nrows=2, figsize=(8,10))\n",
    "\n",
    "plot_tradeoffs(class_thresh_arr, bal_acc_arr, mean_diff_arr, mean_diff_arr_transf, ax=ax[0], name='Mean Difference')\n",
    "\n",
    "plot_tradeoffs(class_thresh_arr, bal_acc_arr, disp_imp_arr, disp_imp_arr_transf, ax=ax[1], name='Disparate Impact')\n",
    "\n",
    "fig.tight_layout()\n",
    "fig.subplots_adjust(hspace=0.25)\n",
    "fig.suptitle('Tradeoff between Balanced Accuracy and Fairness for Logistic Regression \\n Dataset: Allstate (2020)', \n",
    "             x=0.5, y=1.05, size=20)\n",
    "plt.show()"
   ]
  },
  {
   "cell_type": "markdown",
   "id": "limiting-malpractice",
   "metadata": {},
   "source": [
    "[Go to top](#main)"
   ]
  }
 ],
 "metadata": {
  "kernelspec": {
   "display_name": "Python 3",
   "language": "python",
   "name": "python3"
  },
  "language_info": {
   "codemirror_mode": {
    "name": "ipython",
    "version": 3
   },
   "file_extension": ".py",
   "mimetype": "text/x-python",
   "name": "python",
   "nbconvert_exporter": "python",
   "pygments_lexer": "ipython3",
   "version": "3.6.12"
  }
 },
 "nbformat": 4,
 "nbformat_minor": 5
}
