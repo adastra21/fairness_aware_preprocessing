{
 "cells": [
  {
   "cell_type": "code",
   "execution_count": 1,
   "id": "sonic-subcommittee",
   "metadata": {},
   "outputs": [
    {
     "name": "stderr",
     "output_type": "stream",
     "text": [
      "WARNING:root:No module named 'tensorflow': AdversarialDebiasing will be unavailable. To install, run:\n",
      "pip install 'aif360[AdversarialDebiasing]'\n",
      "WARNING:root:No module named 'numba.decorators': LFR will be unavailable. To install, run:\n",
      "pip install 'aif360[LFR]'\n"
     ]
    }
   ],
   "source": [
    "import pandas as pd\n",
    "import numpy as np\n",
    "\n",
    "import matplotlib.pylab as plt\n",
    "import seaborn as sns\n",
    "\n",
    "from sklearn.utils import resample\n",
    "\n",
    "from aif360.datasets import BinaryLabelDataset\n",
    "from aif360.datasets import GermanDataset\n",
    "from aif360.metrics import BinaryLabelDatasetMetric, ClassificationMetric\n",
    "from aif360.explainers import MetricTextExplainer, MetricJSONExplainer\n",
    "from aif360.algorithms.preprocessing.reweighing import Reweighing\n",
    "\n",
    "import json\n",
    "\n",
    "from sklearn.preprocessing import StandardScaler, scale\n",
    "from sklearn.linear_model import LogisticRegression\n",
    "from sklearn.metrics import accuracy_score, balanced_accuracy_score, precision_score, recall_score\n",
    "\n",
    "from IPython.display import Markdown, display\n",
    "from tqdm import tqdm\n",
    "\n",
    "import warnings\n",
    "warnings.filterwarnings('ignore')"
   ]
  },
  {
   "cell_type": "markdown",
   "id": "medieval-experiment",
   "metadata": {},
   "source": [
    "<a id='main'></a>"
   ]
  },
  {
   "cell_type": "markdown",
   "id": "noticed-excuse",
   "metadata": {},
   "source": [
    "### Steps in the Data Science Pipeline\n",
    "\n",
    "1. [Data Preparation](#data_prep)  \n",
    "2. Bias Detection and Mitigation  \n",
    "    a. [Bias Detection](#find_bias)  \n",
    "    b. [Bias Mitigation](#fix_bias)  \n",
    "3. [Modelling](#data_model)  \n",
    "4. [Tradeoffs](#tradeoffs)"
   ]
  },
  {
   "cell_type": "markdown",
   "id": "linear-richmond",
   "metadata": {},
   "source": [
    "<a id='data_prep'></a>"
   ]
  },
  {
   "cell_type": "markdown",
   "id": "activated-three",
   "metadata": {},
   "source": [
    "### 1. Data Preparation"
   ]
  },
  {
   "cell_type": "code",
   "execution_count": 27,
   "id": "increased-caution",
   "metadata": {},
   "outputs": [],
   "source": [
    "orig_dataset = GermanDataset(protected_attribute_names=['sex', 'age'])"
   ]
  },
  {
   "cell_type": "code",
   "execution_count": 28,
   "id": "registered-semester",
   "metadata": {},
   "outputs": [],
   "source": [
    "# fix labels to be 0s and 1s\n",
    "# originally, 2 = bad credit, 1 = good credit\n",
    "orig_dataset.labels = np.where(orig_dataset.labels == 2, 0, 1)"
   ]
  },
  {
   "cell_type": "code",
   "execution_count": 29,
   "id": "therapeutic-article",
   "metadata": {},
   "outputs": [],
   "source": [
    "orig_dataset.unfavorable_label = 0.0"
   ]
  },
  {
   "cell_type": "code",
   "execution_count": 30,
   "id": "going-tuning",
   "metadata": {
    "scrolled": true
   },
   "outputs": [
    {
     "data": {
      "text/plain": [
       "[{1.0: 'Male', 0.0: 'Female'}, {1.0: 'Old', 0.0: 'Young'}]"
      ]
     },
     "execution_count": 30,
     "metadata": {},
     "output_type": "execute_result"
    }
   ],
   "source": [
    "orig_dataset.metadata['protected_attribute_maps']"
   ]
  },
  {
   "cell_type": "code",
   "execution_count": 31,
   "id": "sublime-internship",
   "metadata": {},
   "outputs": [
    {
     "data": {
      "text/plain": [
       "1.0    700\n",
       "0.0    300\n",
       "Name: credit, dtype: int64"
      ]
     },
     "execution_count": 31,
     "metadata": {},
     "output_type": "execute_result"
    }
   ],
   "source": [
    "# check distribution of classes\n",
    "df_og = orig_dataset.convert_to_dataframe()[0]\n",
    "df_og['credit'].value_counts()"
   ]
  },
  {
   "cell_type": "markdown",
   "id": "serious-treat",
   "metadata": {},
   "source": [
    "<a id='find_bias'></a>"
   ]
  },
  {
   "cell_type": "markdown",
   "id": "timely-trash",
   "metadata": {},
   "source": [
    "#### Drop redundant variables"
   ]
  },
  {
   "cell_type": "code",
   "execution_count": 32,
   "id": "numerical-daisy",
   "metadata": {},
   "outputs": [],
   "source": [
    "df_og = df_og[['credit', 'month', 'credit_amount', 'investment_as_income_percentage', 'residence_since', 'age',\n",
    "               'number_of_credits', 'people_liable_for', 'sex',\n",
    "               # dropped status=A14\n",
    "               'status=A11', 'status=A12', 'status=A13',\n",
    "               # dropped credit_history=A30\n",
    "               'credit_history=A31', 'credit_history=A32', 'credit_history=A33', 'credit_history=A34',\n",
    "               # dropped purpose=A410\n",
    "               'purpose=A40', 'purpose=A41', 'purpose=A42', 'purpose=A43', 'purpose=A44', 'purpose=A45', 'purpose=A46', 'purpose=A48', 'purpose=A49', \n",
    "               # dropped savings=A65\n",
    "               'savings=A61', 'savings=A62', 'savings=A63', 'savings=A64', \n",
    "               # dropped employment=A71\n",
    "               'employment=A72', 'employment=A73', 'employment=A74', 'employment=A75',\n",
    "               # dropped other_debtors=A101\n",
    "               'other_debtors=A102', 'other_debtors=A103',\n",
    "               # dropped property=A124\n",
    "               'property=A121', 'property=A122', 'property=A123',\n",
    "               # dropped installment_pans=A143\n",
    "               'installment_plans=A141', 'installment_plans=A142',\n",
    "               # dropped housing=A152\n",
    "               'housing=A151', 'housing=A153',\n",
    "               # dropped skill_level=A174\n",
    "               'skill_level=A171', 'skill_level=A172', 'skill_level=A173',\n",
    "               # dropped telephone=A191\n",
    "               'telephone=A192',\n",
    "               # dropped foreign_workers=A202\n",
    "               'foreign_worker=A201'\n",
    "            ]].copy()"
   ]
  },
  {
   "cell_type": "code",
   "execution_count": 33,
   "id": "smoking-thong",
   "metadata": {
    "scrolled": true
   },
   "outputs": [],
   "source": [
    "orig_dataset = BinaryLabelDataset(df=df_og, label_names=['credit'], protected_attribute_names=['sex', 'age'],\n",
    "                                  favorable_label=1.0, unfavorable_label=0.0)"
   ]
  },
  {
   "cell_type": "code",
   "execution_count": 36,
   "id": "broke-hybrid",
   "metadata": {},
   "outputs": [
    {
     "data": {
      "text/markdown": [
       "#### Original Dataset shape"
      ],
      "text/plain": [
       "<IPython.core.display.Markdown object>"
      ]
     },
     "metadata": {},
     "output_type": "display_data"
    },
    {
     "name": "stdout",
     "output_type": "stream",
     "text": [
      "(1000, 46)\n"
     ]
    },
    {
     "data": {
      "text/markdown": [
       "#### Favorable and unfavorable labels"
      ],
      "text/plain": [
       "<IPython.core.display.Markdown object>"
      ]
     },
     "metadata": {},
     "output_type": "display_data"
    },
    {
     "name": "stdout",
     "output_type": "stream",
     "text": [
      "1.0 0.0\n"
     ]
    },
    {
     "data": {
      "text/markdown": [
       "#### Protected attribute names"
      ],
      "text/plain": [
       "<IPython.core.display.Markdown object>"
      ]
     },
     "metadata": {},
     "output_type": "display_data"
    },
    {
     "name": "stdout",
     "output_type": "stream",
     "text": [
      "['sex', 'age']\n"
     ]
    },
    {
     "data": {
      "text/markdown": [
       "#### Privileged and unprivileged protected attribute values"
      ],
      "text/plain": [
       "<IPython.core.display.Markdown object>"
      ]
     },
     "metadata": {},
     "output_type": "display_data"
    },
    {
     "name": "stdout",
     "output_type": "stream",
     "text": [
      "[array([1.]), array([1.])] [array([0.]), array([0.])]\n"
     ]
    },
    {
     "data": {
      "text/markdown": [
       "#### Dataset feature names"
      ],
      "text/plain": [
       "<IPython.core.display.Markdown object>"
      ]
     },
     "metadata": {},
     "output_type": "display_data"
    },
    {
     "name": "stdout",
     "output_type": "stream",
     "text": [
      "['month', 'credit_amount', 'investment_as_income_percentage', 'residence_since', 'age', 'number_of_credits', 'people_liable_for', 'sex', 'status=A11', 'status=A12', 'status=A13', 'credit_history=A31', 'credit_history=A32', 'credit_history=A33', 'credit_history=A34', 'purpose=A40', 'purpose=A41', 'purpose=A42', 'purpose=A43', 'purpose=A44', 'purpose=A45', 'purpose=A46', 'purpose=A48', 'purpose=A49', 'savings=A61', 'savings=A62', 'savings=A63', 'savings=A64', 'employment=A72', 'employment=A73', 'employment=A74', 'employment=A75', 'other_debtors=A102', 'other_debtors=A103', 'property=A121', 'property=A122', 'property=A123', 'installment_plans=A141', 'installment_plans=A142', 'housing=A151', 'housing=A153', 'skill_level=A171', 'skill_level=A172', 'skill_level=A173', 'telephone=A192', 'foreign_worker=A201']\n"
     ]
    }
   ],
   "source": [
    "display(Markdown(\"#### Original Dataset shape\"))\n",
    "print(orig_dataset.features.shape)\n",
    "display(Markdown(\"#### Favorable and unfavorable labels\"))\n",
    "print(orig_dataset.favorable_label, orig_dataset.unfavorable_label)\n",
    "display(Markdown(\"#### Protected attribute names\"))\n",
    "print(orig_dataset.protected_attribute_names)\n",
    "display(Markdown(\"#### Privileged and unprivileged protected attribute values\"))\n",
    "print(orig_dataset.privileged_protected_attributes, \n",
    "      orig_dataset.unprivileged_protected_attributes)\n",
    "display(Markdown(\"#### Dataset feature names\"))\n",
    "print(orig_dataset.feature_names)"
   ]
  },
  {
   "cell_type": "markdown",
   "id": "civic-miniature",
   "metadata": {},
   "source": [
    "[Go to top](#main)"
   ]
  },
  {
   "cell_type": "markdown",
   "id": "dietary-discount",
   "metadata": {},
   "source": [
    "### 2. Bias Detection and Mitigation"
   ]
  },
  {
   "cell_type": "markdown",
   "id": "stainless-firmware",
   "metadata": {},
   "source": [
    "### 2a. Bias Detection"
   ]
  },
  {
   "cell_type": "code",
   "execution_count": 38,
   "id": "three-discussion",
   "metadata": {},
   "outputs": [],
   "source": [
    "def make_results_table(results, list_of_vars):\n",
    "\n",
    "    def expand_metric(df, metric, list_of_vars):\n",
    "        # expand dictionary column into dataframe\n",
    "        df = df[metric].apply(pd.Series)\n",
    "        df['name'] = list_of_vars\n",
    "        # get metric value\n",
    "        df['message'] = df['message'].astype(str)\n",
    "        df[metric] = df['message'].apply(lambda x: x.split(':')[1])\n",
    "        # keep relevant columns\n",
    "        df = df[['name', metric]].copy()\n",
    "        df[metric] = df[metric].astype(float).round(2)\n",
    "        return df\n",
    "    \n",
    "    # convert json into dataframe\n",
    "    df_results = pd.DataFrame.from_dict(results, orient='index').reset_index().rename(columns={'index':'Feature', \n",
    "                                                                                               0:'Mean Difference',\n",
    "                                                                                               1: 'Disparate Impact',\n",
    "                                                                                               2: 'Consistency'})\n",
    "    # get column names\n",
    "    list_of_metrics = df_results.columns[1:].tolist()\n",
    "    df0 = pd.DataFrame(np.zeros((len(list_of_vars), 1)))\n",
    "    \n",
    "    for metric in list_of_metrics:\n",
    "        df = expand_metric(df_results, metric, list_of_vars)\n",
    "        df0 = pd.concat([df0,df], axis=1)\n",
    "    \n",
    "    # get variable names\n",
    "    vars_col = df0['name'].iloc[:,0]\n",
    "    df0.drop(columns=['name', 0], inplace=True)\n",
    "    df0['Name'] = vars_col\n",
    "    df0 = df0[['Name', 'Mean Difference', 'Disparate Impact', 'Consistency']].copy()\n",
    "    return df0\n",
    "\n",
    "\n",
    "def get_fairness_metrics(dataset):\n",
    "    # NOTE: dataset expected to a BinaryLabelDataset\n",
    "    results = {}\n",
    "    list_of_vars = []\n",
    "    \n",
    "    for var in dataset.protected_attribute_names:\n",
    "        privileged_groups = []\n",
    "        unprivileged_groups = []\n",
    "\n",
    "        privileged_groups.append({var: 0})\n",
    "        unprivileged_groups.append({var: 1})\n",
    "\n",
    "        metrics = BinaryLabelDatasetMetric(dataset,\n",
    "                                           unprivileged_groups=unprivileged_groups,\n",
    "                                           privileged_groups=privileged_groups)\n",
    "\n",
    "\n",
    "        json_explainer = MetricJSONExplainer(metrics)\n",
    "        \n",
    "        mean_diff = json.loads(json_explainer.mean_difference())\n",
    "        di = json.loads(json_explainer.disparate_impact())\n",
    "        # NOTE: json_explainer.consistency() has a bug (https://github.com/Trusted-AI/AIF360/issues/227)\n",
    "        consist = metrics.consistency(n_neighbors=5)[0]\n",
    "        # create array to manage around bug in source code\n",
    "        consist_d = {'metric': 'Consistency',\n",
    "                     'message': 'Consistency (measures how similar labels are for similar instances): '+str(consist)}\n",
    "\n",
    "        results[var] = [mean_diff, di, consist_d]\n",
    "        list_of_vars.append(var)\n",
    "        \n",
    "    df = make_results_table(results, list_of_vars)\n",
    "    return df"
   ]
  },
  {
   "cell_type": "markdown",
   "id": "promising-psychology",
   "metadata": {},
   "source": [
    "#### Get baseline for each protected attribute"
   ]
  },
  {
   "cell_type": "code",
   "execution_count": 39,
   "id": "exciting-indian",
   "metadata": {
    "scrolled": true
   },
   "outputs": [
    {
     "data": {
      "text/html": [
       "<div>\n",
       "<style scoped>\n",
       "    .dataframe tbody tr th:only-of-type {\n",
       "        vertical-align: middle;\n",
       "    }\n",
       "\n",
       "    .dataframe tbody tr th {\n",
       "        vertical-align: top;\n",
       "    }\n",
       "\n",
       "    .dataframe thead th {\n",
       "        text-align: right;\n",
       "    }\n",
       "</style>\n",
       "<table border=\"1\" class=\"dataframe\">\n",
       "  <thead>\n",
       "    <tr style=\"text-align: right;\">\n",
       "      <th></th>\n",
       "      <th>Name</th>\n",
       "      <th>Mean Difference</th>\n",
       "      <th>Disparate Impact</th>\n",
       "      <th>Consistency</th>\n",
       "    </tr>\n",
       "  </thead>\n",
       "  <tbody>\n",
       "    <tr>\n",
       "      <th>0</th>\n",
       "      <td>sex</td>\n",
       "      <td>0.07</td>\n",
       "      <td>1.12</td>\n",
       "      <td>0.68</td>\n",
       "    </tr>\n",
       "    <tr>\n",
       "      <th>1</th>\n",
       "      <td>age</td>\n",
       "      <td>0.15</td>\n",
       "      <td>1.26</td>\n",
       "      <td>0.68</td>\n",
       "    </tr>\n",
       "  </tbody>\n",
       "</table>\n",
       "</div>"
      ],
      "text/plain": [
       "  Name  Mean Difference  Disparate Impact  Consistency\n",
       "0  sex             0.07              1.12         0.68\n",
       "1  age             0.15              1.26         0.68"
      ]
     },
     "execution_count": 39,
     "metadata": {},
     "output_type": "execute_result"
    }
   ],
   "source": [
    "get_fairness_metrics(orig_dataset)"
   ]
  },
  {
   "cell_type": "markdown",
   "id": "urban-namibia",
   "metadata": {},
   "source": [
    "<a id='fix_bias'></a>"
   ]
  },
  {
   "cell_type": "markdown",
   "id": "formed-harvest",
   "metadata": {},
   "source": [
    "[Go to top](#main)"
   ]
  },
  {
   "cell_type": "markdown",
   "id": "adapted-victory",
   "metadata": {},
   "source": [
    "### 2b. Bias Mitigation"
   ]
  },
  {
   "cell_type": "code",
   "execution_count": 40,
   "id": "indie-motel",
   "metadata": {},
   "outputs": [],
   "source": [
    "def reweigh_dataset(privileged_groups, unprivileged_groups, dataset):\n",
    "    # NOTE: dataset expected to be a BinaryLabelDataset\n",
    "    privileged_groups = privileged_groups\n",
    "    unprivileged_groups = unprivileged_groups\n",
    "\n",
    "    # reweigh training dataset\n",
    "    RW = Reweighing(unprivileged_groups=unprivileged_groups,\n",
    "                    privileged_groups=privileged_groups)\n",
    "\n",
    "    RW.fit(dataset)\n",
    "    dataset_transformed = RW.transform(dataset)\n",
    "    \n",
    "    diff = dataset_transformed.instance_weights.sum() - dataset.instance_weights.sum()\n",
    "    print(\"The difference in weights between original and transformed dataset is %s\" % diff)\n",
    "    \n",
    "    return dataset_transformed"
   ]
  },
  {
   "cell_type": "code",
   "execution_count": 41,
   "id": "united-speed",
   "metadata": {},
   "outputs": [],
   "source": [
    "# old is privileged, young is unprivileged\n",
    "privileged_groups = [{'age': 1}]\n",
    "unprivileged_groups = [{'age': 0}]"
   ]
  },
  {
   "cell_type": "code",
   "execution_count": 42,
   "id": "outstanding-survival",
   "metadata": {},
   "outputs": [
    {
     "name": "stdout",
     "output_type": "stream",
     "text": [
      "The difference in weights between original and transformed dataset is 0.0\n"
     ]
    }
   ],
   "source": [
    "dataset_og_rw1 = reweigh_dataset(privileged_groups, unprivileged_groups, orig_dataset)"
   ]
  },
  {
   "cell_type": "code",
   "execution_count": 43,
   "id": "entitled-retail",
   "metadata": {},
   "outputs": [
    {
     "data": {
      "text/html": [
       "<div>\n",
       "<style scoped>\n",
       "    .dataframe tbody tr th:only-of-type {\n",
       "        vertical-align: middle;\n",
       "    }\n",
       "\n",
       "    .dataframe tbody tr th {\n",
       "        vertical-align: top;\n",
       "    }\n",
       "\n",
       "    .dataframe thead th {\n",
       "        text-align: right;\n",
       "    }\n",
       "</style>\n",
       "<table border=\"1\" class=\"dataframe\">\n",
       "  <thead>\n",
       "    <tr style=\"text-align: right;\">\n",
       "      <th></th>\n",
       "      <th>Name</th>\n",
       "      <th>Mean Difference</th>\n",
       "      <th>Disparate Impact</th>\n",
       "      <th>Consistency</th>\n",
       "    </tr>\n",
       "  </thead>\n",
       "  <tbody>\n",
       "    <tr>\n",
       "      <th>0</th>\n",
       "      <td>sex</td>\n",
       "      <td>0.04</td>\n",
       "      <td>1.06</td>\n",
       "      <td>0.68</td>\n",
       "    </tr>\n",
       "    <tr>\n",
       "      <th>1</th>\n",
       "      <td>age</td>\n",
       "      <td>-0.00</td>\n",
       "      <td>1.00</td>\n",
       "      <td>0.68</td>\n",
       "    </tr>\n",
       "  </tbody>\n",
       "</table>\n",
       "</div>"
      ],
      "text/plain": [
       "  Name  Mean Difference  Disparate Impact  Consistency\n",
       "0  sex             0.04              1.06         0.68\n",
       "1  age            -0.00              1.00         0.68"
      ]
     },
     "execution_count": 43,
     "metadata": {},
     "output_type": "execute_result"
    }
   ],
   "source": [
    "get_fairness_metrics(dataset_og_rw1)"
   ]
  },
  {
   "cell_type": "code",
   "execution_count": 44,
   "id": "beginning-quantity",
   "metadata": {},
   "outputs": [],
   "source": [
    "# male is privileged, female is unprivileged\n",
    "privileged_groups = [{'sex': 1}]\n",
    "unprivileged_groups = [{'sex': 0}]"
   ]
  },
  {
   "cell_type": "code",
   "execution_count": 45,
   "id": "bacterial-bracket",
   "metadata": {},
   "outputs": [
    {
     "name": "stdout",
     "output_type": "stream",
     "text": [
      "The difference in weights between original and transformed dataset is -2.2737367544323206e-13\n"
     ]
    }
   ],
   "source": [
    "dataset_og_rw2 = reweigh_dataset(privileged_groups, unprivileged_groups, dataset_og_rw1)"
   ]
  },
  {
   "cell_type": "code",
   "execution_count": 46,
   "id": "interested-defendant",
   "metadata": {},
   "outputs": [
    {
     "data": {
      "text/html": [
       "<div>\n",
       "<style scoped>\n",
       "    .dataframe tbody tr th:only-of-type {\n",
       "        vertical-align: middle;\n",
       "    }\n",
       "\n",
       "    .dataframe tbody tr th {\n",
       "        vertical-align: top;\n",
       "    }\n",
       "\n",
       "    .dataframe thead th {\n",
       "        text-align: right;\n",
       "    }\n",
       "</style>\n",
       "<table border=\"1\" class=\"dataframe\">\n",
       "  <thead>\n",
       "    <tr style=\"text-align: right;\">\n",
       "      <th></th>\n",
       "      <th>Name</th>\n",
       "      <th>Mean Difference</th>\n",
       "      <th>Disparate Impact</th>\n",
       "      <th>Consistency</th>\n",
       "    </tr>\n",
       "  </thead>\n",
       "  <tbody>\n",
       "    <tr>\n",
       "      <th>0</th>\n",
       "      <td>sex</td>\n",
       "      <td>-0.00</td>\n",
       "      <td>1.00</td>\n",
       "      <td>0.68</td>\n",
       "    </tr>\n",
       "    <tr>\n",
       "      <th>1</th>\n",
       "      <td>age</td>\n",
       "      <td>-0.01</td>\n",
       "      <td>0.98</td>\n",
       "      <td>0.68</td>\n",
       "    </tr>\n",
       "  </tbody>\n",
       "</table>\n",
       "</div>"
      ],
      "text/plain": [
       "  Name  Mean Difference  Disparate Impact  Consistency\n",
       "0  sex            -0.00              1.00         0.68\n",
       "1  age            -0.01              0.98         0.68"
      ]
     },
     "execution_count": 46,
     "metadata": {},
     "output_type": "execute_result"
    }
   ],
   "source": [
    "get_fairness_metrics(dataset_og_rw2)"
   ]
  },
  {
   "cell_type": "markdown",
   "id": "private-structure",
   "metadata": {},
   "source": [
    "<a id='data_model'></a>"
   ]
  },
  {
   "cell_type": "code",
   "execution_count": 47,
   "id": "static-service",
   "metadata": {},
   "outputs": [],
   "source": [
    "dataset_transf = dataset_og_rw2.copy()"
   ]
  },
  {
   "cell_type": "markdown",
   "id": "theoretical-roberts",
   "metadata": {},
   "source": [
    "[Go to top](#main)"
   ]
  },
  {
   "cell_type": "markdown",
   "id": "cosmetic-cameroon",
   "metadata": {},
   "source": [
    "### 3. Modelling"
   ]
  },
  {
   "cell_type": "code",
   "execution_count": 48,
   "id": "signed-bowling",
   "metadata": {},
   "outputs": [],
   "source": [
    "# 70:30 split into train, test\n",
    "dataset_train, dataset_test = orig_dataset.split([0.7], shuffle=True)"
   ]
  },
  {
   "cell_type": "code",
   "execution_count": 49,
   "id": "happy-nation",
   "metadata": {},
   "outputs": [
    {
     "data": {
      "text/markdown": [
       "#### Training Dataset shape"
      ],
      "text/plain": [
       "<IPython.core.display.Markdown object>"
      ]
     },
     "metadata": {},
     "output_type": "display_data"
    },
    {
     "name": "stdout",
     "output_type": "stream",
     "text": [
      "(700, 46)\n"
     ]
    },
    {
     "data": {
      "text/markdown": [
       "#### Favorable and unfavorable labels"
      ],
      "text/plain": [
       "<IPython.core.display.Markdown object>"
      ]
     },
     "metadata": {},
     "output_type": "display_data"
    },
    {
     "name": "stdout",
     "output_type": "stream",
     "text": [
      "1.0 0.0\n"
     ]
    },
    {
     "data": {
      "text/markdown": [
       "#### Protected attribute names"
      ],
      "text/plain": [
       "<IPython.core.display.Markdown object>"
      ]
     },
     "metadata": {},
     "output_type": "display_data"
    },
    {
     "name": "stdout",
     "output_type": "stream",
     "text": [
      "['sex', 'age']\n"
     ]
    },
    {
     "data": {
      "text/markdown": [
       "#### Privileged and unprivileged protected attribute values"
      ],
      "text/plain": [
       "<IPython.core.display.Markdown object>"
      ]
     },
     "metadata": {},
     "output_type": "display_data"
    },
    {
     "name": "stdout",
     "output_type": "stream",
     "text": [
      "[array([1.]), array([1.])] [array([0.]), array([0.])]\n"
     ]
    },
    {
     "data": {
      "text/markdown": [
       "#### Dataset feature names"
      ],
      "text/plain": [
       "<IPython.core.display.Markdown object>"
      ]
     },
     "metadata": {},
     "output_type": "display_data"
    },
    {
     "name": "stdout",
     "output_type": "stream",
     "text": [
      "['month', 'credit_amount', 'investment_as_income_percentage', 'residence_since', 'age', 'number_of_credits', 'people_liable_for', 'sex', 'status=A11', 'status=A12', 'status=A13', 'credit_history=A31', 'credit_history=A32', 'credit_history=A33', 'credit_history=A34', 'purpose=A40', 'purpose=A41', 'purpose=A42', 'purpose=A43', 'purpose=A44', 'purpose=A45', 'purpose=A46', 'purpose=A48', 'purpose=A49', 'savings=A61', 'savings=A62', 'savings=A63', 'savings=A64', 'employment=A72', 'employment=A73', 'employment=A74', 'employment=A75', 'other_debtors=A102', 'other_debtors=A103', 'property=A121', 'property=A122', 'property=A123', 'installment_plans=A141', 'installment_plans=A142', 'housing=A151', 'housing=A153', 'skill_level=A171', 'skill_level=A172', 'skill_level=A173', 'telephone=A192', 'foreign_worker=A201']\n"
     ]
    }
   ],
   "source": [
    "# print out some labels, names, etc.\n",
    "display(Markdown(\"#### Training Dataset shape\"))\n",
    "print(dataset_train.features.shape)\n",
    "display(Markdown(\"#### Favorable and unfavorable labels\"))\n",
    "print(dataset_train.favorable_label, dataset_train.unfavorable_label)\n",
    "display(Markdown(\"#### Protected attribute names\"))\n",
    "print(dataset_train.protected_attribute_names)\n",
    "display(Markdown(\"#### Privileged and unprivileged protected attribute values\"))\n",
    "print(dataset_train.privileged_protected_attributes, \n",
    "      dataset_train.unprivileged_protected_attributes)\n",
    "display(Markdown(\"#### Dataset feature names\"))\n",
    "print(dataset_train.feature_names)"
   ]
  },
  {
   "cell_type": "markdown",
   "id": "fourth-arbitration",
   "metadata": {},
   "source": [
    "### Logistic Regression"
   ]
  },
  {
   "cell_type": "markdown",
   "id": "ordered-humanity",
   "metadata": {},
   "source": [
    "#### Train"
   ]
  },
  {
   "cell_type": "code",
   "execution_count": 50,
   "id": "racial-immigration",
   "metadata": {
    "scrolled": true
   },
   "outputs": [],
   "source": [
    "scale_orig = StandardScaler()\n",
    "\n",
    "# scale values, setup training data\n",
    "X_train = scale_orig.fit_transform(dataset_train.features)\n",
    "y_train = dataset_train.labels.ravel()\n",
    "w_train = dataset_train.instance_weights.ravel()\n",
    "\n",
    "# train logistic model\n",
    "logreg = LogisticRegression().fit(X_train, y_train, sample_weight=w_train)\n",
    "y_train_pred = logreg.predict(X_train) #this seems wrong"
   ]
  },
  {
   "cell_type": "code",
   "execution_count": 51,
   "id": "fiscal-surfing",
   "metadata": {},
   "outputs": [],
   "source": [
    "# dataset_train --> dataset_train_pred\n",
    "dataset_train_pred = dataset_train.copy()\n",
    "dataset_train_pred.labels = y_train_pred"
   ]
  },
  {
   "cell_type": "code",
   "execution_count": 52,
   "id": "moderate-workplace",
   "metadata": {},
   "outputs": [
    {
     "data": {
      "text/plain": [
       "0.8028571428571428"
      ]
     },
     "execution_count": 52,
     "metadata": {},
     "output_type": "execute_result"
    }
   ],
   "source": [
    "# accuracy score\n",
    "(y_train_pred == y_train).sum()/len(y_train)"
   ]
  },
  {
   "cell_type": "code",
   "execution_count": 53,
   "id": "obvious-promise",
   "metadata": {},
   "outputs": [],
   "source": [
    "def find_metrics(labels, preds, thresh=None, print_results=True):\n",
    "    if thresh == None:\n",
    "        thresh = np.mean(labels)\n",
    "    \n",
    "    y_preds = np.where(preds > thresh, 1, 0)\n",
    "    \n",
    "    bal_acc = balanced_accuracy_score(labels, y_preds)\n",
    "    acc = accuracy_score(labels, y_preds)\n",
    "    prec_score = precision_score(labels, y_preds)\n",
    "    rec_score = recall_score(labels, y_preds)\n",
    "    \n",
    "    if print_results:\n",
    "        print(\"The mean threshold of the model is %f \" % (thresh))\n",
    "        print(\"The accuracy score of the model is %s\" % acc)\n",
    "        print(\"The balanced accuracy score of the model is %s\" % bal_acc)\n",
    "        print(\"Precision: %s\" % prec_score)\n",
    "        print(\"Recall: %s\" % rec_score)\n",
    "    \n",
    "    return bal_acc, thresh"
   ]
  },
  {
   "cell_type": "markdown",
   "id": "twelve-revolution",
   "metadata": {},
   "source": [
    "#### Test"
   ]
  },
  {
   "cell_type": "code",
   "execution_count": 54,
   "id": "equipped-prophet",
   "metadata": {},
   "outputs": [],
   "source": [
    "# dataset_test --> dataset_test_pred\n",
    "dataset_test_pred = dataset_test.copy(deepcopy=True)\n",
    "X_test = scale_orig.transform(dataset_test_pred.features)\n",
    "y_test = dataset_test_pred.labels\n",
    "\n",
    "# get preds for obs being in risk group 1\n",
    "pos_ind = 1\n",
    "dataset_test_pred.scores = logreg.predict_proba(X_test)[:,pos_ind].reshape(-1,1)\n",
    "y_test_pred = dataset_test_pred.scores"
   ]
  },
  {
   "cell_type": "code",
   "execution_count": 55,
   "id": "fewer-image",
   "metadata": {},
   "outputs": [
    {
     "name": "stdout",
     "output_type": "stream",
     "text": [
      "The mean threshold of the model is 0.743333 \n",
      "The accuracy score of the model is 0.64\n",
      "The balanced accuracy score of the model is 0.6388096208724011\n",
      "Precision: 0.8362573099415205\n",
      "Recall: 0.6412556053811659\n"
     ]
    },
    {
     "data": {
      "text/plain": [
       "(0.6388096208724011, 0.7433333333333333)"
      ]
     },
     "execution_count": 55,
     "metadata": {},
     "output_type": "execute_result"
    }
   ],
   "source": [
    "find_metrics(y_test, y_test_pred)"
   ]
  },
  {
   "cell_type": "markdown",
   "id": "secondary-lunch",
   "metadata": {},
   "source": [
    "#### Find optimal classification threshold for logistic model"
   ]
  },
  {
   "cell_type": "markdown",
   "id": "informative-victor",
   "metadata": {},
   "source": [
    "#### Test dataset"
   ]
  },
  {
   "cell_type": "code",
   "execution_count": 56,
   "id": "excess-classic",
   "metadata": {},
   "outputs": [],
   "source": [
    "privileged_groups = [{'sex': 1, 'age': 1}]\n",
    "unprivileged_groups = [{'sex': 0, 'age': 0}]\n",
    "\n",
    "# select datasets\n",
    "d1 = dataset_test\n",
    "d2 = dataset_test_pred"
   ]
  },
  {
   "cell_type": "code",
   "execution_count": 57,
   "id": "expanded-reggae",
   "metadata": {},
   "outputs": [
    {
     "name": "stdout",
     "output_type": "stream",
     "text": [
      "Optimal threshold without reweighing\n",
      "------------------------------------------\n",
      "Best balanced accuracy = 0.664696\n",
      "Optimal classification threshold = 0.8514\n"
     ]
    }
   ],
   "source": [
    "num_thresh = 100\n",
    "ba_arr = np.zeros(num_thresh)\n",
    "thresh_arr = np.zeros(num_thresh)\n",
    "class_thresh_arr = np.linspace(0.01, 0.99, num_thresh)\n",
    "\n",
    "for idx, class_thresh in enumerate(class_thresh_arr):\n",
    "    # labels = y_test, scores = y_preds\n",
    "    fav_inds = d2.scores > class_thresh\n",
    "    d2.labels[fav_inds] = d2.favorable_label\n",
    "    d2.labels[~fav_inds] = d2.unfavorable_label\n",
    "\n",
    "    metrics_valid = ClassificationMetric(d1, d2, \n",
    "                                         unprivileged_groups=unprivileged_groups,\n",
    "                                         privileged_groups=privileged_groups)\n",
    "\n",
    "    thresh_arr[idx] = class_thresh\n",
    "    ba_arr[idx] = 0.5*(metrics_valid.true_positive_rate()+metrics_valid.true_negative_rate())\n",
    "    \n",
    "# best threshold is where accuracy is max\n",
    "best_ind = np.where(ba_arr == np.max(ba_arr))[0][0]\n",
    "best_bal_acc = np.max(ba_arr)\n",
    "best_class_thresh = class_thresh_arr[best_ind]\n",
    "\n",
    "print(\"Optimal threshold without reweighing\")\n",
    "print(\"------------------------------------------\")\n",
    "print(\"Best balanced accuracy = %.6f\" % np.max(ba_arr))\n",
    "print(\"Optimal classification threshold = %.4f\" % best_class_thresh)"
   ]
  },
  {
   "cell_type": "markdown",
   "id": "expensive-quilt",
   "metadata": {},
   "source": [
    "#### Train on transformed data"
   ]
  },
  {
   "cell_type": "code",
   "execution_count": 58,
   "id": "nasty-dollar",
   "metadata": {},
   "outputs": [],
   "source": [
    "# 70:30 split into train, test\n",
    "dataset_transf_train, dataset_transf_test = dataset_transf.split([0.7], shuffle=True)"
   ]
  },
  {
   "cell_type": "markdown",
   "id": "welsh-invitation",
   "metadata": {},
   "source": [
    "#### Train"
   ]
  },
  {
   "cell_type": "code",
   "execution_count": 59,
   "id": "elder-ticket",
   "metadata": {
    "scrolled": true
   },
   "outputs": [],
   "source": [
    "scale_transf = StandardScaler()\n",
    "X_train_transf = scale_transf.fit_transform(dataset_transf_train.features)\n",
    "y_train_transf = dataset_transf_train.labels.ravel()\n",
    "w_train_transf = dataset_transf_train.instance_weights.ravel()\n",
    "\n",
    "logreg = LogisticRegression().fit(X_train_transf, y_train_transf, sample_weight=w_train_transf)\n",
    "y_train_pred = logreg.predict(X_train_transf)"
   ]
  },
  {
   "cell_type": "markdown",
   "id": "drawn-information",
   "metadata": {},
   "source": [
    "#### Test"
   ]
  },
  {
   "cell_type": "code",
   "execution_count": 60,
   "id": "blessed-security",
   "metadata": {},
   "outputs": [],
   "source": [
    "dataset_transf_test_pred = dataset_transf_test.copy(deepcopy=True)\n",
    "\n",
    "X_test_transf = scale_transf.fit_transform(dataset_transf_test_pred.features)\n",
    "y_test_transf = dataset_transf_test_pred.labels\n",
    "\n",
    "# prob of predicting obs to be in risk group 1\n",
    "pos_ind = 1\n",
    "dataset_transf_test_pred.scores = logreg.predict_proba(X_test_transf)[:,pos_ind].reshape(-1,1)\n",
    "y_test_preds_transf = dataset_transf_test_pred.scores"
   ]
  },
  {
   "cell_type": "code",
   "execution_count": 61,
   "id": "distant-embassy",
   "metadata": {},
   "outputs": [
    {
     "name": "stdout",
     "output_type": "stream",
     "text": [
      "The mean threshold of the model is 0.700000 \n",
      "The accuracy score of the model is 0.7\n",
      "The balanced accuracy score of the model is 0.6841269841269841\n",
      "Precision: 0.8260869565217391\n",
      "Recall: 0.7238095238095238\n"
     ]
    },
    {
     "data": {
      "text/plain": [
       "(0.6841269841269841, 0.7)"
      ]
     },
     "execution_count": 61,
     "metadata": {},
     "output_type": "execute_result"
    }
   ],
   "source": [
    "find_metrics(y_test_transf, y_test_preds_transf)"
   ]
  },
  {
   "cell_type": "markdown",
   "id": "ordered-diploma",
   "metadata": {},
   "source": [
    "<a id='tradeoffs'></a>"
   ]
  },
  {
   "cell_type": "markdown",
   "id": "sized-topic",
   "metadata": {},
   "source": [
    "[Go to top](#main)"
   ]
  },
  {
   "cell_type": "markdown",
   "id": "wicked-arthur",
   "metadata": {},
   "source": [
    "### 4. Tradeoffs"
   ]
  },
  {
   "cell_type": "code",
   "execution_count": 62,
   "id": "liable-atlas",
   "metadata": {},
   "outputs": [],
   "source": [
    "d1 = dataset_test\n",
    "d2 = dataset_test_pred"
   ]
  },
  {
   "cell_type": "code",
   "execution_count": 63,
   "id": "fleet-dating",
   "metadata": {
    "scrolled": true
   },
   "outputs": [
    {
     "data": {
      "text/markdown": [
       "#### Predictions from original testing data"
      ],
      "text/plain": [
       "<IPython.core.display.Markdown object>"
      ]
     },
     "metadata": {},
     "output_type": "display_data"
    },
    {
     "name": "stderr",
     "output_type": "stream",
     "text": [
      "100%|██████████| 100/100 [00:00<00:00, 896.34it/s]"
     ]
    },
    {
     "name": "stdout",
     "output_type": "stream",
     "text": [
      "Classification threshold used = 0.8514\n"
     ]
    },
    {
     "name": "stderr",
     "output_type": "stream",
     "text": [
      "\n"
     ]
    }
   ],
   "source": [
    "display(Markdown(\"#### Predictions from original testing data\"))\n",
    "bal_acc_arr = []\n",
    "mean_diff_arr = []\n",
    "disp_imp_arr = []\n",
    "\n",
    "print(\"Classification threshold used = %.4f\" % best_class_thresh)\n",
    "for thresh in tqdm(class_thresh_arr):\n",
    "    if thresh == best_class_thresh:\n",
    "        disp = True\n",
    "    else:\n",
    "        disp = False\n",
    "    \n",
    "    fav_inds = d2.scores > thresh\n",
    "    d2.labels[fav_inds] = d2.favorable_label\n",
    "    d2.labels[~fav_inds] = d2.unfavorable_label\n",
    "    \n",
    "    metrics_test = ClassificationMetric(d1, d2,\n",
    "                                        unprivileged_groups=unprivileged_groups,\n",
    "                                        privileged_groups=privileged_groups)\n",
    "    \n",
    "    bal_acc = 0.5*(metrics_test.true_positive_rate()+metrics_test.true_negative_rate())\n",
    "    bal_acc_arr.append(bal_acc)\n",
    "    \n",
    "    mean_diff_arr.append(metrics_test.mean_difference())    \n",
    "    disp_imp_arr.append(metrics_test.disparate_impact())"
   ]
  },
  {
   "cell_type": "markdown",
   "id": "lyric-indie",
   "metadata": {},
   "source": [
    "#### Transformed dataset"
   ]
  },
  {
   "cell_type": "code",
   "execution_count": 64,
   "id": "current-turkey",
   "metadata": {},
   "outputs": [],
   "source": [
    "# select datasets\n",
    "d1 = dataset_transf_test\n",
    "d2 = dataset_transf_test_pred"
   ]
  },
  {
   "cell_type": "code",
   "execution_count": 65,
   "id": "preceding-general",
   "metadata": {
    "scrolled": true
   },
   "outputs": [
    {
     "data": {
      "text/markdown": [
       "#### Predictions from transformed testing data"
      ],
      "text/plain": [
       "<IPython.core.display.Markdown object>"
      ]
     },
     "metadata": {},
     "output_type": "display_data"
    },
    {
     "name": "stderr",
     "output_type": "stream",
     "text": [
      "100%|██████████| 100/100 [00:00<00:00, 977.32it/s]"
     ]
    },
    {
     "name": "stdout",
     "output_type": "stream",
     "text": [
      "Classification threshold used = 0.8514\n"
     ]
    },
    {
     "name": "stderr",
     "output_type": "stream",
     "text": [
      "\n"
     ]
    }
   ],
   "source": [
    "display(Markdown(\"#### Predictions from transformed testing data\"))\n",
    "bal_acc_arr_transf = []\n",
    "mean_diff_arr_transf = []\n",
    "disp_imp_arr_transf = []\n",
    "\n",
    "print(\"Classification threshold used = %.4f\" % best_class_thresh)\n",
    "for thresh in tqdm(class_thresh_arr):\n",
    "    \n",
    "    if thresh == best_class_thresh:\n",
    "        disp = True\n",
    "    else:\n",
    "        disp = False\n",
    "    \n",
    "    fav_inds = dataset_transf_test_pred.scores > thresh\n",
    "        \n",
    "    # broadcast labels\n",
    "    d2.labels[fav_inds] = d2.favorable_label\n",
    "    d2.labels[~fav_inds] = d2.unfavorable_label\n",
    "    \n",
    "    metrics_test_transf = ClassificationMetric(d1, d2, \n",
    "                                               unprivileged_groups=unprivileged_groups,\n",
    "                                               privileged_groups=privileged_groups)\n",
    "\n",
    "    bal_acc = 0.5*(metrics_test_transf.true_positive_rate()+metrics_test_transf.true_negative_rate())\n",
    "    bal_acc_arr_transf.append(bal_acc)\n",
    "\n",
    "    mean_diff_arr_transf.append(metrics_test_transf.mean_difference())\n",
    "    disp_imp_arr_transf.append(metrics_test_transf.disparate_impact())"
   ]
  },
  {
   "cell_type": "markdown",
   "id": "organizational-corpus",
   "metadata": {},
   "source": [
    "#### Visualize tradeoffs"
   ]
  },
  {
   "cell_type": "code",
   "execution_count": 66,
   "id": "monthly-piano",
   "metadata": {},
   "outputs": [],
   "source": [
    "sns.set()"
   ]
  },
  {
   "cell_type": "code",
   "execution_count": 67,
   "id": "sixth-quarterly",
   "metadata": {},
   "outputs": [],
   "source": [
    "# find points to annotate\n",
    "best_bal_acc = np.max(bal_acc_arr)\n",
    "best_class_thresh = class_thresh_arr[np.where(bal_acc_arr == best_bal_acc)[0][0]]"
   ]
  },
  {
   "cell_type": "code",
   "execution_count": 68,
   "id": "spiritual-english",
   "metadata": {},
   "outputs": [],
   "source": [
    "best_mean_diff = mean_diff_arr[np.where(class_thresh_arr == np.float64(best_class_thresh))[0][0]]\n",
    "\n"
   ]
  },
  {
   "cell_type": "code",
   "execution_count": 69,
   "id": "russian-silicon",
   "metadata": {},
   "outputs": [],
   "source": [
    "best_mean_diff_transf = mean_diff_arr_transf[np.where(class_thresh_arr == np.float64(best_class_thresh))[0][0]]\n",
    "\n"
   ]
  },
  {
   "cell_type": "code",
   "execution_count": 70,
   "id": "former-carbon",
   "metadata": {},
   "outputs": [],
   "source": [
    "def plot_tradeoffs(thresholds_array, accuracy_array, fairness_array, transformed_fairness_array, ax, name):\n",
    "    ax.plot(thresholds_array, accuracy_array)\n",
    "    ax.set_xlabel('Classification Thresholds', fontsize=10.5)\n",
    "    ax.set_ylabel('Balanced Accuracy', color='b', fontsize=12, labelpad=15)\n",
    "    # best_class_thresh used as global variable\n",
    "    ax.axvline(best_class_thresh, color='k', linestyle=':')\n",
    "\n",
    "    ax1 = ax.twinx()\n",
    "    ax1.plot(thresholds_array, fairness_array, color='r', alpha=0.5)\n",
    "    ax1.set_ylabel(name, color='r', fontsize=12, rotation=-90, labelpad=15)\n",
    "    ax1.plot(thresholds_array, transformed_fairness_array, color='r')\n",
    "    \n",
    "    ax.set_title(name, fontsize=16)\n",
    "    ax1.legend(['Original', 'Transformed'], loc='lower left')\n",
    "    ax1.grid(True)"
   ]
  },
  {
   "cell_type": "code",
   "execution_count": 71,
   "id": "extensive-renaissance",
   "metadata": {},
   "outputs": [
    {
     "data": {
      "image/png": "[encoded data removed]",
      "text/plain": [
       "<Figure size 576x864 with 4 Axes>"
      ]
     },
     "metadata": {},
     "output_type": "display_data"
    }
   ],
   "source": [
    "fig, ax = plt.subplots(ncols=1, nrows=2, figsize=(8,12))\n",
    "\n",
    "plot_tradeoffs(class_thresh_arr, bal_acc_arr, mean_diff_arr, mean_diff_arr_transf, ax=ax[0], name='Mean Difference')\n",
    "\n",
    "plot_tradeoffs(class_thresh_arr, bal_acc_arr, disp_imp_arr, disp_imp_arr_transf, ax=ax[1], name='Disparate Impact')\n",
    "\n",
    "# for ax in fig.get_axes():\n",
    "#     ax.label_outer()\n",
    "\n",
    "fig.tight_layout()\n",
    "# fig.subplots_adjust(hspace=0.25)\n",
    "fig.suptitle('Tradeoff between Balanced Accuracy and Fairness for Logistic Regression \\n Dataset: German Credit (1994)', \n",
    "             x=0.5, y=1.05, size=20)\n",
    "plt.show()"
   ]
  },
  {
   "cell_type": "markdown",
   "id": "alert-circle",
   "metadata": {},
   "source": [
    "[Go to top](#main)"
   ]
  }
 ],
 "metadata": {
  "kernelspec": {
   "display_name": "Python 3",
   "language": "python",
   "name": "python3"
  },
  "language_info": {
   "codemirror_mode": {
    "name": "ipython",
    "version": 3
   },
   "file_extension": ".py",
   "mimetype": "text/x-python",
   "name": "python",
   "nbconvert_exporter": "python",
   "pygments_lexer": "ipython3",
   "version": "3.6.12"
  }
 },
 "nbformat": 4,
 "nbformat_minor": 5
}
